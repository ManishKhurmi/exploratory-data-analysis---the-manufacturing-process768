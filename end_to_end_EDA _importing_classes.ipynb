{
 "cells": [
  {
   "cell_type": "markdown",
   "metadata": {},
   "source": [
    "# Exploratory Data Analysis - The Manufacturing Process"
   ]
  },
  {
   "cell_type": "markdown",
   "metadata": {},
   "source": [
    "### what is my aim with EDA? \n",
    "- Explore the dataset, understand what might be driving the machine failures.\n",
    "- forecast when the machine might fail."
   ]
  },
  {
   "cell_type": "code",
   "execution_count": 1,
   "metadata": {},
   "outputs": [],
   "source": [
    "# My classes \n",
    "from manufacturing_eda_classes import LoadData, DataFrameInfo, DataTransform, Plotter, Models"
   ]
  },
  {
   "cell_type": "code",
   "execution_count": 2,
   "metadata": {},
   "outputs": [],
   "source": [
    "import matplotlib.pyplot as plt"
   ]
  },
  {
   "cell_type": "markdown",
   "metadata": {},
   "source": [
    "# Table of Contents\n",
    "\n",
    "1. [The Data Set](#intro)\n",
    "2. [Remove / impute missing values](#missing-values)\n",
    "    1. [thought process]\n",
    "3. [Investigating for Skewness in the data](#skew)\n",
    "    1. [thought process]\n",
    "4. [Removing Outliers from the Data](#outliers)\n",
    "    1. [thought process]\n",
    "5. [# Investigating for Collinearity (Dropping overly correlated columns)](#collinearity)\n",
    "    1. OLS & VIF \n",
    "    2. Chi-Squared Tests\n",
    "    3. Logistic Model \n"
   ]
  },
  {
   "cell_type": "markdown",
   "metadata": {},
   "source": [
    "## 1) The Data Set\n",
    "<a id=\"intro\"></a>"
   ]
  },
  {
   "cell_type": "code",
   "execution_count": 3,
   "metadata": {},
   "outputs": [],
   "source": [
    "# # Load the Data into a data frame \n",
    "# failure_data = pd.read_csv(\"failure_data.csv\")\n",
    "\n",
    "# # head of df \n",
    "# failure_data.head(3)\n"
   ]
  },
  {
   "cell_type": "code",
   "execution_count": 4,
   "metadata": {},
   "outputs": [
    {
     "name": "stdout",
     "output_type": "stream",
     "text": [
      "File found: /Users/manishkhurmi/Desktop/EDA_project/failure_data.csv\n",
      "DataFrame loaded successfully from /Users/manishkhurmi/Desktop/EDA_project/failure_data.csv.\n"
     ]
    },
    {
     "data": {
      "text/html": [
       "<div>\n",
       "<style scoped>\n",
       "    .dataframe tbody tr th:only-of-type {\n",
       "        vertical-align: middle;\n",
       "    }\n",
       "\n",
       "    .dataframe tbody tr th {\n",
       "        vertical-align: top;\n",
       "    }\n",
       "\n",
       "    .dataframe thead th {\n",
       "        text-align: right;\n",
       "    }\n",
       "</style>\n",
       "<table border=\"1\" class=\"dataframe\">\n",
       "  <thead>\n",
       "    <tr style=\"text-align: right;\">\n",
       "      <th></th>\n",
       "      <th>Unnamed: 0</th>\n",
       "      <th>UDI</th>\n",
       "      <th>Product ID</th>\n",
       "      <th>Type</th>\n",
       "      <th>Air temperature [K]</th>\n",
       "      <th>Process temperature [K]</th>\n",
       "      <th>Rotational speed [rpm]</th>\n",
       "      <th>Torque [Nm]</th>\n",
       "      <th>Tool wear [min]</th>\n",
       "      <th>Machine failure</th>\n",
       "      <th>TWF</th>\n",
       "      <th>HDF</th>\n",
       "      <th>PWF</th>\n",
       "      <th>OSF</th>\n",
       "      <th>RNF</th>\n",
       "    </tr>\n",
       "  </thead>\n",
       "  <tbody>\n",
       "    <tr>\n",
       "      <th>0</th>\n",
       "      <td>0</td>\n",
       "      <td>3416</td>\n",
       "      <td>L50595</td>\n",
       "      <td>L</td>\n",
       "      <td>301.4</td>\n",
       "      <td>310.4</td>\n",
       "      <td>1579</td>\n",
       "      <td>36.9</td>\n",
       "      <td>133.0</td>\n",
       "      <td>0</td>\n",
       "      <td>0</td>\n",
       "      <td>0</td>\n",
       "      <td>0</td>\n",
       "      <td>0</td>\n",
       "      <td>0</td>\n",
       "    </tr>\n",
       "    <tr>\n",
       "      <th>1</th>\n",
       "      <td>1</td>\n",
       "      <td>7130</td>\n",
       "      <td>L54309</td>\n",
       "      <td>L</td>\n",
       "      <td>300.6</td>\n",
       "      <td>310.0</td>\n",
       "      <td>1635</td>\n",
       "      <td>31.0</td>\n",
       "      <td>107.0</td>\n",
       "      <td>0</td>\n",
       "      <td>0</td>\n",
       "      <td>0</td>\n",
       "      <td>0</td>\n",
       "      <td>0</td>\n",
       "      <td>0</td>\n",
       "    </tr>\n",
       "    <tr>\n",
       "      <th>2</th>\n",
       "      <td>2</td>\n",
       "      <td>2320</td>\n",
       "      <td>M17179</td>\n",
       "      <td>M</td>\n",
       "      <td>299.2</td>\n",
       "      <td>308.8</td>\n",
       "      <td>1700</td>\n",
       "      <td>33.5</td>\n",
       "      <td>185.0</td>\n",
       "      <td>0</td>\n",
       "      <td>0</td>\n",
       "      <td>0</td>\n",
       "      <td>0</td>\n",
       "      <td>0</td>\n",
       "      <td>0</td>\n",
       "    </tr>\n",
       "  </tbody>\n",
       "</table>\n",
       "</div>"
      ],
      "text/plain": [
       "   Unnamed: 0   UDI Product ID Type  Air temperature [K]  \\\n",
       "0           0  3416     L50595    L                301.4   \n",
       "1           1  7130     L54309    L                300.6   \n",
       "2           2  2320     M17179    M                299.2   \n",
       "\n",
       "   Process temperature [K]  Rotational speed [rpm]  Torque [Nm]  \\\n",
       "0                    310.4                    1579         36.9   \n",
       "1                    310.0                    1635         31.0   \n",
       "2                    308.8                    1700         33.5   \n",
       "\n",
       "   Tool wear [min]  Machine failure  TWF  HDF  PWF  OSF  RNF  \n",
       "0            133.0                0    0    0    0    0    0  \n",
       "1            107.0                0    0    0    0    0    0  \n",
       "2            185.0                0    0    0    0    0    0  "
      ]
     },
     "execution_count": 4,
     "metadata": {},
     "output_type": "execute_result"
    }
   ],
   "source": [
    "load_data = LoadData('failure_data.csv')  # Instantiate the class with your file name\n",
    "failure_data_df = load_data.df  # Access the loaded DataFrame\n",
    "failure_data_df.head(3)"
   ]
  },
  {
   "cell_type": "code",
   "execution_count": 5,
   "metadata": {},
   "outputs": [
    {
     "data": {
      "text/plain": [
       "Index(['Unnamed: 0', 'UDI', 'Product ID', 'Type', 'Air temperature [K]',\n",
       "       'Process temperature [K]', 'Rotational speed [rpm]', 'Torque [Nm]',\n",
       "       'Tool wear [min]', 'Machine failure', 'TWF', 'HDF', 'PWF', 'OSF',\n",
       "       'RNF'],\n",
       "      dtype='object')"
      ]
     },
     "execution_count": 5,
     "metadata": {},
     "output_type": "execute_result"
    }
   ],
   "source": [
    "info = DataFrameInfo(failure_data_df)\n",
    "info.column_names()"
   ]
  },
  {
   "cell_type": "markdown",
   "metadata": {},
   "source": [
    "Machine failure dataset data dictionary\n",
    "\n",
    "- **UID**: Unique identifier of the machining session\n",
    "- **product_ID**: Product specific serial number\n",
    "- **Type**: Quality of the product being created L, M, or H, for low, medium and high quality products\n",
    "- **air temperature [K]**: Average air temperature in the room during the process in Kelvin\n",
    "- **process temperature [K]**:  Average air temperature the machine was operating at during production in Kelvin\n",
    "- **Rotational speed [rpm]**: Average revolutions per minute the tool was operating at\n",
    "- **Torque [Nm]**: Torque generated by the tool in Newton-meters\n",
    "- **Tool wear [min]**: The current minutes of wear on the tool in minutes. H, M and L product manufacturing cause 5/3/2 minutes of tool wear. \n",
    "- **machine failure**: Label that indicates, whether the machine failed this particular run\n",
    "- **TWF (tool wear failure)**: Failure in the process due to the tool wearing out\n",
    "- **head dissipation failure (HDF)**: Lack of heat dissipation caused the process failure\n",
    "- **power failure (PWF)**: Failure in the process due to lack of power from the tool to complete the process\n",
    "- **overstrain failure (OSF)**: Failure due to the tool overstraining during the process\n",
    "- **random failures (RNF)**: Failures in the process which couldn't be categorised"
   ]
  },
  {
   "cell_type": "code",
   "execution_count": 6,
   "metadata": {},
   "outputs": [
    {
     "name": "stdout",
     "output_type": "stream",
     "text": [
      "UDI is unique to every row of the data: True\n"
     ]
    }
   ],
   "source": [
    "# Is UDI a unique key for the data?\n",
    "info = DataFrameInfo(failure_data_df)\n",
    "print(f'UDI is unique to every row of the data: {info.unique_value_count('UDI') == len(failure_data_df)}')"
   ]
  },
  {
   "cell_type": "markdown",
   "metadata": {},
   "source": [
    "- Drop `Unnamed: 0` is an unwanted index.\n",
    "- Drop `Product ID` as we have `UDI`"
   ]
  },
  {
   "cell_type": "code",
   "execution_count": 7,
   "metadata": {},
   "outputs": [
    {
     "name": "stdout",
     "output_type": "stream",
     "text": [
      "Column List: \n",
      " Index(['Unnamed: 0', 'UDI', 'Product ID', 'Type', 'Air temperature [K]',\n",
      "       'Process temperature [K]', 'Rotational speed [rpm]', 'Torque [Nm]',\n",
      "       'Tool wear [min]', 'Machine failure', 'TWF', 'HDF', 'PWF', 'OSF',\n",
      "       'RNF'],\n",
      "      dtype='object')\n",
      "\n",
      "Column List After dropping df\n",
      ": Index(['UDI', 'Type', 'Air temperature [K]', 'Process temperature [K]',\n",
      "       'Rotational speed [rpm]', 'Torque [Nm]', 'Tool wear [min]',\n",
      "       'Machine failure', 'TWF', 'HDF', 'PWF', 'OSF', 'RNF'],\n",
      "      dtype='object')\n"
     ]
    },
    {
     "data": {
      "text/html": [
       "<div>\n",
       "<style scoped>\n",
       "    .dataframe tbody tr th:only-of-type {\n",
       "        vertical-align: middle;\n",
       "    }\n",
       "\n",
       "    .dataframe tbody tr th {\n",
       "        vertical-align: top;\n",
       "    }\n",
       "\n",
       "    .dataframe thead th {\n",
       "        text-align: right;\n",
       "    }\n",
       "</style>\n",
       "<table border=\"1\" class=\"dataframe\">\n",
       "  <thead>\n",
       "    <tr style=\"text-align: right;\">\n",
       "      <th></th>\n",
       "      <th>UDI</th>\n",
       "      <th>Type</th>\n",
       "      <th>Air temperature [K]</th>\n",
       "      <th>Process temperature [K]</th>\n",
       "      <th>Rotational speed [rpm]</th>\n",
       "      <th>Torque [Nm]</th>\n",
       "      <th>Tool wear [min]</th>\n",
       "      <th>Machine failure</th>\n",
       "      <th>TWF</th>\n",
       "      <th>HDF</th>\n",
       "      <th>PWF</th>\n",
       "      <th>OSF</th>\n",
       "      <th>RNF</th>\n",
       "    </tr>\n",
       "  </thead>\n",
       "  <tbody>\n",
       "    <tr>\n",
       "      <th>0</th>\n",
       "      <td>3416</td>\n",
       "      <td>L</td>\n",
       "      <td>301.4</td>\n",
       "      <td>310.4</td>\n",
       "      <td>1579</td>\n",
       "      <td>36.9</td>\n",
       "      <td>133.0</td>\n",
       "      <td>0</td>\n",
       "      <td>0</td>\n",
       "      <td>0</td>\n",
       "      <td>0</td>\n",
       "      <td>0</td>\n",
       "      <td>0</td>\n",
       "    </tr>\n",
       "    <tr>\n",
       "      <th>1</th>\n",
       "      <td>7130</td>\n",
       "      <td>L</td>\n",
       "      <td>300.6</td>\n",
       "      <td>310.0</td>\n",
       "      <td>1635</td>\n",
       "      <td>31.0</td>\n",
       "      <td>107.0</td>\n",
       "      <td>0</td>\n",
       "      <td>0</td>\n",
       "      <td>0</td>\n",
       "      <td>0</td>\n",
       "      <td>0</td>\n",
       "      <td>0</td>\n",
       "    </tr>\n",
       "    <tr>\n",
       "      <th>2</th>\n",
       "      <td>2320</td>\n",
       "      <td>M</td>\n",
       "      <td>299.2</td>\n",
       "      <td>308.8</td>\n",
       "      <td>1700</td>\n",
       "      <td>33.5</td>\n",
       "      <td>185.0</td>\n",
       "      <td>0</td>\n",
       "      <td>0</td>\n",
       "      <td>0</td>\n",
       "      <td>0</td>\n",
       "      <td>0</td>\n",
       "      <td>0</td>\n",
       "    </tr>\n",
       "  </tbody>\n",
       "</table>\n",
       "</div>"
      ],
      "text/plain": [
       "    UDI Type  Air temperature [K]  Process temperature [K]  \\\n",
       "0  3416    L                301.4                    310.4   \n",
       "1  7130    L                300.6                    310.0   \n",
       "2  2320    M                299.2                    308.8   \n",
       "\n",
       "   Rotational speed [rpm]  Torque [Nm]  Tool wear [min]  Machine failure  TWF  \\\n",
       "0                    1579         36.9            133.0                0    0   \n",
       "1                    1635         31.0            107.0                0    0   \n",
       "2                    1700         33.5            185.0                0    0   \n",
       "\n",
       "   HDF  PWF  OSF  RNF  \n",
       "0    0    0    0    0  \n",
       "1    0    0    0    0  \n",
       "2    0    0    0    0  "
      ]
     },
     "execution_count": 7,
     "metadata": {},
     "output_type": "execute_result"
    }
   ],
   "source": [
    "# Drop columns if they exist \n",
    "dt = DataTransform(failure_data_df)\n",
    "failure_data_df = dt.drop_column(vars=['Unnamed: 0', 'Product ID'])\n",
    "\n",
    "failure_data_df.head(3)"
   ]
  },
  {
   "cell_type": "markdown",
   "metadata": {},
   "source": []
  },
  {
   "cell_type": "code",
   "execution_count": 8,
   "metadata": {},
   "outputs": [
    {
     "data": {
      "text/plain": [
       "UDI                         3416\n",
       "Type                           L\n",
       "Air temperature [K]        301.4\n",
       "Process temperature [K]    310.4\n",
       "Rotational speed [rpm]      1579\n",
       "Torque [Nm]                 36.9\n",
       "Tool wear [min]            133.0\n",
       "Machine failure                0\n",
       "TWF                            0\n",
       "HDF                            0\n",
       "PWF                            0\n",
       "OSF                            0\n",
       "RNF                            0\n",
       "Name: 0, dtype: object"
      ]
     },
     "execution_count": 8,
     "metadata": {},
     "output_type": "execute_result"
    }
   ],
   "source": [
    "# Check the first row of the Data \n",
    "info = DataFrameInfo(failure_data_df)\n",
    "# First row\n",
    "info.return_first_row()"
   ]
  },
  {
   "cell_type": "code",
   "execution_count": 9,
   "metadata": {},
   "outputs": [
    {
     "name": "stdout",
     "output_type": "stream",
     "text": [
      "The shape of the data is: (10000, 13)\n",
      "\n",
      "\n",
      "Initial information about the columns of the data: \n",
      "<class 'pandas.core.frame.DataFrame'>\n",
      "RangeIndex: 10000 entries, 0 to 9999\n",
      "Data columns (total 13 columns):\n",
      " #   Column                   Non-Null Count  Dtype  \n",
      "---  ------                   --------------  -----  \n",
      " 0   UDI                      10000 non-null  int64  \n",
      " 1   Type                     10000 non-null  object \n",
      " 2   Air temperature [K]      9162 non-null   float64\n",
      " 3   Process temperature [K]  9119 non-null   float64\n",
      " 4   Rotational speed [rpm]   10000 non-null  int64  \n",
      " 5   Torque [Nm]              10000 non-null  float64\n",
      " 6   Tool wear [min]          9516 non-null   float64\n",
      " 7   Machine failure          10000 non-null  int64  \n",
      " 8   TWF                      10000 non-null  int64  \n",
      " 9   HDF                      10000 non-null  int64  \n",
      " 10  PWF                      10000 non-null  int64  \n",
      " 11  OSF                      10000 non-null  int64  \n",
      " 12  RNF                      10000 non-null  int64  \n",
      "dtypes: float64(4), int64(8), object(1)\n",
      "memory usage: 1015.8+ KB\n",
      "None\n"
     ]
    }
   ],
   "source": [
    "# Initial information about the data \n",
    "print(f'The shape of the data is: {info.return_shape()}')\n",
    "\n",
    "print('\\n')\n",
    "print(f'Initial information about the columns of the data: ')\n",
    "print(info.return_info())\n",
    "\n",
    "# transform.return_info()"
   ]
  },
  {
   "cell_type": "code",
   "execution_count": 10,
   "metadata": {},
   "outputs": [
    {
     "name": "stdout",
     "output_type": "stream",
     "text": [
      "Categorical variables: ['Machine failure', 'TWF', 'HDF', 'PWF', 'OSF', 'RNF']\n"
     ]
    }
   ],
   "source": [
    "# Categoric variables \n",
    "categorical_vars = ['Machine failure', 'TWF', 'HDF', 'PWF', 'OSF','RNF']\n",
    "print(f'Categorical variables: {categorical_vars}')"
   ]
  },
  {
   "cell_type": "markdown",
   "metadata": {},
   "source": [
    "Change the `Dtype` label in the DataFrame to categorical for the above variables"
   ]
  },
  {
   "cell_type": "code",
   "execution_count": 11,
   "metadata": {},
   "outputs": [],
   "source": [
    "# #Data Transform Methods\n",
    "# dt = DataTransform(failure_data)\n",
    "\n",
    "# # TODO: refactor \n",
    "# # Applying the `categorical` data label to the relevant columns \n",
    "# categorical_columns = ['Machine failure', 'TWF', 'HDF', 'PWF', 'OSF','RNF']\n",
    "\n",
    "# for i in categorical_columns:\n",
    "#     failure_data_v1= dt.convert_column_to_category(i)\n",
    "#     # print(failure_data.info())\n",
    "# print(failure_data_v1.info())"
   ]
  },
  {
   "cell_type": "code",
   "execution_count": 12,
   "metadata": {},
   "outputs": [
    {
     "name": "stdout",
     "output_type": "stream",
     "text": [
      "`Type` contains the following unique variables: ['L' 'M' 'H']\n"
     ]
    }
   ],
   "source": [
    "print(f'`Type` contains the following unique variables: {failure_data_df['Type'].unique()}')"
   ]
  },
  {
   "cell_type": "markdown",
   "metadata": {},
   "source": [
    "Convert `Type` to dummy variables.\n",
    "- Motivation: handling categorical data to be used in statistical models e.g. Logit Model or Machine Learning Models."
   ]
  },
  {
   "cell_type": "code",
   "execution_count": 13,
   "metadata": {},
   "outputs": [
    {
     "name": "stdout",
     "output_type": "stream",
     "text": [
      "\n",
      "Columns After concatination: \n",
      "Index(['UDI', 'Type', 'Air temperature [K]', 'Process temperature [K]',\n",
      "       'Rotational speed [rpm]', 'Torque [Nm]', 'Tool wear [min]',\n",
      "       'Machine failure', 'TWF', 'HDF', 'PWF', 'OSF', 'RNF', 'H', 'L', 'M'],\n",
      "      dtype='object')\n"
     ]
    }
   ],
   "source": [
    "dt = DataTransform(failure_data_df)\n",
    "type_dummy_df = dt.create_dummies_from_column('Type')\n",
    "failure_data_df = dt.concat_dataframes(type_dummy_df)\n",
    "\n",
    "info = DataFrameInfo(failure_data_df)\n",
    "print(f\"\\nColumns After concatination: \\n{info.column_names()}\")"
   ]
  },
  {
   "cell_type": "code",
   "execution_count": 14,
   "metadata": {},
   "outputs": [],
   "source": [
    "# # rename data set \n",
    "# failure_data = failure_data_v3"
   ]
  },
  {
   "cell_type": "code",
   "execution_count": 15,
   "metadata": {},
   "outputs": [],
   "source": [
    "# # export df \n",
    "# failure_data.to_csv('failure_data_step_1.csv', index = False)"
   ]
  },
  {
   "cell_type": "markdown",
   "metadata": {},
   "source": [
    "## 2) Remove / impute missing values \n",
    "<a id=\"missing-values\"></a>"
   ]
  },
  {
   "cell_type": "code",
   "execution_count": 16,
   "metadata": {},
   "outputs": [],
   "source": [
    "# failure_data = pd.read_csv('failure_data_step_1.csv')"
   ]
  },
  {
   "cell_type": "code",
   "execution_count": 17,
   "metadata": {},
   "outputs": [
    {
     "name": "stdout",
     "output_type": "stream",
     "text": [
      "Filter for vars with missing data\n",
      "Percentage of Missing Data(%): \n"
     ]
    },
    {
     "data": {
      "text/plain": [
       "Air temperature [K]        8.38\n",
       "Process temperature [K]    8.81\n",
       "Tool wear [min]            4.84\n",
       "dtype: float64"
      ]
     },
     "execution_count": 17,
     "metadata": {},
     "output_type": "execute_result"
    }
   ],
   "source": [
    "# Khurmi\n",
    "\n",
    "info = DataFrameInfo(failure_data_df)\n",
    "\n",
    "percentage_of_null = info.percentage_of_null() \n",
    "bool_only_columns_with_missing_values = info.percentage_of_null() > 0 \n",
    "\n",
    "print('Filter for vars with missing data')\n",
    "print('Percentage of Missing Data(%): ')\n",
    "\n",
    "percentage_of_null[bool_only_columns_with_missing_values]"
   ]
  },
  {
   "cell_type": "markdown",
   "metadata": {},
   "source": [
    "Consider imputation for all 3 variables.\n",
    "\n",
    "reasoning:\n",
    "- Tool wear [min] is likely to be a critical variable for `Machine failure`, despite only 4% NULL values, consider imputation rather than dropping the data.\n",
    "- Air temperature [K] & Process temperature [K] have moderate amount of `NULL` vallues. Consider imputation to prevent minimal loss of relevant data.\n"
   ]
  },
  {
   "cell_type": "markdown",
   "metadata": {},
   "source": [
    "#### Air Temperature: imputing missing values "
   ]
  },
  {
   "cell_type": "code",
   "execution_count": 18,
   "metadata": {},
   "outputs": [
    {
     "data": {
      "image/png": "[encoded data removed]",
      "text/plain": [
       "<Figure size 1200x600 with 2 Axes>"
      ]
     },
     "metadata": {},
     "output_type": "display_data"
    }
   ],
   "source": [
    "# Histogram & QQ plot for `Air Temperature [K]`\n",
    "# Create a figure with two subplots side by side\n",
    "fig, axes = plt.subplots(1, 2, figsize=(12, 6))  # 1 row, 2 columns\n",
    "\n",
    "plott = Plotter(failure_data_df)\n",
    "plott.histplot('Air temperature [K]', kde = True, ax = axes[0])\n",
    "plott.plot_qq('Air temperature [K]', ax=axes[1])\n",
    "\n",
    "# Display the plots\n",
    "plt.show()"
   ]
  },
  {
   "cell_type": "markdown",
   "metadata": {},
   "source": [
    "- Histogram shows a slight negative skew, with a peak to the right of half of the data.\n",
    "- QQ plot shows deviations from the lower bounds of the `Air temperature [K]`.\n"
   ]
  },
  {
   "cell_type": "code",
   "execution_count": 19,
   "metadata": {},
   "outputs": [
    {
     "name": "stdout",
     "output_type": "stream",
     "text": [
      "Statistics=928.181, p=0.000\n"
     ]
    }
   ],
   "source": [
    "info = DataFrameInfo(failure_data_df)\n",
    "info.normal_test('Air temperature [K]')"
   ]
  },
  {
   "cell_type": "markdown",
   "metadata": {},
   "source": [
    "The normality test for `Air temperature [K]` \n",
    "- p-value < 0.05\n",
    "- data is symmetrical and follows a normal distribution \n",
    "\n",
    "Therefore impute NULL values using the median. The median is chosen as there is a slight visibly negative skew from the histogram. \n",
    "- If the histogram was also symmetrical then we would have chosen the mean to impute.\n"
   ]
  },
  {
   "cell_type": "code",
   "execution_count": 20,
   "metadata": {},
   "outputs": [],
   "source": [
    "# # Impute NULL values of Air temperature \n",
    "# dt = DataTransform(failure_data)\n",
    "# failure_data['Air temperature [K]'] = dt.impute_column(column_name='Air temperature [K]', method='median')"
   ]
  },
  {
   "cell_type": "code",
   "execution_count": 21,
   "metadata": {},
   "outputs": [
    {
     "name": "stdout",
     "output_type": "stream",
     "text": [
      "\n",
      "Executing: Imputing Missing Values\n",
      "Number of NULL values in Air temperature [K] before imputation: 838\n",
      "Number of NULL values in Air temperature [K] after imputation: 0\n",
      "Completed: Imputation of Missing Values\n"
     ]
    }
   ],
   "source": [
    "# Impute NULL values of Air temperature \n",
    "dt = DataTransform(failure_data_df)\n",
    "imputation_dict = {'Air temperature [K]': 'median'}\n",
    "failure_data_df= dt.impute_missing_values(imputation_dict)"
   ]
  },
  {
   "cell_type": "markdown",
   "metadata": {},
   "source": [
    "#### Process temperature [K]: imputing missing values "
   ]
  },
  {
   "cell_type": "code",
   "execution_count": 22,
   "metadata": {},
   "outputs": [],
   "source": [
    "# # Histogram & QQ plot for `Process temperature`\n",
    "\n",
    "# # Create a figure with two subplots side by side\n",
    "# fig, axes = plt.subplots(1, 2, figsize=(12, 6))  # 1 row, 2 columns\n",
    "\n",
    "# plott = Plotter(failure_data)\n",
    "# plott.histplot('Process temperature [K]', kde = True, ax = axes[0])\n",
    "# plott.plot_qq('Process temperature [K]', ax=axes[1])\n",
    "\n",
    "# # Display the plots\n",
    "# plt.show()"
   ]
  },
  {
   "cell_type": "code",
   "execution_count": 23,
   "metadata": {},
   "outputs": [
    {
     "data": {
      "image/png": "[encoded data removed]",
      "text/plain": [
       "<Figure size 1200x600 with 2 Axes>"
      ]
     },
     "metadata": {},
     "output_type": "display_data"
    }
   ],
   "source": [
    "# Histogram & QQ plot for `Process temperature`\n",
    "\n",
    "# Create a figure with two subplots side by side\n",
    "fig, axes = plt.subplots(1, 2, figsize=(12, 6))  # 1 row, 2 columns\n",
    "\n",
    "plott = Plotter(failure_data_df)\n",
    "plott.histplot('Process temperature [K]', kde = True, ax = axes[0])\n",
    "plott.plot_qq('Process temperature [K]', ax=axes[1])\n",
    "\n",
    "# Display the plots\n",
    "plt.show()"
   ]
  },
  {
   "cell_type": "markdown",
   "metadata": {},
   "source": [
    "- Histogram shows a normal distibution, with a peak around 310.9 K \n",
    "- Q-Q plot shows significant deviation in the lower bound of the data\n",
    "- See if the normal test matches the behaviour observed in the Histogram\n"
   ]
  },
  {
   "cell_type": "code",
   "execution_count": 24,
   "metadata": {},
   "outputs": [
    {
     "name": "stdout",
     "output_type": "stream",
     "text": [
      "Statistics=181.218, p=0.000\n"
     ]
    }
   ],
   "source": [
    "info = DataFrameInfo(failure_data_df)\n",
    "info.normal_test('Process temperature [K]')"
   ]
  },
  {
   "cell_type": "markdown",
   "metadata": {},
   "source": [
    "- normal test has shown a p-value < 0.05, which means we can reject the null hypothesis. \n",
    "- `Process temperature [K]` is normally distributed, the data is symmetric\n",
    "\n",
    "conclusion:\n",
    "- impute using the mean of the data."
   ]
  },
  {
   "cell_type": "code",
   "execution_count": 25,
   "metadata": {},
   "outputs": [],
   "source": [
    "# # Impute NULL values of `Process temperature [K]` using the median\n",
    "# dt = DataTransform(failure_data_df)\n",
    "# failure_data['Process temperature [K]'] = dt.impute_column(column_name='Process temperature [K]', method='mean')"
   ]
  },
  {
   "cell_type": "code",
   "execution_count": 26,
   "metadata": {},
   "outputs": [
    {
     "name": "stdout",
     "output_type": "stream",
     "text": [
      "\n",
      "Executing: Imputing Missing Values\n",
      "Number of NULL values in Process temperature [K] before imputation: 881\n",
      "Number of NULL values in Process temperature [K] after imputation: 0\n",
      "Completed: Imputation of Missing Values\n"
     ]
    }
   ],
   "source": [
    "# Impute NULL values of `Process temperature [K]` using the median\n",
    "dt = DataTransform(failure_data_df)\n",
    "imputation_dict = {'Process temperature [K]': 'mean'}\n",
    "failure_data_df= dt.impute_missing_values(imputation_dict)"
   ]
  },
  {
   "cell_type": "markdown",
   "metadata": {},
   "source": [
    "#### Tool wear [min]: imputing missing values "
   ]
  },
  {
   "cell_type": "code",
   "execution_count": 27,
   "metadata": {},
   "outputs": [],
   "source": [
    "# # Histogram & QQ plot for `Process temperature`\n",
    "\n",
    "# # Create a figure with two subplots side by side\n",
    "# fig, axes = plt.subplots(1, 2, figsize=(12, 6))  # 1 row, 2 columns\n",
    "\n",
    "# plott = Plotter(failure_data_df)\n",
    "# plott.histplot('Tool wear [min]', kde = True, ax = axes[0])\n",
    "# plott.plot_qq('Tool wear [min]', ax=axes[1])\n",
    "\n",
    "# # Display the plots\n",
    "# plt.show()"
   ]
  },
  {
   "cell_type": "code",
   "execution_count": 28,
   "metadata": {},
   "outputs": [
    {
     "data": {
      "image/png": "[encoded data removed]",
      "text/plain": [
       "<Figure size 1200x600 with 2 Axes>"
      ]
     },
     "metadata": {},
     "output_type": "display_data"
    }
   ],
   "source": [
    "# Histogram & QQ plot for `Process temperature`\n",
    "\n",
    "# Create a figure with two subplots side by side\n",
    "fig, axes = plt.subplots(1, 2, figsize=(12, 6))  # 1 row, 2 columns\n",
    "\n",
    "plott = Plotter(failure_data_df)\n",
    "plott.histplot('Tool wear [min]', kde = True, ax = axes[0])\n",
    "plott.plot_qq('Tool wear [min]', ax=axes[1])\n",
    "\n",
    "# Display the plots\n",
    "plt.show()"
   ]
  },
  {
   "cell_type": "markdown",
   "metadata": {},
   "source": [
    "Histogram:\n",
    "- Positively skewed.\n",
    "- The Histogram shows consistent spikers throughout the data , these spikes may be due to the 'High\" quality tool type lasting longer than the other types.\n",
    "\n",
    "Q-Q plot \n",
    "- significant deviations in the lower quartile. \n",
    "- The middle and upper quartile seem to show tendency towards being normally distributed, however, this is rather misleading after viewing the histogram\n",
    "\n",
    "See if the normal test supports the above "
   ]
  },
  {
   "cell_type": "code",
   "execution_count": 29,
   "metadata": {},
   "outputs": [
    {
     "name": "stdout",
     "output_type": "stream",
     "text": [
      "Statistics=6306.896, p=0.000\n"
     ]
    }
   ],
   "source": [
    "info = DataFrameInfo(failure_data_df)\n",
    "info.normal_test('Tool wear [min]')"
   ]
  },
  {
   "cell_type": "markdown",
   "metadata": {},
   "source": [
    "Normal Test\n",
    "- The p-value of the normal test is showing 0, however we know visually that this is not the case from the Histogram of `Tool wear [min]`"
   ]
  },
  {
   "cell_type": "markdown",
   "metadata": {},
   "source": [
    "#### Imputing method \n",
    "- impute using the median of the data. The median was chosen over the mean given the postive skew observed in the histogram. \n",
    "- The outliers present for `Tool wear [min]` > 200 are likely to skew the mean, there for median is a more robust method.\n"
   ]
  },
  {
   "cell_type": "code",
   "execution_count": 30,
   "metadata": {},
   "outputs": [
    {
     "name": "stdout",
     "output_type": "stream",
     "text": [
      "\n",
      "Executing: Imputing Missing Values\n",
      "Number of NULL values in Tool wear [min] before imputation: 484\n",
      "Number of NULL values in Tool wear [min] after imputation: 0\n",
      "Completed: Imputation of Missing Values\n"
     ]
    }
   ],
   "source": [
    "# Impute NULL values of `Tool wear [min]` using the median \n",
    "dt = DataTransform(failure_data_df)\n",
    "imputation_dict = {'Tool wear [min]': 'median'}\n",
    "failure_data_df= dt.impute_missing_values(imputation_dict)"
   ]
  },
  {
   "cell_type": "code",
   "execution_count": 31,
   "metadata": {},
   "outputs": [
    {
     "data": {
      "text/plain": [
       "UDI                        0.0\n",
       "Type                       0.0\n",
       "Air temperature [K]        0.0\n",
       "Process temperature [K]    0.0\n",
       "Rotational speed [rpm]     0.0\n",
       "Torque [Nm]                0.0\n",
       "Tool wear [min]            0.0\n",
       "Machine failure            0.0\n",
       "TWF                        0.0\n",
       "HDF                        0.0\n",
       "PWF                        0.0\n",
       "OSF                        0.0\n",
       "RNF                        0.0\n",
       "H                          0.0\n",
       "L                          0.0\n",
       "M                          0.0\n",
       "dtype: float64"
      ]
     },
     "execution_count": 31,
     "metadata": {},
     "output_type": "execute_result"
    }
   ],
   "source": [
    "# Prove that the new transformed data contails no missing values \n",
    "info_df_without_null = DataFrameInfo(failure_data_df)\n",
    "info_df_without_null.percentage_of_null()"
   ]
  },
  {
   "cell_type": "code",
   "execution_count": 32,
   "metadata": {},
   "outputs": [],
   "source": [
    "# # TODO: refactor, create a function for called 'checkpoint'\n",
    "# # rename the data set to reflect the NULL transformations\n",
    "# failure_data_without_null = failure_data\n",
    "\n",
    "# # Checkpoint\n",
    "# failure_data_without_null.to_csv('failure_data_step_2_removed_null.csv', index = False)"
   ]
  },
  {
   "cell_type": "code",
   "execution_count": 33,
   "metadata": {},
   "outputs": [],
   "source": [
    "# failure_data_without_null.head(1)"
   ]
  },
  {
   "cell_type": "code",
   "execution_count": 34,
   "metadata": {},
   "outputs": [
    {
     "name": "stdout",
     "output_type": "stream",
     "text": [
      "##############################################################################\n",
      "Step 0: Load the Data\n",
      "File found: /Users/manishkhurmi/Desktop/EDA_project/failure_data.csv\n",
      "DataFrame loaded successfully from /Users/manishkhurmi/Desktop/EDA_project/failure_data.csv.\n",
      "##############################################################################\n",
      "Step 1: Initial Data Cleaning\n",
      "Column List: \n",
      " Index(['Unnamed: 0', 'UDI', 'Product ID', 'Type', 'Air temperature [K]',\n",
      "       'Process temperature [K]', 'Rotational speed [rpm]', 'Torque [Nm]',\n",
      "       'Tool wear [min]', 'Machine failure', 'TWF', 'HDF', 'PWF', 'OSF',\n",
      "       'RNF'],\n",
      "      dtype='object')\n",
      "\n",
      "Column List After dropping df\n",
      ": Index(['UDI', 'Type', 'Air temperature [K]', 'Process temperature [K]',\n",
      "       'Rotational speed [rpm]', 'Torque [Nm]', 'Tool wear [min]',\n",
      "       'Machine failure', 'TWF', 'HDF', 'PWF', 'OSF', 'RNF'],\n",
      "      dtype='object')\n",
      "\n",
      "Columns After concatination: \n",
      "Index(['UDI', 'Type', 'Air temperature [K]', 'Process temperature [K]',\n",
      "       'Rotational speed [rpm]', 'Torque [Nm]', 'Tool wear [min]',\n",
      "       'Machine failure', 'TWF', 'HDF', 'PWF', 'OSF', 'RNF', 'H', 'L', 'M'],\n",
      "      dtype='object')\n",
      "##############################################################################\n",
      "Step 2: Impute missing values\n",
      "\n",
      "Executing: Imputing Missing Values\n",
      "Number of NULL values in Air temperature [K] before imputation: 838\n",
      "Number of NULL values in Air temperature [K] after imputation: 0\n",
      "Number of NULL values in Process temperature [K] before imputation: 881\n",
      "Number of NULL values in Process temperature [K] after imputation: 0\n",
      "Number of NULL values in Tool wear [min] before imputation: 484\n",
      "Number of NULL values in Tool wear [min] after imputation: 0\n",
      "Completed: Imputation of Missing Values\n",
      "\n",
      "Check\n",
      "Percentage of Null Values for each column after imputation: \n",
      "UDI                        0.0\n",
      "Type                       0.0\n",
      "Air temperature [K]        0.0\n",
      "Process temperature [K]    0.0\n",
      "Rotational speed [rpm]     0.0\n",
      "Torque [Nm]                0.0\n",
      "Tool wear [min]            0.0\n",
      "Machine failure            0.0\n",
      "TWF                        0.0\n",
      "HDF                        0.0\n",
      "PWF                        0.0\n",
      "OSF                        0.0\n",
      "RNF                        0.0\n",
      "H                          0.0\n",
      "L                          0.0\n",
      "M                          0.0\n",
      "dtype: float64\n"
     ]
    }
   ],
   "source": [
    "# Checkpoint: All the Data Transform steps we have made so far\n",
    "\n",
    "print('##############################################################################')\n",
    "print('Step 0: Load the Data')\n",
    "load_data = LoadData('failure_data.csv')  # Instantiate the class with your file name\n",
    "failure_data_df = load_data.df  # Access the loaded DataFrame\n",
    "print('##############################################################################')\n",
    "print('Step 1: Initial Data Cleaning')\n",
    "dt = DataTransform(failure_data_df)\n",
    "failure_data_df = dt.drop_column(['Unnamed: 0', 'Product ID'])\n",
    "\n",
    "dt = DataTransform(failure_data_df)\n",
    "type_dummy_df = dt.create_dummies_from_column('Type')\n",
    "failure_data_df = dt.concat_dataframes(type_dummy_df)\n",
    "\n",
    "info = DataFrameInfo(failure_data_df)\n",
    "print(f\"\\nColumns After concatination: \\n{info.column_names()}\")\n",
    "print('##############################################################################')\n",
    "print('Step 2: Impute missing values')\n",
    "imputation_dict = {\n",
    "    'Air temperature [K]': 'median',\n",
    "    'Process temperature [K]': 'mean',\n",
    "    'Tool wear [min]': 'median'\n",
    "}\n",
    "dt = DataTransform(failure_data_df)\n",
    "failure_data_df = dt.impute_missing_values(imputation_dict)\n",
    "info = DataFrameInfo(failure_data_df)\n",
    "print(f\"\\nCheck\\nPercentage of Null Values for each column after imputation: \\n{info.percentage_of_null()}\")"
   ]
  },
  {
   "cell_type": "markdown",
   "metadata": {},
   "source": [
    "## 3) Investigating for Skewness in the data \n",
    "<a id=\"skew\"></a>"
   ]
  },
  {
   "cell_type": "code",
   "execution_count": 35,
   "metadata": {},
   "outputs": [],
   "source": [
    "# failure_data_without_null = pd.read_csv('failure_data_step_2_removed_null.csv')"
   ]
  },
  {
   "cell_type": "markdown",
   "metadata": {},
   "source": [
    "#### Interpreting the skew() values\n",
    "\n",
    "- -0.5 < skew_value < 0.5, the data are fairly symmetrical\n",
    "- If the skewness is between -1 and — 0.5 or between 0.5 and 1, the data are moderately skewed\n",
    "- If the skewness is less than -1 or greater than 1, the data are highly skewed\n"
   ]
  },
  {
   "cell_type": "code",
   "execution_count": 36,
   "metadata": {},
   "outputs": [
    {
     "data": {
      "image/png": "[encoded data removed]",
      "text/plain": [
       "<Figure size 1600x1000 with 5 Axes>"
      ]
     },
     "metadata": {},
     "output_type": "display_data"
    }
   ],
   "source": [
    "# Initialize the DataInfo class\n",
    "info = DataFrameInfo(failure_data_df)\n",
    "\n",
    "# Initialize the Plotter class with the DataFrame and DataInfo object\n",
    "plott = Plotter(failure_data_df)\n",
    "\n",
    "# Define continuous variables\n",
    "continuous_variables = [\n",
    "    'Air temperature [K]', \n",
    "    'Process temperature [K]',\n",
    "    'Rotational speed [rpm]', \n",
    "    'Torque [Nm]', \n",
    "    'Tool wear [min]'\n",
    "]\n",
    "\n",
    "# Call the method to plot continuous variables\n",
    "plott.histogram_and_skew_sub_plots(variable_list=continuous_variables, num_cols=3)\n"
   ]
  },
  {
   "cell_type": "markdown",
   "metadata": {},
   "source": [
    "Histogram & Skewness Test\n",
    "- `Rotational speed [rpm]` has a strong positive skew as the skew_value > 1. \n",
    "- All other continous data have fairly symmetric data. Treating for skewness will not be considered, as the loss of interpretability outways the gain of symmetry for the model."
   ]
  },
  {
   "cell_type": "code",
   "execution_count": 38,
   "metadata": {},
   "outputs": [
    {
     "name": "stdout",
     "output_type": "stream",
     "text": [
      "Step 3: Treating Skewness\n",
      "\n",
      "Skew Test Before treatement: 1.993171004713752\n",
      "Applying Yeo-Johnson transform to Rotational speed [rpm]\n",
      "yeojohnson applied to Rotational speed [rpm].\n",
      "\n",
      "Skew Test After treatement: 0.0\n"
     ]
    }
   ],
   "source": [
    "print('Step 3: Treating Skewness')\n",
    "dt = DataTransform(failure_data_df)\n",
    "info = DataFrameInfo(failure_data_df)\n",
    "print(f\"\\nSkew Test Before treatement: {info.skew_test('Rotational speed [rpm]')}\")\n",
    "failure_data_df = dt.treat_skewness(column_name='Rotational speed [rpm]', normalied_column_name='rotational_speed_normalised', method='yeojohnson') # \n",
    "info = DataFrameInfo(failure_data_df)\n",
    "print(f\"\\nSkew Test After treatement: {info.skew_test('rotational_speed_normalised')}\")"
   ]
  },
  {
   "cell_type": "code",
   "execution_count": 40,
   "metadata": {},
   "outputs": [
    {
     "name": "stdout",
     "output_type": "stream",
     "text": [
      "Histograms of `Rotational Speed [rpm]` Before vs After Treating for Skewness\n"
     ]
    },
    {
     "data": {
      "image/png": "[encoded data removed]",
      "text/plain": [
       "<Figure size 1600x500 with 2 Axes>"
      ]
     },
     "metadata": {},
     "output_type": "display_data"
    }
   ],
   "source": [
    "# Compare Histograms of `Rotational Speed [rpm]` Before vs After Treating for Skewness\n",
    "info = DataFrameInfo(failure_data_df)\n",
    "dt = DataTransform(failure_data_df)\n",
    "plott = Plotter(failure_data_df)\n",
    "\n",
    "# plott.histplot('rotational_speed_normalised')\n",
    "print('Histograms of `Rotational Speed [rpm]` Before vs After Treating for Skewness')\n",
    "plott.histogram_and_skew_sub_plots(variable_list=['Rotational speed [rpm]', 'rotational_speed_normalised'], num_cols = 2)"
   ]
  },
  {
   "cell_type": "markdown",
   "metadata": {},
   "source": [
    "- yeojohnson data transform has for `Rotational speed [rpm]` has been successful. \n",
    "- The skew_value is 0, indicating the data is symmetrical after the transformation"
   ]
  },
  {
   "cell_type": "markdown",
   "metadata": {},
   "source": [
    "## 4) Removing Outliers from the Data \n",
    "<a id=\"outliers\"></a>"
   ]
  },
  {
   "cell_type": "code",
   "execution_count": null,
   "metadata": {},
   "outputs": [],
   "source": [
    "# Apply steps up to and including treating for skewness \n",
    "    # Step 3: Treating for skewness in `Rotational Speed [rpm]`\n",
    "\n",
    "print('##############################################################################')\n",
    "print('Step 0: Load the Data')\n",
    "load_data = LoadData('failure_data.csv')  # Instantiate the class with your file name\n",
    "failure_data_df = load_data.df  # Access the loaded DataFrame\n",
    "print('##############################################################################')\n",
    "print('Step 1: Initial Data Cleaning')\n",
    "dt = DataTransform(failure_data_df)\n",
    "failure_data_df = dt.drop_column(['Unnamed: 0', 'Product ID'])\n",
    "\n",
    "dt = DataTransform(failure_data_df)\n",
    "type_dummy_df = dt.create_dummies_from_column('Type')\n",
    "failure_data_df = dt.concat_dataframes(type_dummy_df)\n",
    "\n",
    "info = DataFrameInfo(failure_data_df)\n",
    "print(f\"\\nColumns After concatination: \\n{info.column_names()}\")\n",
    "print('##############################################################################')\n",
    "print('Step 2: Impute missing values')\n",
    "imputation_dict = {\n",
    "    'Air temperature [K]': 'median',\n",
    "    'Process temperature [K]': 'mean',\n",
    "    'Tool wear [min]': 'median'\n",
    "}\n",
    "dt = DataTransform(failure_data_df)\n",
    "failure_data_df = dt.impute_missing_values(imputation_dict)\n",
    "info = DataFrameInfo(failure_data_df)\n",
    "print(f\"\\nCheck\\nPercentage of Null Values for each column after imputation: \\n{info.percentage_of_null()}\")\n",
    "print('##############################################################################')\n",
    "print('Step 3: Treating Skewness')\n",
    "dt = DataTransform(failure_data_df)\n",
    "info = DataFrameInfo(failure_data_df)\n",
    "print(f\"\\nSkew Test Before treatement: {info.skew_test('Rotational speed [rpm]')}\")\n",
    "failure_data_df = dt.treat_skewness(column_name='Rotational speed [rpm]', normalied_column_name='rotational_speed_normalised', method='yeojohnson') # \n",
    "info = DataFrameInfo(failure_data_df)\n",
    "print(f\"\\nSkew Test After treatement: {info.skew_test('rotational_speed_normalised')}\")"
   ]
  },
  {
   "cell_type": "code",
   "execution_count": null,
   "metadata": {},
   "outputs": [],
   "source": [
    "failure_data_df.head(3)"
   ]
  },
  {
   "cell_type": "markdown",
   "metadata": {},
   "source": [
    "#### What to include in the forefront:\n",
    "- grid of boxplot of all continous variables\n",
    "- z-score visual of the histogram, thresholds 2 & 3 with the % of the data that is being taken out as outliers. colour the outliers on the Histogram \n",
    "    - Threshold 2 vs Threshold 3. My choice also depends on the amount of data loss.\n",
    "\n",
    "Other thoughts:\n",
    "- Z-Score > IQR\n",
    "    - Z-score filitering for all continous variables apart from `Rotational speed`, here we will use IQR.\n",
    "    - Filtering outliers via Z-score is the chosen methodology since our continous varibles are normally distributed (see section 3 skew tests for supporting evidience). we will filter via Z-Score. \n",
    "    - Depending on the data wither a Z-score Threshold of 2 or 3 is used.\n",
    "- Grid of boxplots of each continous variable"
   ]
  },
  {
   "cell_type": "code",
   "execution_count": null,
   "metadata": {},
   "outputs": [],
   "source": [
    "failure_data_df.columns"
   ]
  },
  {
   "cell_type": "code",
   "execution_count": null,
   "metadata": {},
   "outputs": [],
   "source": [
    "plott = Plotter(failure_data_df)\n",
    "\n",
    "# List of continuous variables of interest\n",
    "continous_variables = ['Air temperature [K]', 'Process temperature [K]', 'rotational_speed_normalised', 'Torque [Nm]', 'Tool wear [min]' ]\n",
    "plott.boxplots(variable_list=continous_variables)"
   ]
  },
  {
   "cell_type": "markdown",
   "metadata": {},
   "source": [
    "- The Boxplots of `Process temperature [K]`, `Rotational speed [rpm]`, `Torque [Nm]` have outliers and will be investigated further. \n",
    "- The Boxplots of `Air temperatures [K]` & `Tool wear [min]` have no outliers in the lower or upper bounds of their data, shown by the absense of observations in the boxplots' whiskers. "
   ]
  },
  {
   "cell_type": "code",
   "execution_count": null,
   "metadata": {},
   "outputs": [],
   "source": [
    "# Create Histograms with Z-score bounds \n",
    "\n",
    "plott = Plotter(failure_data_df)\n",
    "plott.histograms_with_z_score_bounds(vars_list=['Process temperature [K]', 'rotational_speed_normalised', 'Torque [Nm]'])"
   ]
  },
  {
   "cell_type": "markdown",
   "metadata": {},
   "source": [
    "#### Choosing between a Z-Score Threshold of 2 and 3 \n",
    "- Given that we dealing with failure data in the manufacturing process, the conseqences of missing a potential failure can be severe. \n",
    "- Therefore, consider the more sensitive approach of a threshold of 2.\n",
    "\n",
    "Pros: more sensitive to deteching smaller anomalies which might be early indicators of potential failures\n",
    "\n",
    "Cons: Higher number of false positives, meaning more frequent alerts and possibly unnecessary inspections or interventions\n",
    "\n",
    "Suggested approach (Post implementation):\n",
    "- Begin with a z-score of 2 i.e. beginning more conservative and increasing based on future data.\n",
    "- Monitor & Adjust: monitor the alerts and evaluate the relevance of outliers."
   ]
  },
  {
   "cell_type": "markdown",
   "metadata": {},
   "source": [
    "# Next Steps:\n",
    "- Begin with the conservative approach of `|z| > 2`. \n",
    "- Make a note here to come back and change z_scores if the model is leading to a loss of productivity for being too conservative.\n",
    "- ***Strategic EDA decision***: adjust |z| scores."
   ]
  },
  {
   "cell_type": "code",
   "execution_count": null,
   "metadata": {},
   "outputs": [],
   "source": [
    "failure_data_df.columns"
   ]
  },
  {
   "cell_type": "markdown",
   "metadata": {},
   "source": [
    "### Box Plots: Before and After Removing Outliers "
   ]
  },
  {
   "cell_type": "code",
   "execution_count": null,
   "metadata": {},
   "outputs": [],
   "source": [
    "# Rename our Data Frame to reflect the before vs after affects of removing outliers\n",
    "before_removing_outliers_df = failure_data_df"
   ]
  },
  {
   "cell_type": "code",
   "execution_count": null,
   "metadata": {},
   "outputs": [],
   "source": [
    "# Remove Outliers \n",
    "print('Step 4: Removing Outliers')\n",
    "outlier_columns = ['rotational_speed_normalised', 'Torque [Nm]', 'Process temperature [K]']\n",
    "dt = DataTransform(before_removing_outliers_df)\n",
    "after_removing_outliers_df, _, _ = dt.remove_outliers_with_optimiser(outlier_columns, key_ID='UDI', method='IQR', suppress_output=True)"
   ]
  },
  {
   "cell_type": "code",
   "execution_count": null,
   "metadata": {},
   "outputs": [],
   "source": [
    "# Comparing Before vs After via Boxplots \n",
    "\n",
    "# Initialise Classes: Plotter & DataFrameInfo\n",
    "plott_before_removing_outliers = Plotter(before_removing_outliers_df)\n",
    "plott_after_removing_outliers = Plotter(after_removing_outliers_df)\n",
    "\n",
    "info_before_removing_outliers = DataFrameInfo(before_removing_outliers_df)\n",
    "info_after_removing_outliers = DataFrameInfo(after_removing_outliers_df)\n",
    "\n",
    "# Plots & Info Comparison \n",
    "print('Boxplots Orginal Data:')\n",
    "plott_before_removing_outliers.boxplots(outlier_columns)\n",
    "print('Boxplots After removing Outliers:')\n",
    "plott_after_removing_outliers.boxplots(outlier_columns)\n",
    "print(f\"\\nBefore Removing outliers: {info_before_removing_outliers.describe_statistics(outlier_columns)}\")\n",
    "print(f\"\\nBefore Removing outliers: {info_after_removing_outliers.describe_statistics(outlier_columns)}\")"
   ]
  },
  {
   "cell_type": "code",
   "execution_count": 33,
   "metadata": {},
   "outputs": [],
   "source": [
    "# Rename the DataFrame \n",
    "failure_data_df = after_removing_outliers_df"
   ]
  },
  {
   "cell_type": "markdown",
   "metadata": {},
   "source": [
    "# 5) Investigating for Collinearity (Dropping overly correlated columns)\n",
    "<a id=\"collinearity\"></a>"
   ]
  },
  {
   "cell_type": "code",
   "execution_count": null,
   "metadata": {},
   "outputs": [],
   "source": [
    "# All steps up to 5\n",
    "print('##############################################################################')\n",
    "print('Step 0: Load the Data')\n",
    "load_data = LoadData('failure_data.csv')  # Instantiate the class with your file name\n",
    "failure_data_df = load_data.df  # Access the loaded DataFrame\n",
    "print('##############################################################################')\n",
    "print('Step 1: Initial Data Cleaning')\n",
    "dt = DataTransform(failure_data_df)\n",
    "failure_data_df = dt.drop_column(['Unnamed: 0', 'Product ID'])\n",
    "\n",
    "dt = DataTransform(failure_data_df)\n",
    "type_dummy_df = dt.create_dummies_from_column('Type')\n",
    "failure_data_df = dt.concat_dataframes(type_dummy_df)\n",
    "\n",
    "info = DataFrameInfo(failure_data_df)\n",
    "print(f\"\\nColumns After concatination: \\n{info.column_names()}\")\n",
    "print('##############################################################################')\n",
    "print('Step 2: Impute missing values')\n",
    "imputation_dict = {\n",
    "    'Air temperature [K]': 'median',\n",
    "    'Process temperature [K]': 'mean',\n",
    "    'Tool wear [min]': 'median'\n",
    "}\n",
    "dt = DataTransform(failure_data_df)\n",
    "failure_data_df = dt.impute_missing_values(imputation_dict)\n",
    "info = DataFrameInfo(failure_data_df)\n",
    "print(f\"\\nCheck\\nPercentage of Null Values for each column after imputation: \\n{info.percentage_of_null()}\")\n",
    "print('##############################################################################')\n",
    "print('Step 3: Treating Skewness')\n",
    "dt = DataTransform(failure_data_df)\n",
    "info = DataFrameInfo(failure_data_df)\n",
    "print(f\"\\nSkew Test Before treatement: {info.skew_test('Rotational speed [rpm]')}\")\n",
    "failure_data_df = dt.treat_skewness(column_name='Rotational speed [rpm]', normalied_column_name='rotational_speed_normalised', method='yeojohnson') # \n",
    "info = DataFrameInfo(failure_data_df)\n",
    "print(f\"\\nSkew Test After treatement: {info.skew_test('rotational_speed_normalised')}\")\n",
    "print('##############################################################################')\n",
    "print('Step 4: Removing Outliers')\n",
    "dt = DataTransform(failure_data_df)\n",
    "\n",
    "info = DataFrameInfo(failure_data_df)\n",
    "outlier_columns = ['rotational_speed_normalised', 'Torque [Nm]', 'Process temperature [K]']\n",
    "print(f\"\\nBefore Removing outliers: {info.describe_statistics(outlier_columns)}\")\n",
    "\n",
    "failure_data_df, _, _ = dt.remove_outliers_with_optimiser(outlier_columns, key_ID='UDI', method='IQR', suppress_output=True)\n",
    "\n",
    "info = DataFrameInfo(failure_data_df)\n",
    "print(f\"\\nAfter Removing outliers: {info.describe_statistics(outlier_columns)}\")"
   ]
  },
  {
   "cell_type": "markdown",
   "metadata": {},
   "source": [
    "Summary:\n",
    "\n",
    "- correlation heatmap \n",
    "- filter for abs(correlations) > 0.75 (strong correlations only)\n",
    "- OLS model & vifs\n",
    "- chi-squared tests\n",
    "- logit model "
   ]
  },
  {
   "cell_type": "code",
   "execution_count": null,
   "metadata": {},
   "outputs": [],
   "source": [
    "dt = DataTransform(failure_data_df)\n",
    "failure_data_df = dt.drop_column(vars=['UDI', 'Type'])"
   ]
  },
  {
   "cell_type": "markdown",
   "metadata": {},
   "source": [
    "Correlation Heatmap"
   ]
  },
  {
   "cell_type": "code",
   "execution_count": null,
   "metadata": {},
   "outputs": [],
   "source": [
    "# Initialize the Plotter with DataFrame\n",
    "plott = Plotter(failure_data_df)\n",
    "\n",
    "# Create subplots\n",
    "fig, axes = plt.subplots(1, 2, figsize=(20, 8))\n",
    "\n",
    "# Plot the first heatmap on the left subplot (no threshold)\n",
    "plott.correlation_heatmap(figsize=(10, 8), ax=axes[0])\n",
    "\n",
    "# Plot the second heatmap with a threshold on the right subplot\n",
    "plott.correlation_heatmap(threshold=0.75, figsize=(10, 8), ax=axes[1])\n",
    "\n",
    "# # Adjust layout and show the plots\n",
    "plt.tight_layout()\n",
    "plt.show()"
   ]
  },
  {
   "cell_type": "code",
   "execution_count": 63,
   "metadata": {},
   "outputs": [],
   "source": [
    "# # Pairs that maybe correlated \n",
    "# print('Variables that are strongly correlated:\\n')\n",
    "# print(failure_data_df[['Air temperature [K]', 'Process temperature [K]']].head())\n",
    "# print(failure_data_df[['Torque [Nm]', 'Rotational speed [rpm]']].head())\n",
    "# print(failure_data_df[['L', 'M']].head())"
   ]
  },
  {
   "cell_type": "markdown",
   "metadata": {},
   "source": [
    "# OLS Model & VIFs"
   ]
  },
  {
   "cell_type": "code",
   "execution_count": null,
   "metadata": {},
   "outputs": [],
   "source": [
    "# Rename columns for the OLS model package (no spaces allowed)\n",
    "dt = DataTransform(failure_data_df)\n",
    "machine_failure_col_mapping = {\n",
    "    'Machine failure': 'machine_failure',\n",
    "    'Air temperature [K]': 'air_temperature',\n",
    "    'Process temperature [K]': 'process_temperature',\n",
    "    'Rotational speed [rpm]': 'rotational_speed_actual',\n",
    "    'Torque [Nm]': 'torque',\n",
    "    'Tool wear [min]': 'tool_wear'\n",
    "}\n",
    "\n",
    "# rename df \n",
    "failure_data_df = dt.rename_colunms(machine_failure_col_mapping)\n",
    "\n",
    "# Save DataFrame\n",
    "# failure_data_step_5_collinearity.to_csv('failure_data_step_5_collinearity.csv')\n",
    "\n",
    "# print df \n",
    "failure_data_df.head(2)"
   ]
  },
  {
   "cell_type": "code",
   "execution_count": null,
   "metadata": {},
   "outputs": [],
   "source": [
    "model = Models(failure_data_df)\n",
    "model.ols(formula='machine_failure ~ air_temperature + process_temperature + rotational_speed_normalised + torque + tool_wear + TWF + HDF + PWF + OSF + RNF + H + L + M', \n",
    "          model_summary=1)"
   ]
  },
  {
   "cell_type": "markdown",
   "metadata": {},
   "source": [
    "- These high `p-values` are likely down to the OLS model being a poor choice for modelling dependant variables that are binary. \n"
   ]
  },
  {
   "cell_type": "code",
   "execution_count": null,
   "metadata": {},
   "outputs": [],
   "source": [
    "model = Models(failure_data_df)\n",
    "\n",
    "# Exogenous models \n",
    "ols_machine_failure = model.ols(formula='machine_failure ~ air_temperature + process_temperature + rotational_speed_normalised + torque + tool_wear + TWF + HDF + PWF + OSF + RNF + H + L + M')\n",
    "ols_exog_air_temperature = model.ols(formula='air_temperature ~ machine_failure + process_temperature + rotational_speed_normalised + torque + tool_wear + TWF + HDF + PWF + OSF + RNF + H + L + M')\n",
    "ols_exog_process_temperature= model.ols(formula='process_temperature ~ machine_failure + air_temperature + rotational_speed_normalised + torque + tool_wear + TWF + HDF + PWF + OSF + RNF + H + L + M')\n",
    "ols_exog_torque = model.ols(formula='torque ~ machine_failure + air_temperature + process_temperature + rotational_speed_normalised + tool_wear + TWF + HDF + PWF + OSF + RNF + H + L + M')\n",
    "ols_exog_rotational_speed = model.ols(formula='rotational_speed_normalised ~ machine_failure + air_temperature + process_temperature + torque + tool_wear + TWF + HDF + PWF + OSF + RNF + H + L + M')\n",
    "\n",
    "# r2 \n",
    "print('R²:')\n",
    "r2_machine_failure = model.r_squared(ols_machine_failure, model_name='machine_failure')\n",
    "r2_air_temperature = model.r_squared(ols_exog_air_temperature, model_name='air_temperature')\n",
    "r2_process_temperature = model.r_squared(ols_exog_process_temperature, model_name='air_temperature') \n",
    "r2_torque = model.r_squared(ols_exog_torque, model_name='torque')\n",
    "r2_rotational_speed = model.r_squared(ols_exog_rotational_speed, model_name='rotational_speed' )\n",
    "\n",
    "# VIFS \n",
    "print('\\nVIF scores:')\n",
    "vif_machine_failure = model.VIF(ols_machine_failure, model_name='machine_failure')\n",
    "vif_air_temperature = model.VIF(ols_exog_air_temperature, model_name='air_temperature')\n",
    "vif_process_temperature = model.VIF(ols_exog_process_temperature, model_name='process_temperature') \n",
    "vif_torque = model.VIF(ols_exog_torque, model_name='torque')\n",
    "vif_rotational_speed = model.VIF(ols_exog_rotational_speed, model_name='rotational_speed' )    "
   ]
  },
  {
   "cell_type": "markdown",
   "metadata": {},
   "source": [
    "- All dependant variables have a VIF < 10. Therefore no variable will be dropped.\n",
    "- Note that using 'rotaional_speed_normlaised' led to higher VIFs than 'rotational_speed_actual."
   ]
  },
  {
   "cell_type": "code",
   "execution_count": null,
   "metadata": {},
   "outputs": [],
   "source": [
    "failure_data_df.columns"
   ]
  },
  {
   "cell_type": "code",
   "execution_count": null,
   "metadata": {},
   "outputs": [],
   "source": [
    "# Visualising OLS & Logit Model\n",
    "# Initialize the Models class\n",
    "model = Models(failure_data_df)\n",
    "\n",
    "# Define the continous predictor variables\n",
    "predictor_vars = ['torque', 'rotational_speed_normalised', 'air_temperature', 'process_temperature', 'tool_wear']\n",
    "# # Plot OLS regression curves for each predictor variable in individual plots\n",
    "# model.plot_model_curves(predictor_vars, model='ols', ncols=2)\n",
    "\n",
    "# Plot OLS regression curves for each predictor variable in individual plots\n",
    "model.plot_model_curves(predictor_vars, model='ols', combine_plots=1, standardize=True)\n",
    "\n",
    "# compare with the Logit Model\n",
    "# Plot Logit regression curves for each predictor variable in a combined plot\n",
    "model.plot_model_curves(predictor_vars, model='logit', combine_plots=1, standardize=True)"
   ]
  },
  {
   "cell_type": "markdown",
   "metadata": {},
   "source": [
    "# Chi-squared tests"
   ]
  },
  {
   "cell_type": "code",
   "execution_count": null,
   "metadata": {},
   "outputs": [],
   "source": [
    "failure_data_df.head(2)\n"
   ]
  },
  {
   "cell_type": "code",
   "execution_count": null,
   "metadata": {},
   "outputs": [],
   "source": [
    "model = Models(failure_data_df)\n",
    "results_df = model.chi_squared_test_df(binary_cols = ['machine_failure','TWF', 'HDF', 'PWF', 'OSF', 'RNF', 'H', 'L', 'M'])\n",
    "\n",
    "results_df\n",
    "\n",
    "display('Filter for independant variables which have a statistically insignificant effect on machine_failure:')\n",
    "display(results_df[(results_df['Variable 1']=='machine_failure') & (results_df['P-Value']>0.05)])\n",
    "\n",
    "display('Chi-Squared Statistic is > 10 (criteria is based on 1 degree of freedom):')\n",
    "display(results_df[(results_df['P-Value']>0.05) & (results_df['Chi-Squared Statistic']>=10)])"
   ]
  },
  {
   "cell_type": "markdown",
   "metadata": {},
   "source": [
    "- consider dropping `RNF`"
   ]
  },
  {
   "cell_type": "markdown",
   "metadata": {},
   "source": [
    "- Although the p-values are not statistically significant for  `RNF` , the Chi-Squared Statistic is still relatively low. \n",
    "- No columns will be dropped based on the Chi-Squared Test.\n"
   ]
  },
  {
   "cell_type": "markdown",
   "metadata": {},
   "source": [
    "# Logistic Model"
   ]
  },
  {
   "cell_type": "code",
   "execution_count": null,
   "metadata": {},
   "outputs": [],
   "source": [
    "model = Models(failure_data_df)"
   ]
  },
  {
   "cell_type": "code",
   "execution_count": null,
   "metadata": {},
   "outputs": [],
   "source": [
    "logit_model_machine_failure = model.logit(formula = \"machine_failure ~ air_temperature + process_temperature + rotational_speed_actual + torque + tool_wear\", model_summary=1)"
   ]
  },
  {
   "cell_type": "markdown",
   "metadata": {},
   "source": [
    "- The 'nan' values are likely due to the skewness transformation performed in step 4 on `rotational_speed`\n",
    "\n",
    "Create a model based on data that has been treated for null values & outliers only."
   ]
  },
  {
   "cell_type": "code",
   "execution_count": null,
   "metadata": {},
   "outputs": [],
   "source": [
    "# Plot Logit regression curves for each predictor variable in a combined plot\n",
    "model = Models(failure_data_df)\n",
    "model.plot_model_curves(predictor_vars, model='logit', combine_plots=1, standardize=True)"
   ]
  },
  {
   "cell_type": "code",
   "execution_count": null,
   "metadata": {},
   "outputs": [],
   "source": [
    "# Plot Logistic regression curves for each predictor variable in individual plots\n",
    "predictor_vars = ['torque', 'rotational_speed_actual', 'air_temperature', 'process_temperature', 'tool_wear']\n",
    "model.plot_model_curves(predictor_vars, model='logit', ncols=3)\n",
    "\n",
    "# TODO: make the y-axis up to 1 here "
   ]
  },
  {
   "cell_type": "markdown",
   "metadata": {},
   "source": [
    "# Appendix"
   ]
  },
  {
   "cell_type": "markdown",
   "metadata": {},
   "source": [
    "### Appendix - OLS Model, inpreparation for VIFS "
   ]
  },
  {
   "cell_type": "code",
   "execution_count": 24,
   "metadata": {},
   "outputs": [],
   "source": [
    "# TODO: Appendix \n",
    "# ## fit a linear model to predict machine_failure from the continous independant variables \n",
    "# print('OLS model: using rotational_speed without normalisation')\n",
    "# ols_1 = smf.ols(\"machine_failure ~ air_temperature + process_temperature + rotational_speed_original + torque + tool_wear\", failure_data_step_5_collinearity).fit()\n",
    "# print(ols_1.summary())"
   ]
  },
  {
   "cell_type": "code",
   "execution_count": 25,
   "metadata": {},
   "outputs": [],
   "source": [
    "# TODO: Appendix \n",
    "# print('OLS model: using NORMALISED rotational speed')\n",
    "# ols_2 = smf.ols('machine_failure ~ air_temperature + process_temperature + rotational_speed_normalised + torque + tool_wear', failure_data_step_5_collinearity).fit()\n",
    "# print(ols_2.summary())"
   ]
  },
  {
   "cell_type": "markdown",
   "metadata": {},
   "source": [
    "\n",
    "- Use the `r^2` term from the OLS model using `rotational_speed_normalised`\n",
    "- Note that the OLS model that uses `rotational_speed_normalised` gives a statitically significant p-value vs the `rotational_speed_orginal`which is statistically insignificant. This is expected as OLS relies on the assumption that the data follows a normal distribution.\n",
    "- Further validating that `rotational_speed` was skewed. \n"
   ]
  },
  {
   "cell_type": "markdown",
   "metadata": {},
   "source": [
    "### VIFS \n",
    "\n",
    "*Variation Inflation Factor*, or VIF. This method is more powerful than the aforementioned as we fit a linear regression model on one of our independent variables against all the other exogenous variables. Mathematically, for one variable `X_1`:\n",
    "$$\n",
    "\\hat{X_1} = \\beta_0 + \\beta_1(X_2) + \\beta_2(X_3) + ...\n",
    "$$\n",
    "\n",
    "Subsequently, we'd work out the VIF, which uses the `R^2` obtained from the model:\n",
    "$$\n",
    "\\text{VIF} \\equiv \\frac{1}{1-R^2_1}\n",
    "$$"
   ]
  },
  {
   "cell_type": "markdown",
   "metadata": {},
   "source": [
    "#### Scratch work for section 5 "
   ]
  },
  {
   "cell_type": "code",
   "execution_count": null,
   "metadata": {},
   "outputs": [],
   "source": [
    "# TODO: Appendix \n",
    "# Example using the dependant variable and `Air Temperature `\n",
    "\n",
    "# Calculate the point-biserial correlation and p-value\n",
    "r_pb, p_value = pointbiserialr(failure_data_without_null['Machine failure'], failure_data_without_null['Air temperature [K]'])\n",
    "\n",
    "# Print the results with an explainable statement\n",
    "print(f\"The point-biserial correlation coefficient between 'Machine failure' and 'Air temperature [K]' is {round(r_pb, 3)} with a p-value of {round(p_value, 4)}.\")\n",
    "print(\"The null hypothesis is that there is no correlation between 'Machine failure' and 'Air temperature [K]' (r_pb = 0).\")\n",
    "\n",
    "# Interpretation of the p-value\n",
    "if p_value < 0.05:\n",
    "    print(\"Since the p-value is less than 0.05, we reject the null hypothesis and conclude that there is a significant correlation.\")\n",
    "else:\n",
    "    print(\"Since the p-value is greater than 0.05, we fail to reject the null hypothesis and conclude that there is no significant correlation.\")\n",
    "\n",
    "# Interpretation of the r_pb value\n",
    "if r_pb > 0:\n",
    "    direction = \"positive\"\n",
    "else:\n",
    "    direction = \"negative\"\n",
    "\n",
    "strength = \"\"\n",
    "abs_r_pb = abs(r_pb)\n",
    "if abs_r_pb < 0.1:\n",
    "    strength = \"negligible\"\n",
    "elif abs_r_pb < 0.3:\n",
    "    strength = \"weak\"\n",
    "elif abs_r_pb < 0.5:\n",
    "    strength = \"moderate\"\n",
    "else:\n",
    "    strength = \"strong\"\n",
    "\n",
    "print(f\"The correlation is {direction} and the strength of the correlation is {strength}.\")"
   ]
  },
  {
   "cell_type": "markdown",
   "metadata": {},
   "source": [
    "- In the context of time we will continue without this and give more attention to the collinearity section"
   ]
  },
  {
   "cell_type": "code",
   "execution_count": null,
   "metadata": {},
   "outputs": [],
   "source": [
    "# TODO: Appendix \n",
    "failure_data_without_null = failure_data_treating_outliers\n",
    "# Identify binary and continuous variables\n",
    "binary_vars = [col for col in failure_data_without_null.columns if failure_data_without_null[col].nunique() == 2]\n",
    "continuous_vars = [col for col in failure_data_without_null.columns if failure_data_without_null[col].dtype in ['int64', 'float64'] and failure_data_without_null[col].nunique() > 2]\n",
    "\n",
    "# Initialize the correlation matrix\n",
    "corr_matrix = pd.DataFrame(np.zeros((len(failure_data_without_null.columns), len(failure_data_without_null.columns))), index=failure_data_without_null.columns, columns=failure_data_without_null.columns)\n",
    "\n",
    "# Compute correlations\n",
    "for var1 in failure_data_without_null.columns:\n",
    "    for var2 in failure_data_without_null.columns:\n",
    "        if var1 == var2:\n",
    "            corr_matrix.loc[var1, var2] = 1.0  # Correlation with itself is 1\n",
    "        elif var1 in binary_vars and var2 in continuous_vars:\n",
    "            r_pb, _ = pointbiserialr(failure_data_without_null[var1], failure_data_without_null[var2])\n",
    "            corr_matrix.loc[var1, var2] = r_pb\n",
    "            corr_matrix.loc[var2, var1] = r_pb\n",
    "        elif var1 in continuous_vars and var2 in continuous_vars:\n",
    "            r_pearson, _ = pearsonr(failure_data_without_null[var1], failure_data_without_null[var2])\n",
    "            corr_matrix.loc[var1, var2] = r_pearson\n",
    "            corr_matrix.loc[var2, var1] = r_pearson\n",
    "\n",
    "# Plot the heatmap with annotations rounded to 2 decimal places\n",
    "plt.figure(figsize=(12, 10))\n",
    "sns.heatmap(corr_matrix, annot=True, fmt=\".2f\", cmap='coolwarm', vmin=-1, vmax=1)\n",
    "plt.title('Correlation Heatmap')\n",
    "plt.show()\n"
   ]
  },
  {
   "cell_type": "markdown",
   "metadata": {},
   "source": [
    "- P values of `process_temp`, `torque` and `tool_wear` are close to 0, rejecting the null hypothesis in support of the alternative hypothesis the data is statistically related to the dependant variable. Therefore changes in these variables are associated with changes with the liklihood of `machine_failure` occuring."
   ]
  },
  {
   "cell_type": "markdown",
   "metadata": {},
   "source": [
    "## Appendix - Skewness"
   ]
  },
  {
   "cell_type": "code",
   "execution_count": null,
   "metadata": {},
   "outputs": [],
   "source": [
    "# TODO: put this in the appendix \n",
    "# measuring skewness \n",
    "# Begin with our dependant variable \"Machine failure\". As it's binary data, we will visualise the frequency of the data \n",
    "\n",
    "failure_data_without_null['Machine failure'].hist()\n",
    "plt.title('Histogram of Machine Failures ')\n",
    "\n",
    "# Strongly biased towards `0` indicating that majority of the data gives information about machines that did NOT fail during the manufacturing process.\n"
   ]
  },
  {
   "cell_type": "code",
   "execution_count": null,
   "metadata": {},
   "outputs": [],
   "source": [
    "# TODO: put this in the appendix \n",
    "# interpreting the skew() value\n",
    "\n",
    "data = [(10, 20, 30, 40, 50, 60, 70), \n",
    "        (10, 20, 30, 40, 30, 20, 10) ]\n",
    "df = pd.DataFrame(data)\n",
    "df\n",
    "skew_value = df.skew(axis=1)\n",
    "print(skew_value)\n",
    "\n",
    "df.iloc[0].plot()\n",
    "df.iloc[1].plot()"
   ]
  },
  {
   "cell_type": "markdown",
   "metadata": {},
   "source": [
    "- In the first row of the data the values are `(10, 20, 30, 40, 50, 60, 70)`, plotted by the blue line. This is a perfectly symmetrical data set when considered with respect to the mean. Even though the values are increasing, they are evenly spaced, and the distribution around the mean is symmetric.SystemError\n",
    "\n",
    "TODO: put the underlying skew calculation (theory) in the appendix."
   ]
  },
  {
   "cell_type": "code",
   "execution_count": null,
   "metadata": {},
   "outputs": [],
   "source": [
    "#### Skew test & Histogram\n",
    "failure_data_without_null = pd.read_csv('failure_data_step_2_removed_null.csv')\n",
    "info = DataFrameInfo(failure_data_without_null)\n",
    "failure_data_without_null['Air temperature [K]'].skew()"
   ]
  },
  {
   "cell_type": "markdown",
   "metadata": {},
   "source": [
    "##### Deciding which varibales to treat for skewness based on Q-Q plot & Normality tests \n",
    "- QQ plot with normality test results "
   ]
  },
  {
   "cell_type": "code",
   "execution_count": null,
   "metadata": {},
   "outputs": [],
   "source": [
    "plott = Plotter(failure_data_without_null)\n",
    "info = DataFrameInfo(failure_data_without_null)\n",
    "\n",
    "plott.plot_qq('Air temperature [K]')\n",
    "print('Normality test Air temperature [K]')\n",
    "info.normal_test('Air temperature [K]')"
   ]
  },
  {
   "cell_type": "code",
   "execution_count": null,
   "metadata": {},
   "outputs": [],
   "source": [
    "continous_variables = ['Air temperature [K]', 'Process temperature [K]', 'Rotational speed [rpm]', 'Torque [Nm]', 'Tool wear [min]']"
   ]
  },
  {
   "cell_type": "code",
   "execution_count": null,
   "metadata": {},
   "outputs": [],
   "source": [
    "# plott = Plotter(failure_data_without_null)\n",
    "# info = DataFrameInfo(failure_data_without_null)\n",
    "\n",
    "# continous_variables = ['Air temperature [K]', 'Process temperature [K]', 'Rotational speed [rpm]', 'Torque [Nm]', 'Tool wear [min]']\n",
    "\n",
    "# for i in continous_variables:\n",
    "#     plott.plot_qq(i)\n",
    "#     print(f'Normality test for {i}')\n",
    "#     info.normal_test(i)"
   ]
  },
  {
   "cell_type": "code",
   "execution_count": null,
   "metadata": {},
   "outputs": [],
   "source": [
    "# Subplots: Q-Q & Normal Test \n",
    "# Define the continuous variables\n",
    "continuous_variables = ['Air temperature [K]', 'Process temperature [K]', 'Rotational speed [rpm]', 'Torque [Nm]', 'Tool wear [min]']\n",
    "\n",
    "# Create a grid for the plots\n",
    "fig, axes = plt.subplots(nrows=2, ncols=3, figsize=(18, 12))\n",
    "axes = axes.flatten()\n",
    "\n",
    "# Loop through each continuous variable and create the Q-Q plot\n",
    "for i, var in enumerate(continuous_variables):\n",
    "    ax = axes[i]\n",
    "    stats.probplot(failure_data_without_null[var], dist=\"norm\", plot=ax)\n",
    "    stat, p = stats.normaltest(failure_data_without_null[var])\n",
    "    \n",
    "    # Add the normality test results to the plot\n",
    "    ax.annotate(f'Statistics={stat:.3f}, p={p:.3f}', xy=(0.05, 0.95), xycoords='axes fraction', \n",
    "                fontsize=12, verticalalignment='top', bbox=dict(boxstyle=\"round,pad=0.3\", edgecolor=\"black\", facecolor=\"white\"))\n",
    "    ax.set_title(f'Q-Q plot for {var}')\n",
    "    \n",
    "# Remove any empty subplots\n",
    "for j in range(len(continuous_variables), len(axes)):\n",
    "    fig.delaxes(axes[j])\n",
    "\n",
    "plt.tight_layout()\n",
    "plt.show()\n"
   ]
  },
  {
   "cell_type": "code",
   "execution_count": null,
   "metadata": {},
   "outputs": [],
   "source": [
    "continous_variables"
   ]
  },
  {
   "cell_type": "code",
   "execution_count": null,
   "metadata": {},
   "outputs": [],
   "source": [
    "# TODO: put in appendix\n",
    "# Khurmi TODO: Make this into a grid of subplots \n",
    "# Histogram & Normal Test \n",
    "\n",
    "plott = Plotter(failure_data_without_null)\n",
    "info = DataFrameInfo(failure_data_without_null)\n",
    "\n",
    "for i in continous_variables:\n",
    "    plott.histplot(i)\n",
    "    plt.show()\n",
    "    print(f'Skew Test: {failure_data_without_null[i].skew()}')\n"
   ]
  },
  {
   "cell_type": "markdown",
   "metadata": {},
   "source": [
    "`Rotational speed [rpm]` will need treatement for skewed data\n",
    "- The histogram for `Rotational speed [rpm]` shows a clearly visible positive skew of data. The skew test value is 1.99 above the greater than 1 threshold that depicts highly skewed data.\n",
    "\n",
    "All other variables:\n",
    "- skew test values suggest that they are all relatively close to 0, suggesting the data is symmetrical\n",
    "- 'Tool wear [min]': a skewness value of 0 suggests that the data is evenly distributed around the mean, with no significant skew to the left or right, which is clearly seen by the histogram, where the majority of the data is fairly uniform up to 200 minutes."
   ]
  },
  {
   "cell_type": "code",
   "execution_count": null,
   "metadata": {},
   "outputs": [],
   "source": [
    "# # TODO: put in appendix \n",
    "# info = DataFrameInfo(failure_data_without_null)\n",
    "# # info.normal_test()\n",
    "# print('Normal Test')\n",
    "# for i in continous_variables:\n",
    "#     print(i)\n",
    "#     print(info.normal_test(i))"
   ]
  },
  {
   "cell_type": "markdown",
   "metadata": {},
   "source": [
    "#### Histogram & Normal Test: \n",
    "\n",
    "- `Tool wear [min]` histogram shows a subtle positive skew\n",
    "- The p-value for `Torque [Nm]` is stongly in favour of the NULL hypthesis as p > 0.75. This is contradictory to the histogram of the data which shows a clear normal distribution\n",
    "\n",
    "Investigate all three of above variables for skewness."
   ]
  },
  {
   "cell_type": "code",
   "execution_count": null,
   "metadata": {},
   "outputs": [],
   "source": [
    "skewed_variables = ['Rotational speed [rpm]', 'Tool wear [min]', 'Torque [Nm]']"
   ]
  },
  {
   "cell_type": "code",
   "execution_count": null,
   "metadata": {},
   "outputs": [],
   "source": [
    "# # TODO: Appendix\n",
    "# # Reject the null hypothesis for all continous variables apart from `Torque`. As the p-value suggests fairly strong evidence for a normal distribution for `Torque`\n",
    "# # ignore UDI, as it is a label rather than a explanatory variable for `Machine failure`\n",
    "# # visualise the skew for the variables of interest \n",
    "#     # Air temperature [K]\n",
    "#     # Process temperature [K]\n",
    "#     # Rotational speed [rpm]\n",
    "#     # Tool wear [min]\n",
    "\n",
    "# # create histograms and qq plots for each\n",
    "\n",
    "# plott = Plotter(failure_data_without_null)\n",
    "\n",
    "\n",
    "# skewed_variables = ['Air temperature [K]', 'Process temperature [K]', 'Rotational speed [rpm]', 'Tool wear [min]']\n",
    "# skewed_variables\n",
    "\n",
    "# for i in skewed_variables:\n",
    "#     print(i)\n",
    "#     plott.histplot(i)"
   ]
  },
  {
   "cell_type": "markdown",
   "metadata": {},
   "source": [
    "\n",
    "\n",
    "\n",
    "\n",
    "- Rotational speed [rpm]\n",
    "- Tool wear [min]\n",
    "\n"
   ]
  },
  {
   "cell_type": "markdown",
   "metadata": {},
   "source": [
    "#### Air temperature"
   ]
  },
  {
   "cell_type": "code",
   "execution_count": null,
   "metadata": {},
   "outputs": [],
   "source": [
    "\n",
    "plott.histplot('Air temperature [K]')"
   ]
  },
  {
   "cell_type": "markdown",
   "metadata": {},
   "source": [
    "- `Air temperature [K]`, contains 3 spikes, this likely for each `Type`. Where the Air temperature is higher 'High' quality products and the converse for low quality products "
   ]
  },
  {
   "cell_type": "code",
   "execution_count": null,
   "metadata": {},
   "outputs": [],
   "source": [
    "plott= Plotter(failure_data_without_null)\n",
    "plott.plot_qq('Air temperature [K]')"
   ]
  },
  {
   "cell_type": "markdown",
   "metadata": {},
   "source": [
    "- Air Temperature Q-Q plot shows that there is deviation from in the lower and upper quartiles of the data set."
   ]
  },
  {
   "cell_type": "code",
   "execution_count": null,
   "metadata": {},
   "outputs": [],
   "source": [
    "# # treating the skewness in Air temperature \n",
    "# # Box-Cox Transformation. \n",
    "#     # Motivation - out data is positive \n",
    "\n",
    "# boxcox_air = failure_data['Air temperature [K]']\n",
    "# boxcox_air = stats.boxcox(boxcox_air) \n",
    "# boxcox_air = pd.Series(boxcox_air[0])\n",
    "# t=sns.histplot(boxcox_air,label=\"Skewness: %.2f\"%(boxcox_air.skew()) )\n",
    "# t.legend()\n",
    "# boxcox_air = pd.Series(boxcox_air[0])"
   ]
  },
  {
   "cell_type": "code",
   "execution_count": null,
   "metadata": {},
   "outputs": [],
   "source": [
    "# # boxcox transformation, did not work as expected, this is because the variance is relatively small, the points are all concentrated. \n",
    "\n",
    "# failure_data_without_null['Air temperature [K]']"
   ]
  },
  {
   "cell_type": "code",
   "execution_count": null,
   "metadata": {},
   "outputs": [],
   "source": [
    "# Yeo Johnson transformation\n",
    "\n",
    "yeojohnson_air = failure_data_without_null['Air temperature [K]']\n",
    "yeojohnson_air = stats.yeojohnson(yeojohnson_air)\n",
    "yeojohnson_air= pd.Series(yeojohnson_air[0])\n",
    "t=sns.histplot(yeojohnson_air,label=\"Skewness: %.2f\"%(yeojohnson_air.skew()) )\n",
    "t.legend()\n"
   ]
  },
  {
   "cell_type": "code",
   "execution_count": null,
   "metadata": {},
   "outputs": [],
   "source": [
    "# The YeoJohnson transformation has successfully transformed the data to be symmetrical. The closer the value to zero, the more symmetrical the data. "
   ]
  },
  {
   "cell_type": "code",
   "execution_count": null,
   "metadata": {},
   "outputs": [],
   "source": [
    "# # compare with original distrubution \n",
    "# plott.plot_hist('Air temperature [K]')"
   ]
  },
  {
   "cell_type": "markdown",
   "metadata": {},
   "source": [
    "#### Process Temperature [K]"
   ]
  },
  {
   "cell_type": "code",
   "execution_count": null,
   "metadata": {},
   "outputs": [],
   "source": [
    "plott.histplot('Process temperature [K]')"
   ]
  },
  {
   "cell_type": "markdown",
   "metadata": {},
   "source": [
    "- Process temperature [K], contains a spike around 310K and slightly negative skew. This is expected as the increase in temperature maybe due to the variation of products involved, as the quality increases, the process temperature increases. Investigate this with a scatter plot of `Type` vs temperature variables."
   ]
  },
  {
   "cell_type": "code",
   "execution_count": null,
   "metadata": {},
   "outputs": [],
   "source": [
    "plott.plot_qq('Process temperature [K]')"
   ]
  },
  {
   "cell_type": "markdown",
   "metadata": {},
   "source": [
    "### Rotational speed and Air temperature are the only variables with Skewness. "
   ]
  },
  {
   "cell_type": "code",
   "execution_count": null,
   "metadata": {},
   "outputs": [],
   "source": [
    "# # Rotational speed \n",
    "\n",
    "# plott.histplot('Rotational speed [rpm]')\n",
    "# print('histogram shows a positive skew and supports the skew test')"
   ]
  },
  {
   "cell_type": "code",
   "execution_count": null,
   "metadata": {},
   "outputs": [],
   "source": [
    "# plott.plot_qq('Rotational speed [rpm]')\n",
    "# print('Severe deviation in the upper bound of the data. Slight deviation in the lower bound')\n",
    "# print('proceed with transformation')"
   ]
  },
  {
   "cell_type": "code",
   "execution_count": null,
   "metadata": {},
   "outputs": [],
   "source": [
    "# As the data is positive and rightly skewed, proceed with a box cox transformation \n",
    "log_rotational_speed = failure_data_without_null['Rotational speed [rpm]'].map(lambda i: np.log(i) if i > 0 else 0)\n",
    "t = sns.histplot(log_rotational_speed, label=\"Skewness: %.2f\"%(log_rotational_speed.skew()))\n",
    "t.legend()\n",
    "print(\"skewness has been reduced, the data is still not symmetrical, proceed with Box-Cox Transformations \")"
   ]
  },
  {
   "cell_type": "code",
   "execution_count": null,
   "metadata": {},
   "outputs": [],
   "source": [
    "# # TODO: appendix \n",
    "boxcox_rotational_speed = failure_data_without_null['Rotational speed [rpm]']\n",
    "boxcox_rotational_speed = stats.boxcox(boxcox_rotational_speed)\n",
    "boxcox_rotational_speed = pd.Series(boxcox_population[0])\n",
    "t = sns.histplot(boxcox_rotational_speed, label=\"Skewness: %.2f\"%(boxcox_rotational_speed.skew()))\n",
    "t.legend()\n",
    "\n",
    "# boxcox_rotational_speed.head()"
   ]
  },
  {
   "cell_type": "code",
   "execution_count": null,
   "metadata": {},
   "outputs": [],
   "source": [
    "yeojohnson_rotational_speed = failure_data_without_null['Rotational speed [rpm]']\n",
    "yeojohnson_rotational_speed = stats.yeojohnson(yeojohnson_rotational_speed)\n",
    "yeojohnson_rotational_speed = pd.Series(yeojohnson_rotational_speed[0])\n",
    "yeojohnson_rotational_speed_hist = sns.histplot(yeojohnson_rotational_speed, label = \"Skewness: %.2f\"%(yeojohnson_rotational_speed.skew()))\n",
    "yeojohnson_rotational_speed_hist.legend()\n",
    "\n"
   ]
  },
  {
   "cell_type": "code",
   "execution_count": null,
   "metadata": {},
   "outputs": [],
   "source": [
    "# Rotational Speed Side by side comparison\n",
    "fig, ax = plt.subplots(1, 2, figsize=(14, 6))\n",
    "\n",
    "# Original data histogram\n",
    "sns.histplot(data=failure_data_without_null, x='Rotational speed [rpm]', ax=ax[0])\n",
    "original_skewness = failure_data_without_null['Rotational speed [rpm]'].skew()\n",
    "ax[0].set_title(f'Original Data\\nSkewness: {original_skewness:.2f}')\n",
    "ax[0].set_xlabel('Rotational speed [rpm]')\n",
    "ax[0].set_ylabel('Count')\n",
    "\n",
    "# Transformed data histogram\n",
    "yeojohnson_rotational_speed = failure_data_without_null['Rotational speed [rpm]']\n",
    "yeojohnson_rotational_speed, _ = stats.yeojohnson(yeojohnson_rotational_speed)\n",
    "yeojohnson_rotational_speed = pd.Series(yeojohnson_rotational_speed)\n",
    "yeojohnson_rotational_speed_hist = sns.histplot(yeojohnson_rotational_speed, ax=ax[1])\n",
    "\n",
    "transformed_skewness = yeojohnson_rotational_speed.skew()\n",
    "ax[1].set_title(f'Transformed Data\\nSkewness: {transformed_skewness:.2f}')\n",
    "ax[1].set_xlabel('Rotational speed [rpm]')\n",
    "ax[1].set_ylabel('Count')\n",
    "\n",
    "# Show plot\n",
    "plt.suptitle('Comparison of Original and Transformed Data Skewness', fontsize=16)\n",
    "plt.tight_layout(rect=[0, 0, 1, 0.96])\n",
    "plt.show()"
   ]
  },
  {
   "cell_type": "code",
   "execution_count": null,
   "metadata": {},
   "outputs": [],
   "source": [
    "# data transformation \n",
    "yeojohnson_rotational_speed = failure_data_without_null['Rotational speed [rpm]']\n",
    "yeojohnson_rotational_speed, _ = stats.yeojohnson(yeojohnson_rotational_speed)\n",
    "yeojohnson_rotational_speed = pd.Series(yeojohnson_rotational_speed)\n"
   ]
  },
  {
   "cell_type": "code",
   "execution_count": null,
   "metadata": {},
   "outputs": [],
   "source": [
    "# # TODO: Appendix \n",
    "# Do the same for Air Temperature\n",
    "\n",
    "# Side by side comparison\n",
    "fig, ax = plt.subplots(1, 2, figsize=(14, 6))\n",
    "\n",
    "# Original data histogram\n",
    "sns.histplot(data=failure_data_without_null, x='Air temperature [K]', ax=ax[0])\n",
    "original_skewness = failure_data_without_null['Air temperature [K]'].skew()\n",
    "ax[0].set_title(f'Original Data\\nSkewness: {original_skewness:.2f}')\n",
    "ax[0].set_xlabel('Air temperature [K]')\n",
    "ax[0].set_ylabel('Count')\n",
    "\n",
    "# Transformed data histogram\n",
    "yeojohnson_air = failure_data_without_null['Air temperature [K]']\n",
    "yeojohnson_air, _ = stats.yeojohnson(yeojohnson_air) # The '_' ignores the second parameter, in this case it is the lambda parameter \n",
    "yeojohnson_air = pd.Series(yeojohnson_air)\n",
    "yeojohnson_air_hist = sns.histplot(yeojohnson_air, ax=ax[1])\n",
    "transformed_skewness = yeojohnson_air.skew()\n",
    "ax[1].set_title(f'Transformed Data\\nSkewness: {transformed_skewness:.2f}')\n",
    "ax[1].set_xlabel('Air temperature [K]')\n",
    "ax[1].set_ylabel('Count')\n",
    "\n",
    "# Show plot\n",
    "plt.suptitle('Comparison of Original and Transformed Data Skewness', fontsize=16)\n",
    "plt.tight_layout(rect=[0, 0, 1, 0.96])\n",
    "plt.show()"
   ]
  },
  {
   "cell_type": "markdown",
   "metadata": {},
   "source": [
    "#### Now use the DataTransformation class to add these transformations  "
   ]
  },
  {
   "cell_type": "code",
   "execution_count": null,
   "metadata": {},
   "outputs": [],
   "source": [
    "# create a copy of the data set \n",
    "failure_data_cleaned_unskewed = failure_data_without_null.copy(deep=True)\n",
    "\n",
    "# create a Datatransform instance \n",
    "dt = DataTransform(failure_data_cleaned_unskewed)\n",
    "yeojohnson_rotational_speed = dt.yeojohnson('Rotational speed [rpm]')\n",
    "failure_data_cleaned_unskewed['Rotational speed [rpm]'] = yeojohnson_rotational_speed\n",
    "\n",
    "## Quick glance at the df after treating for skewness\n",
    "# failure_data_cleaned_unskewed.head()\n",
    "# sum(failure_data_without_null['Air temperature [K]'].isnull())"
   ]
  },
  {
   "cell_type": "code",
   "execution_count": null,
   "metadata": {},
   "outputs": [],
   "source": [
    "print('original data set ')\n",
    "print('\\n')\n",
    "print(failure_data_without_null[['Air temperature [K]', 'Rotational speed [rpm]']])"
   ]
  },
  {
   "cell_type": "code",
   "execution_count": null,
   "metadata": {},
   "outputs": [],
   "source": [
    "print('After skewness transformations')\n",
    "print('\\n')\n",
    "print(failure_data_cleaned_unskewed[['Air temperature [K]', 'Rotational speed [rpm]']])\n",
    "print('\\n')\n",
    "print('The transformation for skewness has been made. The interpretability of `Air temperature [K]` and `Rotational speed` has reduced drastically')\n",
    "\n",
    "# Ask khushboo how tp sort this out.\n",
    "# TODO: need to change the df  name for after skewness has been applied, this is so that the code is reproducible "
   ]
  },
  {
   "cell_type": "code",
   "execution_count": null,
   "metadata": {},
   "outputs": [],
   "source": [
    "info_after_skew_transformation = DataFrameInfo(failure_data_cleaned_unskewed)\n",
    "print(info_after_skew_transformation.percentage_of_null()[['Air temperature [K]', 'Rotational speed [rpm]']])\n",
    "\n",
    "print('There is now NaN values in the data set, be aware for the machine learning')"
   ]
  },
  {
   "cell_type": "markdown",
   "metadata": {},
   "source": [
    "#### Appendix: Removing Outliers (Thought Process) "
   ]
  },
  {
   "cell_type": "code",
   "execution_count": null,
   "metadata": {},
   "outputs": [],
   "source": [
    "info = DataFrameInfo(failure_data_cleaned_unskewed)\n",
    "info.continous_variables()\n",
    "\n",
    "continous_variables = [\n",
    "    'Air temperature [K]',\n",
    "    'Process temperature [K]',\n",
    "    'Rotational speed [rpm]',\n",
    "    'Torque [Nm]',\n",
    "    'Tool wear [min]']\n",
    "\n",
    " # Note the following variables were not included because they are either strings or unique keys, both have no statistical significance\n",
    "    #'UDI',\n",
    "    #'Product ID',\n",
    "    #'Type'\n",
    "\n",
    "continous_variables\n"
   ]
  },
  {
   "cell_type": "code",
   "execution_count": null,
   "metadata": {},
   "outputs": [],
   "source": [
    "# box plots of continous variables \n",
    "# plott = Plotter(failure_data_cleaned_unskewed)\n",
    "\n",
    "# for i in continous_variables:\n",
    "#     print(i)\n",
    "\n",
    "print(continous_variables)\n",
    "\n",
    "for i in continous_variables:\n",
    "    plt.figure()\n",
    "    sns.boxplot(failure_data_cleaned_unskewed[i])\n",
    "    plt.title(f'Boxplot of {i}')\n",
    "    plt.show()\n",
    "\n",
    "# Note: Boxplot is a much better visual representation, do z score analysis for 'Process temperature [K]', 'Rotational speed [rpm]', 'Torque [Nm]'"
   ]
  },
  {
   "cell_type": "markdown",
   "metadata": {},
   "source": [
    "- Boxplots for Air Temperature & Torque variables show no significant outliers. \n",
    "- Boxplots for 'Process temperature [K]', 'Rotational speed [rpm]', 'Torque [Nm]' do show outliers, proceed with z-score analysis to segment potential outliers "
   ]
  },
  {
   "cell_type": "markdown",
   "metadata": {},
   "source": [
    "## Z - Score analysis for `Process temperature [K]`, `Rotational speed [rpm]` and `Torque [Nm]`"
   ]
  },
  {
   "cell_type": "markdown",
   "metadata": {},
   "source": [
    "## Process Temperature"
   ]
  },
  {
   "cell_type": "code",
   "execution_count": null,
   "metadata": {},
   "outputs": [],
   "source": [
    "# Statistcal Methods for outlier detection \n",
    "udi_process_temp_df = failure_data_cleaned_unskewed[['UDI','Process temperature [K]']]\n",
    "process_temp = udi_process_temp_df['Process temperature [K]']\n",
    "\n",
    "# process_temp.head()\n",
    "mean_process_temp = np.mean(process_temp)\n",
    "std_process_temp = np.std(process_temp)\n",
    "z_scores_process_temp = (process_temp - mean_process_temp) / std_process_temp\n",
    "\n",
    "# change the name of the dataframe \n",
    "udi_process_temp_df_z = udi_process_temp_df\n",
    "\n",
    "# Add the z-scores to the dataframe as a new column:\n",
    "udi_process_temp_df_z['z_scores'] = z_scores_process_temp\n",
    "\n",
    "print(udi_process_temp_df_z.tail(10))\n",
    "print(sns.boxplot(udi_process_temp_df_z['z_scores']))"
   ]
  },
  {
   "cell_type": "markdown",
   "metadata": {},
   "source": [
    "- There are outliers below -3 for the Z scores."
   ]
  },
  {
   "cell_type": "code",
   "execution_count": null,
   "metadata": {},
   "outputs": [],
   "source": [
    "# Z-score Threshold \n",
    "threshold_2 = 2 \n",
    "threshold_3 = 3 \n",
    "\n",
    "z_scores = udi_process_temp_df_z['z_scores']\n",
    "\n",
    "outliers_2 = udi_process_temp_df_z[np.abs(z_scores) > threshold_2]\n",
    "outliers_3 = udi_process_temp_df_z[np.abs(z_scores) > threshold_3]\n",
    "\n",
    "percentage_outliers_thereshold_2 = round(len(outliers_2)/len(udi_process_temp_df_z) * 100, 2)\n",
    "percentage_outliers_thereshold_3 = round(len(outliers_3)/len(udi_process_temp_df_z) * 100, 2)\n",
    "\n",
    "\n",
    "# print(f\"Percentage of observations with outliers based on z-score threshold ±2: {round(len(outliers_2)/len(process_temp_df_z) * 100, 2)}\")\n",
    "# print(f\"Percentage of observations with outliers based on z-score threshold ±3: {round(len(outliers_3)/len(process_temp_df_z) * 100, 2)}\")\n",
    "\n",
    "print(f\"Percentage of observations with outliers based on z-score threshold ±2: {percentage_outliers_thereshold_2}\")\n",
    "print(f\"Percentage of observations with outliers based on z-score threshold ±3: {percentage_outliers_thereshold_3}\")\n",
    "#khurmi\n",
    "# TODO: convert this into a function and add to the relevant classes \n",
    "    # func for z-scores of a variable \n",
    "    # func z_score_info"
   ]
  },
  {
   "cell_type": "markdown",
   "metadata": {},
   "source": [
    "#### Choosing between a Z-Score Threshold of 2 and 3 \n",
    "- Given that we dealing with failure data in the manufacturing process, the conseqences of missing a potential failure can be severe. \n",
    "- Therefore, consider the more sensitive approach of a threshold of 2.\n",
    "\n",
    "Pros: more sensitive to deteching smaller anomalies which might be early indicators of potential failures\n",
    "\n",
    "Cons: Higher number of false positives, meaning more frequent alerts and possibly unnecessary inspections or interventions\n",
    "\n",
    "Suggested approach (Post implementation):\n",
    "- Begin with a z-score of 2 i.e. beginning more conservative and increasing based on future data.\n",
    "- Monitor & Adjust: monitor the alerts and evaluate the relevance of outliers."
   ]
  },
  {
   "cell_type": "markdown",
   "metadata": {},
   "source": [
    "#### Filtering "
   ]
  },
  {
   "cell_type": "code",
   "execution_count": null,
   "metadata": {},
   "outputs": [],
   "source": [
    "#filter out the outliers of Process Temperature from our main data set\n",
    "outliers_2\n",
    "\n",
    "#failure_data_cleaned_unskewed['UDI'].head()\n",
    "\n",
    "mask = ~failure_data_cleaned_unskewed['UDI'].isin(outliers_2['UDI'])\n",
    "\n",
    "mask.sum()\n",
    "failure_data_cleaned_unskewed_no_outliers = failure_data_cleaned_unskewed[mask]\n",
    "\n",
    "print('Number of rows of original df:')\n",
    "print(len(failure_data_cleaned_unskewed))\n",
    "print('\\n')\n",
    "print('Number of rows after filtering the Outliers of the Process Temperature:')\n",
    "print(len(failure_data_cleaned_unskewed_no_outliers))"
   ]
  },
  {
   "cell_type": "code",
   "execution_count": null,
   "metadata": {},
   "outputs": [],
   "source": [
    "# Create subplots\n",
    "fig, axes = plt.subplots(nrows=1, ncols=2, figsize=(10, 4))\n",
    "\n",
    "# First plot: With outliers\n",
    "sns.boxplot(data=failure_data_cleaned_unskewed, y='Process temperature [K]', ax=axes[0])\n",
    "axes[0].set_title('With Outliers')\n",
    "\n",
    "# Second plot: Without outliers\n",
    "sns.boxplot(data=failure_data_cleaned_unskewed_no_outliers, y='Process temperature [K]', ax=axes[1])\n",
    "axes[1].set_title('Without Outliers')\n",
    "\n",
    "# Display the plots\n",
    "plt.tight_layout()\n",
    "plt.show()"
   ]
  },
  {
   "cell_type": "code",
   "execution_count": null,
   "metadata": {},
   "outputs": [],
   "source": [
    "# TODO: make the joint boxpolots have the same scale "
   ]
  },
  {
   "cell_type": "markdown",
   "metadata": {},
   "source": [
    "### Updating classes with z_score and z_score_info functions"
   ]
  },
  {
   "cell_type": "code",
   "execution_count": null,
   "metadata": {},
   "outputs": [],
   "source": [
    "# # adding a function that gives z score information to the DataInformation Class\n",
    "\n",
    "# def z_score_info(z_scores):\n",
    "#     # Z-score Threshold \n",
    "#     threshold_2 = 2 \n",
    "#     threshold_3 = 3\n",
    "#     # z_scores = udi_process_temp_df_z['z_scores']\n",
    "\n",
    "#     outliers_2 = (np.abs(z_scores) > threshold_2).sum() \n",
    "#     outliers_3 = (np.abs(z_scores) > threshold_3).sum()\n",
    "\n",
    "\n",
    "#     percentage_outliers_thereshold_2 = round(outliers_2/len(z_scores) * 100, 2)\n",
    "#     percentage_outliers_thereshold_3 = round(outliers_3/len(z_scores) * 100, 2)\n",
    "\n",
    "#     print(f\"Number of observations with outliers based on z-score threshold ±2: {outliers_2}\")\n",
    "#     print(f\"Percentage of observations with outliers based on z-score threshold ±2: {percentage_outliers_thereshold_2}\")\n",
    "#     print(\"\\n\")\n",
    "#     print(f\"Number of observations with outliers based on z-score threshold ±2: {outliers_3}\")\n",
    "#     print(f\"Percentage of observations with outliers based on z-score threshold ±3: {percentage_outliers_thereshold_3}\")\n",
    "\n",
    "# # testing "
   ]
  },
  {
   "cell_type": "markdown",
   "metadata": {},
   "source": [
    "## Rotational speed"
   ]
  },
  {
   "cell_type": "code",
   "execution_count": null,
   "metadata": {},
   "outputs": [],
   "source": [
    "# rename data set \n",
    "failure_data_cleaned_v2 = pd.read_csv('failure_data_step_3_skew_transformations.csv')\n",
    "plott = Plotter(failure_data_cleaned_v2)\n",
    "plott.boxplot('Rotational speed [rpm]')\n",
    "\n",
    "print('Outliers in both upper and lower bounds of the data')\n"
   ]
  },
  {
   "cell_type": "code",
   "execution_count": null,
   "metadata": {},
   "outputs": [],
   "source": [
    "# z score analysis\n",
    "\n",
    "dt = DataTransform(failure_data_cleaned_v2)\n",
    "rotational_speed_z = dt.z_score('Rotational speed [rpm]')\n",
    "\n",
    "print('Number of NULL values in Rotational Speed z-scores')\n",
    "print(rotational_speed_z.isnull().sum()) # 446 null values \n",
    "\n",
    "# drop null values for the analysis \n",
    "rotational_speed_z_cleaned = rotational_speed_z.dropna()\n",
    "\n",
    "print('\\n')\n",
    "print('Number of NULL values in Rotational Speed z-scores after dropping NULL values')\n",
    "print(rotational_speed_z_cleaned.isnull().sum())\n",
    "\n",
    "sns.boxplot(rotational_speed_z_cleaned).set_title('Rotational speed Z-Scores ')\n"
   ]
  },
  {
   "cell_type": "code",
   "execution_count": null,
   "metadata": {},
   "outputs": [],
   "source": [
    "# Next steps:\n",
    "# Note here: could we consider removing only the upper boiund\n",
    "# drop rows based on the outliers for the rotational speed \n",
    "\n",
    "rotational_speed = failure_data_cleaned_v2[['UDI', 'Rotational speed [rpm]']]\n",
    "\n",
    "dt = DataTransform(rotational_speed)\n",
    "rotational_speed['z_scores'] = dt.z_score('Rotational speed [rpm]')\n",
    "rotational_speed\n",
    "\n",
    "print('Number of NULL values in Rotational Speed z-scores POST Skew Transoformation')\n",
    "print(rotational_speed['z_scores'].isnull().sum()) # 446 null, need to drop \n",
    "print('\\n')\n",
    "# Boxplot \n",
    "print(sns.boxplot(rotational_speed['z_scores']).set_title('Rotational speed Z-Scores '))\n",
    "\n",
    "# take a look at why there are NULL values when\n",
    "# deep dive into 1 use case \n",
    "rotational_speed[rotational_speed['z_scores'].isnull()].iloc[0]\n",
    "\n",
    "rotational_speed[rotational_speed['z_scores'].isnull()].iloc[0]['UDI'] # UDI 1272\n",
    "\n",
    "rotational_speed[rotational_speed['UDI'] == 1272] # Rotational speed has NaN values after the skewness transformation. \n",
    "\n",
    "\n",
    "# check orginal data frame \n",
    "rotational_speed_value_udi_1272 = failure_data_without_null.loc[failure_data_without_null['UDI'] == 1272, 'Rotational speed [rpm]'].values[0]\n",
    "\n",
    "print('UDI case `1271` BEFORE treating for skew:')\n",
    "print(rotational_speed_value_udi_1272)\n",
    "print('\\n')\n",
    "rotational_speed_value_udi_1272_after_skew = failure_data_cleaned_unskewed.loc[failure_data_cleaned_unskewed['UDI'] == 1272, 'Rotational speed [rpm]'].values[0]\n",
    "print('UDI case `1271` AFTER treating for skew:')\n",
    "print(rotational_speed_value_udi_1272_after_skew )"
   ]
  },
  {
   "cell_type": "markdown",
   "metadata": {},
   "source": [
    "### Dopping NULL values in the Rotational speed variable"
   ]
  },
  {
   "cell_type": "code",
   "execution_count": 71,
   "metadata": {},
   "outputs": [],
   "source": [
    "# The transformation to treat skewness has produced NULL values\n",
    "# For simplicity I will drop the rows for these NULL values\n",
    "\n",
    "# Drop null values \n",
    "rotational_speed_clean = rotational_speed[rotational_speed['z_scores'].notnull()]\n",
    "\n",
    "# list of UDIs to keep\n",
    "udi_to_keep = rotational_speed_clean['UDI']\n",
    "\n",
    "# create a boolean mask to identify rows to keep \n",
    "mask = failure_data_cleaned_v2['UDI'].isin(udi_to_keep)\n",
    "#mask.value_counts()\n",
    "\n",
    "# filtered data frame \n",
    "failure_data_cleaned_v3 = failure_data_cleaned_v2[mask]"
   ]
  },
  {
   "cell_type": "code",
   "execution_count": null,
   "metadata": {},
   "outputs": [],
   "source": [
    "# testing the transformation\n",
    "print(f\"length before filtering: {len(failure_data_cleaned_v2)}\")\n",
    "print(f\"length after dropping NULL values in Rotational speed: {len(failure_data_cleaned_v3)}\")\n",
    "\n",
    "print('Number of missing values in Rotational speed:')\n",
    "print(failure_data_cleaned_v3['Rotational speed [rpm]'].isnull().sum())"
   ]
  },
  {
   "cell_type": "code",
   "execution_count": null,
   "metadata": {},
   "outputs": [],
   "source": [
    "# do the z-score analysis with the cleaned data set\n",
    "rotational_speed_v3 = failure_data_cleaned_v3[['UDI', 'Rotational speed [rpm]']]\n",
    "\n",
    "dt = DataTransform(rotational_speed_v3)\n",
    "rotational_speed_v3['z_scores'] = dt.z_score('Rotational speed [rpm]')\n",
    "\n",
    "# check that there are no null values \n",
    "rotational_speed_v3.isnull().sum()\n",
    "\n",
    "# sns.boxplot(rotational_speed_v3['z_scores']) \n",
    "\n",
    "\n",
    "# TODO: remove outliers based on a threshold of 3 \n",
    "\n",
    "# boolean of outliers \n",
    "rotational_speed_outliers_mask = np.abs(rotational_speed_v3['z_scores']) > 3\n",
    "rotational_speed_outliers = rotational_speed_v3[rotational_speed_outliers_mask]\n",
    "\n",
    "rotational_speed_outliers['UDI']"
   ]
  },
  {
   "cell_type": "code",
   "execution_count": 74,
   "metadata": {},
   "outputs": [],
   "source": [
    "outliers_udis = rotational_speed_outliers['UDI'].tolist()\n",
    "\n",
    "failure_data_cleaned_v3\n",
    "mask = ~rotational_speed_v3 ['UDI'].isin(outliers_udis)"
   ]
  },
  {
   "cell_type": "code",
   "execution_count": 75,
   "metadata": {},
   "outputs": [],
   "source": [
    "\n",
    "# Step 1: Extract the list of UDIs from the outliers DataFrame\n",
    "outliers_udis = rotational_speed_outliers['UDI'].tolist()\n",
    "\n",
    "# Step 2: Filter the original DataFrame to exclude the rows with these UDIs\n",
    "failure_data_cleaned_v3\n",
    "mask = ~rotational_speed_v3['UDI'].isin(outliers_udis) \n",
    "\n",
    "failure_data_cleaned_v4 = failure_data_cleaned_v3[mask]"
   ]
  },
  {
   "cell_type": "code",
   "execution_count": null,
   "metadata": {},
   "outputs": [],
   "source": [
    "failure_data_cleaned_v3['Rotational speed [rpm]'].isnull().sum()\n",
    "\n",
    "print(len(failure_data_cleaned_v3))\n",
    "len(failure_data_cleaned_v4)"
   ]
  },
  {
   "cell_type": "code",
   "execution_count": null,
   "metadata": {},
   "outputs": [],
   "source": [
    "# Create subplots with a smaller figure size\n",
    "fig, axes = plt.subplots(nrows=1, ncols=2, figsize=(12, 6))\n",
    "\n",
    "# Define the y-axis limits for both plots\n",
    "y_limits = (-5, 4)\n",
    "\n",
    "# First plot: No outliers\n",
    "sns.boxplot(data=failure_data_cleaned_v4, y='Rotational speed [rpm]', ax=axes[0])\n",
    "axes[0].set_title('Rotational speed [rpm] No Outliers')\n",
    "axes[0].set_ylim(y_limits)\n",
    "axes[0].axhline(y=3, color='r', linestyle='--', linewidth=1)\n",
    "axes[0].axhline(y=-3, color='r', linestyle='--', linewidth=1)\n",
    "\n",
    "# Second plot: With outliers\n",
    "sns.boxplot(data=failure_data_cleaned_v3, y='Rotational speed [rpm]', ax=axes[1])\n",
    "axes[1].set_title('Rotational speed [rpm] with Outliers')\n",
    "axes[1].set_ylim(y_limits)\n",
    "axes[1].axhline(y=3, color='r', linestyle='--', linewidth=1)\n",
    "axes[1].axhline(y=-3, color='r', linestyle='--', linewidth=1)\n",
    "\n",
    "# Adjust layout\n",
    "plt.tight_layout()\n",
    "plt.show()\n"
   ]
  },
  {
   "cell_type": "code",
   "execution_count": null,
   "metadata": {},
   "outputs": [],
   "source": [
    "# Create subplots with a smaller figure size\n",
    "fig, axes = plt.subplots(nrows=1, ncols=2, figsize=(12, 6))\n",
    "\n",
    "# Define the y-axis limits for both plots\n",
    "y_limits = (-5, 4)\n",
    "\n",
    "# First plot: No outliers\n",
    "sns.boxplot(data=rotational_speed_no_outliers, y='z_scores', ax=axes[0])\n",
    "axes[0].set_title('Rotational speed [rpm] No Outliers')\n",
    "axes[0].set_ylim(y_limits)\n",
    "axes[0].axhline(y=3, color='r', linestyle='--', linewidth=1)\n",
    "axes[0].axhline(y=-3, color='r', linestyle='--', linewidth=1)\n",
    "\n",
    "# Second plot: With outliers\n",
    "sns.boxplot(data=rotational_speed_v3, y='z_scores', ax=axes[1])\n",
    "axes[1].set_title('Rotational speed [rpm] with Outliers')\n",
    "axes[1].set_ylim(y_limits)\n",
    "axes[1].axhline(y=3, color='r', linestyle='--', linewidth=1)\n",
    "axes[1].axhline(y=-3, color='r', linestyle='--', linewidth=1)\n",
    "\n",
    "# Adjust layout\n",
    "plt.tight_layout()\n",
    "plt.show()\n"
   ]
  },
  {
   "cell_type": "code",
   "execution_count": null,
   "metadata": {},
   "outputs": [],
   "source": [
    "# make changes to data set i.e. the filtering etc.\n",
    "# first begin with reproducing the above plot using the failure_data df's, as using a subset for the plots will create issues later on, check this for the Air temperature variable too.\n",
    "\n",
    "# TODO: failure_data_cleaned_v4 has been deleted. Rename this\n",
    "failure_data_cleaned_v4['Rotational speed [rpm]'].isnull().sum()\n",
    "print(f\"length of data frame after dropping outliers for Rotational speed [rpm]: {len(failure_data_cleaned_v4)}\") # Expect 8863\n",
    "# Idea: look at the relationship of machine failures with the upperbounds of the continous variables."
   ]
  },
  {
   "cell_type": "markdown",
   "metadata": {},
   "source": [
    "## Treating Outliers in `Torque [Nm]` \n"
   ]
  },
  {
   "cell_type": "code",
   "execution_count": null,
   "metadata": {},
   "outputs": [],
   "source": [
    "plott = Plotter(failure_data_cleaned_v4)\n",
    "plott.boxplot('Torque [Nm]')"
   ]
  },
  {
   "cell_type": "markdown",
   "metadata": {},
   "source": [
    "- Outliers in both the upper and lower bound of the data "
   ]
  },
  {
   "cell_type": "code",
   "execution_count": null,
   "metadata": {},
   "outputs": [],
   "source": [
    "# z scores \n",
    "dt = DataTransform(failure_data_cleaned_v4)\n",
    "dt.z_score('Torque [Nm]').isnull().sum()\n",
    "# no null values \n",
    "\n",
    "failure_data_cleaned_v4['z_score_torque'] = dt.z_score('Torque [Nm]')\n",
    "\n",
    "plott = Plotter(failure_data_cleaned_v4)\n",
    "plott.boxplot('Torque [Nm]')\n",
    "plott.boxplot('z_score_torque')"
   ]
  },
  {
   "cell_type": "code",
   "execution_count": null,
   "metadata": {},
   "outputs": [],
   "source": [
    "# rather than z-score to identify outliers, use the quartile ranges. \n",
    "\n",
    "# Upper and lower quartiles \n",
    "Q1 = failure_data_cleaned_v4['Torque [Nm]'].quantile(0.25)\n",
    "Q3 = failure_data_cleaned_v4['Torque [Nm]'].quantile(.75)\n",
    "\n",
    "# \n",
    "IQR = Q3 - Q1 \n",
    "\n",
    "print(f\"Q1 (25th percentile): {Q1}\")\n",
    "print(f\"Q1 (75th percentile): {Q3}\")\n",
    "print(f\"IQR: {IQR}\")\n",
    "\n",
    "torque = failure_data_cleaned_v4['Torque [Nm]']\n",
    "\n",
    "# Identify outliers \n",
    "torque_outliers = failure_data_cleaned_v4[(torque < (Q1 - 1.5 * IQR)) | (torque > (Q3 + 1.5 * IQR))]\n",
    "\n",
    "print(f'Number of Outliers: {len(torque_outliers)}')\n",
    "print(\"\\n\")\n",
    "print('Outliers:')\n",
    "print(torque_outliers)\n",
    "\n",
    "# Remove outliers \n",
    "\n",
    "# create a boolean series \n",
    "\n",
    "# this didn't work as it only gives FALSE values, we also need TRUE values \n",
    "# mask_torque_outliers = ~torque_outliers['UDI'].isin(torque_outliers['UDI']) # creates a list of 'FALSE' for the torque outliers \n",
    "# mask_torque_outliers\n",
    "failure_data_cleaned_v4\n",
    "mask_torque_outliers = ~failure_data_cleaned_v4['UDI'].isin(torque_outliers['UDI']) # creates a list of 'FALSE' for the torque outliers \n",
    "# len(mask_torque_outliers)\n",
    "\n",
    "# Filtering the data set \n",
    "failure_data_cleaned_v5 = failure_data_cleaned_v4[mask_torque_outliers]\n",
    "print(f\"Length of dataframe: {len(failure_data_cleaned_v4)}\")\n",
    "print(f\"Length of dataframe: {len(failure_data_cleaned_v5)}\")\n",
    "\n"
   ]
  },
  {
   "cell_type": "code",
   "execution_count": null,
   "metadata": {},
   "outputs": [],
   "source": [
    "# create a function to get outliers via IQR df \n",
    "\n",
    "def outliers_df_via_IQR(df, column):\n",
    "\n",
    "    # Upper and lower quartiles \n",
    "    Q1 = df[column].quantile(0.25)\n",
    "    Q3 = df[column].quantile(.75)\n",
    "\n",
    "    # \n",
    "    IQR = Q3 - Q1 \n",
    "\n",
    "    print(f\"Q1 (25th percentile): {Q1}\")\n",
    "    print(f\"Q1 (75th percentile): {Q3}\")\n",
    "    print(f\"IQR: {IQR}\")\n",
    "\n",
    "    var = df[column]\n",
    "\n",
    "    # Identify outliers \n",
    "    outliers = df[(var < (Q1 - 1.5 * IQR)) | (var > (Q3 + 1.5 * IQR))]\n",
    "    return outliers\n",
    "\n",
    "# testing \n",
    "torque_test  = outliers_df_via_IQR(failure_data_cleaned_v4, 'Torque [Nm]')\n",
    "\n",
    "dt = DataTransform(failure_data_cleaned_v4)\n",
    "\n",
    "test_df = dt.filter_outliers(outliers_df=torque_test, key_ID='UDI')\n",
    "test_df"
   ]
  },
  {
   "cell_type": "code",
   "execution_count": null,
   "metadata": {},
   "outputs": [],
   "source": [
    "\n",
    "\n",
    "# Create subplots with a specified figure size\n",
    "fig, axes = plt.subplots(nrows=1, ncols=2, figsize=(12, 6))\n",
    "\n",
    "# Define the y-axis limits for both plots\n",
    "y_limits = (0, 80)\n",
    "\n",
    "# First plot\n",
    "sns.boxplot(data=failure_data_cleaned_v4, y='Torque [Nm]', ax=axes[0])\n",
    "axes[0].set_title('Torque with Outliers ')\n",
    "axes[0].set_ylim(y_limits)\n",
    "\n",
    "# Calculate min and max for the first dataset\n",
    "min_v4 = failure_data_cleaned_v4['Torque [Nm]'].min()\n",
    "max_v4 = failure_data_cleaned_v4['Torque [Nm]'].max()\n",
    "\n",
    "# Add horizontal dotted red lines for min and max\n",
    "axes[0].axhline(y=min_v4, color='r', linestyle='--', linewidth=1)\n",
    "axes[0].axhline(y=max_v4, color='r', linestyle='--', linewidth=1)\n",
    "\n",
    "# Second plot\n",
    "sns.boxplot(data=failure_data_cleaned_v5, y='Torque [Nm]', ax=axes[1])\n",
    "axes[1].set_title('Torque without Outliers')\n",
    "axes[1].set_ylim(y_limits)\n",
    "\n",
    "# Calculate min and max for the second dataset\n",
    "min_v5 = failure_data_cleaned_v5['Torque [Nm]'].min()\n",
    "max_v5 = failure_data_cleaned_v5['Torque [Nm]'].max()\n",
    "\n",
    "# Add horizontal dotted red lines for min and max\n",
    "axes[1].axhline(y=min_v5, color='r', linestyle='--', linewidth=1)\n",
    "axes[1].axhline(y=max_v5, color='r', linestyle='--', linewidth=1)\n",
    "\n",
    "# Adjust layout\n",
    "plt.tight_layout()\n",
    "plt.show()\n"
   ]
  },
  {
   "cell_type": "code",
   "execution_count": null,
   "metadata": {},
   "outputs": [],
   "source": [
    "# Null value checks \n",
    "\n",
    "info = DataFrameInfo(failure_data_cleaned_v5)\n",
    "info.percentage_of_null()\n",
    "\n",
    "# After Treating for skew & outliers there are no null values "
   ]
  },
  {
   "cell_type": "code",
   "execution_count": null,
   "metadata": {},
   "outputs": [],
   "source": [
    "# create a function to get outliers via IQR \n",
    "\n",
    "def get_outliers_via_IQR(df, column):\n",
    "    '''\n",
    "    returns a DataFrame of outliers based on the IQR of the input column (variable) as well as statistical information about the output DataFrame.\n",
    "    '''\n",
    "    \n",
    "    # Upper and lower quartiles \n",
    "    Q1 = df[column].quantile(0.25)\n",
    "    Q3 = df[column].quantile(.75)\n",
    "\n",
    "    # IQR\n",
    "    IQR = Q3 - Q1 \n",
    "\n",
    "    print(f\"Q1 (25th percentile): {Q1}\")\n",
    "    print(f\"Q1 (75th percentile): {Q3}\")\n",
    "    print(f\"IQR: {IQR}\")\n",
    "\n",
    "    var = failure_data_cleaned_v4['Torque [Nm]']\n",
    "\n",
    "    # Identify outliers \n",
    "    var = failure_data_cleaned_v4[(torque < (Q1 - 1.5 * IQR)) | (torque > (Q3 + 1.5 * IQR))]\n",
    "\n",
    "    print(f'Number of Outliers: {len(var)}')\n",
    "    print(\"\\n\")\n",
    "    # print('Outliers:')\n",
    "    # print(var[column])\n",
    "    return var \n",
    "\n",
    "# testing\n",
    "test = get_outliers_via_IQR(df = failure_data_cleaned_v4, column = 'Torque [Nm]')\n",
    "# type(test)\n",
    "test"
   ]
  },
  {
   "cell_type": "code",
   "execution_count": null,
   "metadata": {},
   "outputs": [],
   "source": [
    "# scratch \n",
    "\n",
    "#filter out the outliers of Process Temperature from our main data set\n",
    "outliers_2\n",
    "\n",
    "#failure_data_cleaned_unskewed['UDI'].head()\n",
    "\n",
    "mask = ~failure_data_cleaned_unskewed['UDI'].isin(outliers_2['UDI'])\n",
    "\n",
    "mask.sum()\n",
    "failure_data_cleaned_unskewed_no_outliers = failure_data_cleaned_unskewed[mask]"
   ]
  },
  {
   "cell_type": "code",
   "execution_count": null,
   "metadata": {},
   "outputs": [],
   "source": [
    "# define a function to get z_scores \n",
    "\n",
    "\n",
    "# def get_outliers_via_z_score_df(df, column, key = 'UDI', z_threshold = [[2,3]]):\n",
    "    \n",
    "def get_outliers_via_z_score_df(df, column, key, z_threshold):\n",
    "    # ''''''\n",
    "    \n",
    "    # create z-scores \n",
    "    x = df[column] \n",
    "    mean= np.mean(x)\n",
    "    standard_deviation = np.std(x)\n",
    "    z_scores = (x - mean) / standard_deviation\n",
    "\n",
    "    # Outliers Boolean\n",
    "    outliers = np.abs(z_scores) > z_threshold\n",
    "    print(outliers)\n",
    "    # print(f\"Debugging key variable: {key}\")\n",
    "    # print('df:')\n",
    "    # print(df.head())\n",
    "    # test = df[key].head()\n",
    "    # print(test)\n",
    "\n",
    "    # filter dataset based on outliers \n",
    "    mask = ~df[key].isin(outliers[key])\n",
    "    outliers_via_z = df[mask]\n",
    "\n",
    "    print('Outliers df:')\n",
    "    print(outliers_via_z) \n",
    "\n",
    "    # info on output data\n",
    "    percentage_outliers_thereshold = round(outliers/len(z_scores) * 100, 2)\n",
    "\n",
    "    print(f\"Number of observations with outliers based on z-score threshold ±2: {len(outliers)}\")\n",
    "    print(f\"Percentage of observations with outliers based on z-score threshold ±2: {percentage_outliers_thereshold}\")\n",
    "\n",
    "get_outliers_via_z_score_df(df=failure_data_cleaned_unskewed, key='UDI', column='Torque [Nm]', z_threshold = 2)\n",
    "\n",
    "# might be better to create seperate functions \n"
   ]
  },
  {
   "cell_type": "code",
   "execution_count": null,
   "metadata": {},
   "outputs": [],
   "source": [
    "# define a function to get z_scores \n",
    "\n",
    "\n",
    "# def get_outliers_via_z_score_df(df, column, key = 'UDI', z_threshold = [[2,3]]):\n",
    "    \n",
    "def get_outliers_via_z_score_df(df, column, key, z_threshold):\n",
    "\n",
    "    \n",
    "    # create z-scores \n",
    "    x = df[column] \n",
    "    mean= np.mean(x)\n",
    "    standard_deviation = np.std(x)\n",
    "    z_scores = (x - mean) / standard_deviation\n",
    "\n",
    "    # Outliers Boolean\n",
    "    outliers = np.abs(z_scores) > z_threshold\n",
    "    print(outliers)\n",
    "    # print(f\"Debugging key variable: {key}\")\n",
    "    # print('df:')\n",
    "    # print(df.head())\n",
    "    # test = df[key].head()\n",
    "    # print(test)\n",
    "\n",
    "    # filter dataset based on outliers \n",
    "    mask = ~df[key].isin(outliers[key])\n",
    "    outliers_via_z = df[mask]\n",
    "\n",
    "    print('Outliers df:')\n",
    "    print(outliers_via_z) \n",
    "\n",
    "    # info on output data\n",
    "    percentage_outliers_thereshold = round(outliers/len(z_scores) * 100, 2)\n",
    "\n",
    "    print(f\"Number of observations with outliers based on z-score threshold ±2: {len(outliers)}\")\n",
    "    print(f\"Percentage of observations with outliers based on z-score threshold ±2: {percentage_outliers_thereshold}\")\n",
    "\n",
    "get_outliers_via_z_score_df(df=failure_data_cleaned_unskewed, key='UDI', column='Torque [Nm]', z_threshold = 2)\n",
    "\n",
    "\n",
    "\n",
    "\n",
    "# might be better to create seperate functions \n"
   ]
  },
  {
   "cell_type": "code",
   "execution_count": null,
   "metadata": {},
   "outputs": [],
   "source": [
    "# running the bare code \n",
    "\n",
    "# inputs \n",
    "df = failure_data_cleaned_v4\n",
    "column = 'Torque [Nm]'\n",
    "z_threshold = 3\n",
    "# key = 'UDI'\n",
    "\n",
    "# create z-scores \n",
    "x = df[column] \n",
    "mean= np.mean(x)\n",
    "standard_deviation = np.std(x)\n",
    "z_scores = (x - mean) / standard_deviation\n",
    "\n",
    "# working up to here \n",
    "# sns.boxplot(z_scores)\n",
    "\n",
    "# calculate outliers \n",
    "outliers = np.abs(z_scores) > z_threshold\n",
    "outliers.value_counts() # 24 outliers \n",
    "\n",
    "# outliers df\n",
    "outliers_via_z = df[outliers]\n",
    "outliers_via_z\n",
    "####################################################################################################\n",
    "\n",
    "def outliers_via_z_score_df(df, column, z_threshold = [[2,3]]):\n",
    "\n",
    "    # create z scores\n",
    "    x = df[column] \n",
    "    mean= np.mean(x)\n",
    "    standard_deviation = np.std(x)\n",
    "    z_scores = (x - mean) / standard_deviation\n",
    "\n",
    "    # calculate outliers \n",
    "    outliers = np.abs(z_scores) > z_threshold\n",
    "    outliers.value_counts() # 24 outliers \n",
    "\n",
    "    # outliers df\n",
    "    outliers_via_z = df[outliers]\n",
    "    return outliers_via_z\n",
    "\n",
    "\n",
    "####################################################################################################\n",
    "# # seperate function for taking out outliers \n",
    "mask = ~failure_data_cleaned_v4['UDI'].isin(outliers_via_z['UDI']) # if the UDI's in the outliers df match those in the original df, bring back FALSE\n",
    "mask\n",
    "failure_data_cleaned_v4[mask]\n",
    "\n",
    "print(len(failure_data_cleaned_v4))\n",
    "print(len(failure_data_cleaned_v4[mask]))\n",
    "\n",
    "####################################################################################################\n",
    "\n",
    "def filter_outliers(df, outliers_df, key_ID):\n",
    "    mask = ~df[key_ID].isin(outliers_df[key_ID]) # if the UDI's in the outliers df match those in the original df, bring back FALSE\n",
    "    mask\n",
    "    return df[mask]\n",
    "\n",
    "    print(f'length of {df}: {len(df)}')\n",
    "    print(f'length of filtered {df}: {len(df[mask])}')\n",
    "\n",
    "# testing \n",
    "# mask = outliers_via_z['UDI'].isin(outliers_udis) \n",
    "# failure_data_cleaned_v4 = failure_data_cleaned_v3[mask]\n",
    "# filter out from original df \n",
    "\n"
   ]
  },
  {
   "cell_type": "code",
   "execution_count": null,
   "metadata": {},
   "outputs": [],
   "source": [
    "# testing \n",
    "def outliers_via_z_score_df(df, column, z_threshold = [[2,3]]):\n",
    "\n",
    "    # create z scores\n",
    "    x = df[column] \n",
    "    mean= np.mean(x)\n",
    "    standard_deviation = np.std(x)\n",
    "    z_scores = (x - mean) / standard_deviation\n",
    "\n",
    "    # calculate outliers \n",
    "    outliers = np.abs(z_scores) > z_threshold\n",
    "    outliers.value_counts() # 24 outliers \n",
    "\n",
    "    # outliers df\n",
    "    outliers_via_z = df[outliers]\n",
    "    return outliers_via_z\n",
    "\n",
    "test_outliers = outliers_via_z_score_df(df=failure_data_cleaned_v4, column='Torque [Nm]', z_threshold=3)\n",
    "test_outliers\n",
    "# success "
   ]
  },
  {
   "cell_type": "code",
   "execution_count": null,
   "metadata": {},
   "outputs": [],
   "source": [
    "# testing \n",
    "\n",
    "def filter_outliers(df, outliers_df, key_ID):\n",
    "    mask = ~df[key_ID].isin(outliers_df[key_ID]) # if the UDI's in the outliers df match those in the original df, bring back FALSE\n",
    "    mask\n",
    "    print(f'length of original df: {len(df)}')\n",
    "    print(f'length of filtered df: {len(df[mask])}')\n",
    "    return df[mask]\n",
    "\n",
    "test_df = filter_outliers(df=failure_data_cleaned_v4, outliers_df=test_outliers, key_ID = 'UDI')\n",
    "\n",
    "test_df\n",
    "# len(test_df)\n",
    "\n",
    "# success\n"
   ]
  },
  {
   "cell_type": "code",
   "execution_count": null,
   "metadata": {},
   "outputs": [],
   "source": [
    "# add the new functions to the DataTransform class\n",
    "\n",
    "class DataTransform:\n",
    "    def __init__(self, df):\n",
    "        self.df = df \n",
    "        \n",
    "    def outliers_via_z_score_df(self, column, z_threshold = [[2,3]]):\n",
    "\n",
    "        # create z scores\n",
    "        x = self.df[column] \n",
    "        mean= np.mean(x)\n",
    "        standard_deviation = np.std(x)\n",
    "        z_scores = (x - mean) / standard_deviation\n",
    "\n",
    "        # calculate outliers \n",
    "        outliers = np.abs(z_scores) > z_threshold\n",
    "        outliers.value_counts() # 24 outliers \n",
    "\n",
    "        # outliers df\n",
    "        outliers_via_z = self.df[outliers]\n",
    "        return outliers_via_z\n",
    "\n",
    "    def filter_outliers(self, outliers_df, key_ID):\n",
    "        mask = ~self.df[key_ID].isin(outliers_df[key_ID]) # if the UDI's in the outliers df match those in the original df, bring back FALSE\n",
    "        mask\n",
    "        print(f'length of original df: {len(self.df)}')\n",
    "        print(f'length of filtered df: {len(self.df[mask])}')\n",
    "        return self.df[mask]\n",
    "\n",
    "# testing \n",
    "\n",
    "dt = DataTransform(failure_data_cleaned_v4)\n",
    "torque_z_df = dt.outliers_via_z_score_df(column='Torque [Nm]', z_threshold=3)\n",
    "# success \n",
    "\n",
    "dt.filter_outliers(outliers_df=torque_z_df, key_ID='UDI')\n",
    "# success "
   ]
  },
  {
   "cell_type": "code",
   "execution_count": null,
   "metadata": {},
   "outputs": [],
   "source": [
    "################################################################################\n",
    "# TODO: Must keep for Appendix \n",
    "\n",
    "# rotational speed \n",
    "failure_data_cleaned_unskewed = pd.read_csv('failure_data_step_3_skew_transformations.csv')\n",
    "\n",
    "dt = DataTransform(failure_data_cleaned_unskewed)\n",
    "rotational_speed_z_score_outliers = dt.outliers_via_z_score_df('Rotational speed [rpm]', z_threshold=2)\n",
    "filtered_rotational_speed_df = dt.filter_outliers(rotational_speed_z_score_outliers, key_ID='UDI')\n",
    "len(filtered_rotational_speed_df)\n",
    "\n",
    "plott_org = Plotter(failure_data_cleaned_unskewed)\n",
    "\n",
    "print('\\nRotational speed [rpm] Actual')\n",
    "plott_org.boxplot('Rotational speed [rpm]')\n",
    "\n",
    "print('Outliers Removed Rotational speed [rpm]')\n",
    "plott_filtered_df = Plotter(filtered_rotational_speed_df)\n",
    "plott_filtered_df.boxplot('Rotational speed [rpm]')\n",
    "print('\\n')\n",
    "print('\\n')\n",
    "\n",
    "################################################################################\n",
    "# Torque\n",
    "# filtered_rotational_speed_df.head()\n",
    "# Filter torque using the new filtered df \n",
    "\n",
    "dt = DataTransform(filtered_rotational_speed_df)\n",
    "torque_z_score_outliers = dt.outliers_via_z_score_df('Torque [Nm]', z_threshold = 2)\n",
    "filtered_rotational_speed_torque_df = dt.filter_outliers(torque_z_score_outliers, key_ID='UDI')\n",
    "\n",
    "print('Torqe actual')\n",
    "plott_org.boxplot('Torque [Nm]')\n",
    "\n",
    "plott = Plotter(filtered_rotational_speed_torque_df)\n",
    "print(len(filtered_rotational_speed_torque_df))\n",
    "print('Torque after removing outliers')\n",
    "plott.boxplot('Torque [Nm]')\n",
    "\n",
    "#####\n",
    "# Process Temperature \n",
    "\n",
    "dt = DataTransform(filtered_rotational_speed_torque_df)\n",
    "process_temp_z_score_outliers = dt.outliers_via_z_score_df('Process temperature [K]', z_threshold=2)\n",
    "filtered_rotational_speed_torque_process_temp_df = dt.filter_outliers(process_temp_z_score_outliers, key_ID='UDI')\n",
    "\n",
    "print('Process temperature Acutal')\n",
    "plott_org.boxplot('Process temperature [K]')\n",
    "\n",
    "print('Process temperature: Outliers Removed')\n",
    "plott = Plotter(filtered_rotational_speed_torque_process_temp_df)\n",
    "plott.boxplot('Process temperature [K]')\n",
    "len(filtered_rotational_speed_torque_process_temp_df)\n",
    "\n",
    "len_org_df = len(failure_data_cleaned_unskewed)\n",
    "len_filtered_df = len(filtered_rotational_speed_torque_process_temp_df)\n",
    "percentage_data_loss = ((len_org_df - len_filtered_df) / len_org_df) * 100\n",
    "print(f'Percentage data loss {percentage_data_loss}')\n",
    "\n"
   ]
  }
 ],
 "metadata": {
  "kernelspec": {
   "display_name": "datascience_env",
   "language": "python",
   "name": "python3"
  },
  "language_info": {
   "codemirror_mode": {
    "name": "ipython",
    "version": 3
   },
   "file_extension": ".py",
   "mimetype": "text/x-python",
   "name": "python",
   "nbconvert_exporter": "python",
   "pygments_lexer": "ipython3",
   "version": "3.12.3"
  }
 },
 "nbformat": 4,
 "nbformat_minor": 2
}
