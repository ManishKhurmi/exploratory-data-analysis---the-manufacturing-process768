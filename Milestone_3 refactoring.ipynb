{
 "cells": [
  {
   "cell_type": "markdown",
   "metadata": {},
   "source": [
    "# Milestone 3 - EDA"
   ]
  },
  {
   "cell_type": "markdown",
   "metadata": {},
   "source": [
    "# what is my aim with EDA? \n",
    "- Explore the dataset, understand what might be driving the machine failures.\n",
    "- forecast when the machine might fail."
   ]
  },
  {
   "cell_type": "code",
   "execution_count": 1,
   "metadata": {},
   "outputs": [],
   "source": [
    "# Imports \n",
    "import DataFrameInfo_class as info\n",
    "import pandas as pd \n",
    "import numpy as np\n",
    "from scipy.stats import normaltest \n",
    "from scipy import stats\n",
    "from statsmodels.graphics.gofplots import qqplot \n",
    "import matplotlib.pyplot as plt\n",
    "import seaborn as sns\n",
    "import DataFrameInfo_class as info\n",
    "from IPython.display import display\n",
    "from scipy.stats import pointbiserialr"
   ]
  },
  {
   "cell_type": "code",
   "execution_count": 2,
   "metadata": {},
   "outputs": [],
   "source": [
    "class DataFrameInfo:\n",
    "    def __init__(self, df):\n",
    "        self.df = df \n",
    "    \n",
    "    def return_shape(self):\n",
    "        return str(self.df.shape) \n",
    "    \n",
    "    def return_info(self):\n",
    "        return self.df.info()\n",
    "    \n",
    "    def return_first_row(self):\n",
    "         return self.df.iloc[0]\n",
    "\n",
    "    def data_type(self):\n",
    "        print(self.df.dtypes)\n",
    "    \n",
    "    def describe_statistics(self):\n",
    "        return self.df.describe().loc[['mean', 'std', '50%']]\n",
    "    \n",
    "    def unique_value_count(self, column_names):\n",
    "        return self.df[column_names].nunique()\n",
    "    \n",
    "    def percentage_of_null(self):\n",
    "        percentage_of_null = self.df.isnull().sum() / len(self.df) * 100  \n",
    "        return percentage_of_null\n",
    "    \n",
    "    def are_all_observations_unique(self, column_name):\n",
    "        print(f'The {column_name} column contains only unique rows: {len(self.df) == self.df[column_name].nunique()}')\n",
    "    \n",
    "    def normal_test(self, column_name):\n",
    "        stat, p = normaltest(self.df[column_name], nan_policy = 'omit')\n",
    "        print('Statistics=%.3f, p=%.3f' % (stat, p))\n",
    "\n",
    "    def print_mean(self, column_name):\n",
    "        print(f'The mean of {column_name} is {self.df[column_name].mean()}')\n",
    "    \n",
    "    def print_median(self, column_name):\n",
    "        print(f'The median of {column_name} is {self.df[column_name].median()}')\n",
    "\n",
    "    def column_names(self):\n",
    "        return self.df.columns\n",
    "\n",
    "    def continous_variables(self):\n",
    "        continous_variables = []\n",
    "        for i in self.df.columns:\n",
    "            if self.df[i].nunique() > 2:\n",
    "                continous_variables.append(i)\n",
    "        return continous_variables\n",
    "    \n",
    "    def z_score_info(self, z_scores):\n",
    "        # Z-score Threshold \n",
    "        threshold_2 = 2 \n",
    "        threshold_3 = 3\n",
    "        # z_scores = udi_process_temp_df_z['z_scores']\n",
    "\n",
    "        outliers_2 = (np.abs(z_scores) > threshold_2).sum() \n",
    "        outliers_3 = (np.abs(z_scores) > threshold_3).sum()\n",
    "\n",
    "        percentage_outliers_thereshold_2 = round(outliers_2/len(z_scores) * 100, 2)\n",
    "        percentage_outliers_thereshold_3 = round(outliers_3/len(z_scores) * 100, 2)\n",
    "\n",
    "        print(f\"Number of observations with outliers based on z-score threshold ±2: {outliers_2}\")\n",
    "        print(f\"Percentage of observations with outliers based on z-score threshold ±2: {percentage_outliers_thereshold_2}\")\n",
    "        print(\"\\n\")\n",
    "        print(f\"Number of observations with outliers based on z-score threshold ±3: {outliers_3}\")\n",
    "        print(f\"Percentage of observations with outliers based on z-score threshold ±3: {percentage_outliers_thereshold_3}\")"
   ]
  },
  {
   "cell_type": "code",
   "execution_count": 3,
   "metadata": {},
   "outputs": [],
   "source": [
    "class DataTransform:\n",
    "    def __init__(self, df):\n",
    "        self.df = df\n",
    "        #self.info = df.info()\n",
    "\n",
    "    def unique_observations(self, column_name):\n",
    "        return self.df[column_name].unique()\n",
    "    \n",
    "    def convert_column_to_category(self, column_name):\n",
    "        '''\n",
    "        converts the dtype of column to 'category'\n",
    "        '''\n",
    "        self.df[column_name] = pd.Categorical(self.df[column_name])\n",
    "        return self.df\n",
    "    \n",
    "    def create_dummies_from_column(self, column_name):\n",
    "        dummies_df = pd.get_dummies(self.df[column_name], dtype=int)\n",
    "        return dummies_df \n",
    "\n",
    "    def concat_dataframes(self, new_df, left_index=True, right_index=True):\n",
    "        '''\n",
    "        This functions joins on the index of the LEFT DataFrame\n",
    "        '''\n",
    "        joined_df = pd.concat([self.df, new_df], axis = 1)\n",
    "        return joined_df\n",
    "    \n",
    "    def yeojohnson(self, column_name):\n",
    "        yeojohnson_var = self.df[column_name]\n",
    "        yeojohnson_var, _ = stats.yeojohnson(yeojohnson_var) # The '_' ignores the second parameter, in this case it is the lambda parameter \n",
    "        yeojohnson_var = pd.Series(yeojohnson_var)\n",
    "        return yeojohnson_var\n",
    "    \n",
    "    def z_score(self, column): # takes in a column and creates z scores, \n",
    "        x = self.df[column] \n",
    "        mean= np.mean(x)\n",
    "        standard_deviation = np.std(x)\n",
    "        z_scores = (x - mean) / standard_deviation\n",
    "        return z_scores\n",
    "    \n",
    "    def outliers_via_z_score_df(self, column, z_threshold = [[2,3]]):\n",
    "\n",
    "        '''\n",
    "        returns a df of outliers based on the z_scores of a selected variable\n",
    "        '''\n",
    "        # create z scores\n",
    "        x = self.df[column] \n",
    "        mean= np.mean(x)\n",
    "        standard_deviation = np.std(x)\n",
    "        z_scores = (x - mean) / standard_deviation\n",
    "\n",
    "        # calculate outliers \n",
    "        outliers = np.abs(z_scores) > z_threshold\n",
    "\n",
    "        # outliers df\n",
    "        outliers_via_z = self.df[outliers]\n",
    "        return outliers_via_z\n",
    "\n",
    "    def filter_outliers(self, outliers_df, key_ID):\n",
    "        '''\n",
    "        Filters outliers from df using a the shared key.\n",
    "        Use in conjuction with outliers_via_z_score func.\n",
    "        '''\n",
    "        mask = ~self.df[key_ID].isin(outliers_df[key_ID]) # if the UDI's in the outliers df match those in the original df, bring back FALSE\n",
    "        mask\n",
    "        print(f'length of original df: {len(self.df)}')\n",
    "        print(f'length of filtered df: {len(self.df[mask])}')\n",
    "        return self.df[mask]\n",
    "    \n",
    "    def outliers_df_via_IQR(self, column):\n",
    "\n",
    "        # Upper and lower quartiles \n",
    "        Q1 = self.df[column].quantile(0.25)\n",
    "        Q3 = self.df[column].quantile(.75)\n",
    "\n",
    "        # \n",
    "        IQR = Q3 - Q1 \n",
    "\n",
    "        print(f\"Q1 (25th percentile): {Q1}\")\n",
    "        print(f\"Q1 (75th percentile): {Q3}\")\n",
    "        print(f\"IQR: {IQR}\")\n",
    "\n",
    "        var = self.df[column]\n",
    "\n",
    "        # Identify outliers \n",
    "        outliers = self.df[(var < (Q1 - 1.5 * IQR)) | (var > (Q3 + 1.5 * IQR))]\n",
    "        return outliers"
   ]
  },
  {
   "cell_type": "code",
   "execution_count": 4,
   "metadata": {},
   "outputs": [],
   "source": [
    "# Plotter Class\n",
    "\n",
    "class Plotter: \n",
    "    def __init__(self, df):\n",
    "        self.df = df \n",
    "    \n",
    "    def histplot(self, column, kde=False):\n",
    "        histplot = sns.histplot(self.df[column], kde=kde)\n",
    "        plt.title(f'Histogram for {column}')\n",
    "        plt.show()\n",
    "    \n",
    "    def plot_qq(self, column):\n",
    "        qq_plot= qqplot(self.df[column], scale=1, line ='q')\n",
    "        plt.title(f'Q-Q plot for {column}')\n",
    "        plt.show()\n",
    "    \n",
    "    def scatter(self, column_name):\n",
    "        scatter_plot = sns.scatterplot(self.df[column_name])\n",
    "        plt.show()\n",
    "        \n",
    "    def boxplot(self, column):\n",
    "        box_plot = sns.boxplot(self.df[column])\n",
    "        plt.show()"
   ]
  },
  {
   "cell_type": "markdown",
   "metadata": {},
   "source": [
    "# Table of Contents\n",
    "\n",
    "1. [Intro](#intro)\n",
    "2. [Remove / impute missing values](#missing-values)\n",
    "    1. [thought process]\n",
    "\n",
    "3. [Investigating for Skewness in the data](#skew)\n",
    "    1. [thought process]\n",
    "4. [Removing Outliers from the Data](#outliers)\n",
    "    1. [thought process]\n"
   ]
  },
  {
   "cell_type": "markdown",
   "metadata": {},
   "source": [
    "## 1) Intro\n",
    "<a id=\"intro\"></a>"
   ]
  },
  {
   "cell_type": "code",
   "execution_count": 6,
   "metadata": {},
   "outputs": [
    {
     "data": {
      "text/html": [
       "<div>\n",
       "<style scoped>\n",
       "    .dataframe tbody tr th:only-of-type {\n",
       "        vertical-align: middle;\n",
       "    }\n",
       "\n",
       "    .dataframe tbody tr th {\n",
       "        vertical-align: top;\n",
       "    }\n",
       "\n",
       "    .dataframe thead th {\n",
       "        text-align: right;\n",
       "    }\n",
       "</style>\n",
       "<table border=\"1\" class=\"dataframe\">\n",
       "  <thead>\n",
       "    <tr style=\"text-align: right;\">\n",
       "      <th></th>\n",
       "      <th>Unnamed: 0</th>\n",
       "      <th>UDI</th>\n",
       "      <th>Product ID</th>\n",
       "      <th>Type</th>\n",
       "      <th>Air temperature [K]</th>\n",
       "      <th>Process temperature [K]</th>\n",
       "      <th>Rotational speed [rpm]</th>\n",
       "      <th>Torque [Nm]</th>\n",
       "      <th>Tool wear [min]</th>\n",
       "      <th>Machine failure</th>\n",
       "      <th>TWF</th>\n",
       "      <th>HDF</th>\n",
       "      <th>PWF</th>\n",
       "      <th>OSF</th>\n",
       "      <th>RNF</th>\n",
       "    </tr>\n",
       "  </thead>\n",
       "  <tbody>\n",
       "    <tr>\n",
       "      <th>0</th>\n",
       "      <td>0</td>\n",
       "      <td>3416</td>\n",
       "      <td>L50595</td>\n",
       "      <td>L</td>\n",
       "      <td>301.4</td>\n",
       "      <td>310.4</td>\n",
       "      <td>1579</td>\n",
       "      <td>36.9</td>\n",
       "      <td>133.0</td>\n",
       "      <td>0</td>\n",
       "      <td>0</td>\n",
       "      <td>0</td>\n",
       "      <td>0</td>\n",
       "      <td>0</td>\n",
       "      <td>0</td>\n",
       "    </tr>\n",
       "    <tr>\n",
       "      <th>1</th>\n",
       "      <td>1</td>\n",
       "      <td>7130</td>\n",
       "      <td>L54309</td>\n",
       "      <td>L</td>\n",
       "      <td>300.6</td>\n",
       "      <td>310.0</td>\n",
       "      <td>1635</td>\n",
       "      <td>31.0</td>\n",
       "      <td>107.0</td>\n",
       "      <td>0</td>\n",
       "      <td>0</td>\n",
       "      <td>0</td>\n",
       "      <td>0</td>\n",
       "      <td>0</td>\n",
       "      <td>0</td>\n",
       "    </tr>\n",
       "    <tr>\n",
       "      <th>2</th>\n",
       "      <td>2</td>\n",
       "      <td>2320</td>\n",
       "      <td>M17179</td>\n",
       "      <td>M</td>\n",
       "      <td>299.2</td>\n",
       "      <td>308.8</td>\n",
       "      <td>1700</td>\n",
       "      <td>33.5</td>\n",
       "      <td>185.0</td>\n",
       "      <td>0</td>\n",
       "      <td>0</td>\n",
       "      <td>0</td>\n",
       "      <td>0</td>\n",
       "      <td>0</td>\n",
       "      <td>0</td>\n",
       "    </tr>\n",
       "  </tbody>\n",
       "</table>\n",
       "</div>"
      ],
      "text/plain": [
       "   Unnamed: 0   UDI Product ID Type  Air temperature [K]  \\\n",
       "0           0  3416     L50595    L                301.4   \n",
       "1           1  7130     L54309    L                300.6   \n",
       "2           2  2320     M17179    M                299.2   \n",
       "\n",
       "   Process temperature [K]  Rotational speed [rpm]  Torque [Nm]  \\\n",
       "0                    310.4                    1579         36.9   \n",
       "1                    310.0                    1635         31.0   \n",
       "2                    308.8                    1700         33.5   \n",
       "\n",
       "   Tool wear [min]  Machine failure  TWF  HDF  PWF  OSF  RNF  \n",
       "0            133.0                0    0    0    0    0    0  \n",
       "1            107.0                0    0    0    0    0    0  \n",
       "2            185.0                0    0    0    0    0    0  "
      ]
     },
     "execution_count": 6,
     "metadata": {},
     "output_type": "execute_result"
    }
   ],
   "source": [
    "# Load the Data into a data frame \n",
    "failure_data = pd.read_csv(\"failure_data.csv\")\n",
    "\n",
    "# head of df \n",
    "failure_data.head(3)\n"
   ]
  },
  {
   "cell_type": "code",
   "execution_count": 7,
   "metadata": {},
   "outputs": [
    {
     "name": "stdout",
     "output_type": "stream",
     "text": [
      "UDI is unique to every row of the data: True\n"
     ]
    }
   ],
   "source": [
    "# Is UDI a unique key for the data?\n",
    "info = DataFrameInfo(failure_data)\n",
    "print(f'UDI is unique to every row of the data: {info.unique_value_count('UDI') == len(failure_data)}')"
   ]
  },
  {
   "cell_type": "markdown",
   "metadata": {},
   "source": [
    "- Drop `Unnamed: 0` is an unwanted index.\n",
    "- Drop `Product ID` as we have `UDI`"
   ]
  },
  {
   "cell_type": "code",
   "execution_count": 8,
   "metadata": {},
   "outputs": [
    {
     "data": {
      "text/html": [
       "<div>\n",
       "<style scoped>\n",
       "    .dataframe tbody tr th:only-of-type {\n",
       "        vertical-align: middle;\n",
       "    }\n",
       "\n",
       "    .dataframe tbody tr th {\n",
       "        vertical-align: top;\n",
       "    }\n",
       "\n",
       "    .dataframe thead th {\n",
       "        text-align: right;\n",
       "    }\n",
       "</style>\n",
       "<table border=\"1\" class=\"dataframe\">\n",
       "  <thead>\n",
       "    <tr style=\"text-align: right;\">\n",
       "      <th></th>\n",
       "      <th>UDI</th>\n",
       "      <th>Type</th>\n",
       "      <th>Air temperature [K]</th>\n",
       "      <th>Process temperature [K]</th>\n",
       "      <th>Rotational speed [rpm]</th>\n",
       "      <th>Torque [Nm]</th>\n",
       "      <th>Tool wear [min]</th>\n",
       "      <th>Machine failure</th>\n",
       "      <th>TWF</th>\n",
       "      <th>HDF</th>\n",
       "      <th>PWF</th>\n",
       "      <th>OSF</th>\n",
       "      <th>RNF</th>\n",
       "    </tr>\n",
       "  </thead>\n",
       "  <tbody>\n",
       "    <tr>\n",
       "      <th>0</th>\n",
       "      <td>3416</td>\n",
       "      <td>L</td>\n",
       "      <td>301.4</td>\n",
       "      <td>310.4</td>\n",
       "      <td>1579</td>\n",
       "      <td>36.9</td>\n",
       "      <td>133.0</td>\n",
       "      <td>0</td>\n",
       "      <td>0</td>\n",
       "      <td>0</td>\n",
       "      <td>0</td>\n",
       "      <td>0</td>\n",
       "      <td>0</td>\n",
       "    </tr>\n",
       "    <tr>\n",
       "      <th>1</th>\n",
       "      <td>7130</td>\n",
       "      <td>L</td>\n",
       "      <td>300.6</td>\n",
       "      <td>310.0</td>\n",
       "      <td>1635</td>\n",
       "      <td>31.0</td>\n",
       "      <td>107.0</td>\n",
       "      <td>0</td>\n",
       "      <td>0</td>\n",
       "      <td>0</td>\n",
       "      <td>0</td>\n",
       "      <td>0</td>\n",
       "      <td>0</td>\n",
       "    </tr>\n",
       "    <tr>\n",
       "      <th>2</th>\n",
       "      <td>2320</td>\n",
       "      <td>M</td>\n",
       "      <td>299.2</td>\n",
       "      <td>308.8</td>\n",
       "      <td>1700</td>\n",
       "      <td>33.5</td>\n",
       "      <td>185.0</td>\n",
       "      <td>0</td>\n",
       "      <td>0</td>\n",
       "      <td>0</td>\n",
       "      <td>0</td>\n",
       "      <td>0</td>\n",
       "      <td>0</td>\n",
       "    </tr>\n",
       "  </tbody>\n",
       "</table>\n",
       "</div>"
      ],
      "text/plain": [
       "    UDI Type  Air temperature [K]  Process temperature [K]  \\\n",
       "0  3416    L                301.4                    310.4   \n",
       "1  7130    L                300.6                    310.0   \n",
       "2  2320    M                299.2                    308.8   \n",
       "\n",
       "   Rotational speed [rpm]  Torque [Nm]  Tool wear [min]  Machine failure  TWF  \\\n",
       "0                    1579         36.9            133.0                0    0   \n",
       "1                    1635         31.0            107.0                0    0   \n",
       "2                    1700         33.5            185.0                0    0   \n",
       "\n",
       "   HDF  PWF  OSF  RNF  \n",
       "0    0    0    0    0  \n",
       "1    0    0    0    0  \n",
       "2    0    0    0    0  "
      ]
     },
     "execution_count": 8,
     "metadata": {},
     "output_type": "execute_result"
    }
   ],
   "source": [
    "# Drop columns if they exist \n",
    "columns_to_drop = ['Unnamed: 0', 'Product ID']\n",
    "failure_data = failure_data.drop(columns=[col for col in columns_to_drop if col in failure_data.columns], axis=1)\n",
    "\n",
    "failure_data.head(3)"
   ]
  },
  {
   "cell_type": "markdown",
   "metadata": {},
   "source": []
  },
  {
   "cell_type": "code",
   "execution_count": 9,
   "metadata": {},
   "outputs": [
    {
     "data": {
      "text/plain": [
       "UDI                         3416\n",
       "Type                           L\n",
       "Air temperature [K]        301.4\n",
       "Process temperature [K]    310.4\n",
       "Rotational speed [rpm]      1579\n",
       "Torque [Nm]                 36.9\n",
       "Tool wear [min]            133.0\n",
       "Machine failure                0\n",
       "TWF                            0\n",
       "HDF                            0\n",
       "PWF                            0\n",
       "OSF                            0\n",
       "RNF                            0\n",
       "Name: 0, dtype: object"
      ]
     },
     "execution_count": 9,
     "metadata": {},
     "output_type": "execute_result"
    }
   ],
   "source": [
    "# Check the first row of the Data \n",
    "info = DataFrameInfo(failure_data)\n",
    "# First row\n",
    "info.return_first_row()"
   ]
  },
  {
   "cell_type": "code",
   "execution_count": 10,
   "metadata": {},
   "outputs": [
    {
     "name": "stdout",
     "output_type": "stream",
     "text": [
      "The shape of the data is: (10000, 13)\n",
      "\n",
      "\n",
      "Initial information about the columns of the data: \n",
      "<class 'pandas.core.frame.DataFrame'>\n",
      "RangeIndex: 10000 entries, 0 to 9999\n",
      "Data columns (total 13 columns):\n",
      " #   Column                   Non-Null Count  Dtype  \n",
      "---  ------                   --------------  -----  \n",
      " 0   UDI                      10000 non-null  int64  \n",
      " 1   Type                     10000 non-null  object \n",
      " 2   Air temperature [K]      9162 non-null   float64\n",
      " 3   Process temperature [K]  9119 non-null   float64\n",
      " 4   Rotational speed [rpm]   10000 non-null  int64  \n",
      " 5   Torque [Nm]              10000 non-null  float64\n",
      " 6   Tool wear [min]          9516 non-null   float64\n",
      " 7   Machine failure          10000 non-null  int64  \n",
      " 8   TWF                      10000 non-null  int64  \n",
      " 9   HDF                      10000 non-null  int64  \n",
      " 10  PWF                      10000 non-null  int64  \n",
      " 11  OSF                      10000 non-null  int64  \n",
      " 12  RNF                      10000 non-null  int64  \n",
      "dtypes: float64(4), int64(8), object(1)\n",
      "memory usage: 1015.8+ KB\n",
      "None\n"
     ]
    }
   ],
   "source": [
    "# Initial information about the data \n",
    "print(f'The shape of the data is: {info.return_shape()}')\n",
    "\n",
    "print('\\n')\n",
    "print(f'Initial information about the columns of the data: ')\n",
    "print(info.return_info())\n",
    "\n",
    "# transform.return_info()"
   ]
  },
  {
   "cell_type": "code",
   "execution_count": 11,
   "metadata": {},
   "outputs": [
    {
     "name": "stdout",
     "output_type": "stream",
     "text": [
      "Categorical variables: ['Machine failure', 'TWF', 'HDF', 'PWF', 'OSF', 'RNF']\n"
     ]
    }
   ],
   "source": [
    "# Categoric variables \n",
    "categorical_vars = ['Machine failure', 'TWF', 'HDF', 'PWF', 'OSF','RNF']\n",
    "print(f'Categorical variables: {categorical_vars}')"
   ]
  },
  {
   "cell_type": "markdown",
   "metadata": {},
   "source": [
    "Change the `Dtype` label in the DataFrame to categorical for the above variables"
   ]
  },
  {
   "cell_type": "code",
   "execution_count": 12,
   "metadata": {},
   "outputs": [
    {
     "name": "stdout",
     "output_type": "stream",
     "text": [
      "<class 'pandas.core.frame.DataFrame'>\n",
      "RangeIndex: 10000 entries, 0 to 9999\n",
      "Data columns (total 13 columns):\n",
      " #   Column                   Non-Null Count  Dtype   \n",
      "---  ------                   --------------  -----   \n",
      " 0   UDI                      10000 non-null  int64   \n",
      " 1   Type                     10000 non-null  object  \n",
      " 2   Air temperature [K]      9162 non-null   float64 \n",
      " 3   Process temperature [K]  9119 non-null   float64 \n",
      " 4   Rotational speed [rpm]   10000 non-null  int64   \n",
      " 5   Torque [Nm]              10000 non-null  float64 \n",
      " 6   Tool wear [min]          9516 non-null   float64 \n",
      " 7   Machine failure          10000 non-null  category\n",
      " 8   TWF                      10000 non-null  category\n",
      " 9   HDF                      10000 non-null  category\n",
      " 10  PWF                      10000 non-null  category\n",
      " 11  OSF                      10000 non-null  category\n",
      " 12  RNF                      10000 non-null  category\n",
      "dtypes: category(6), float64(4), int64(2), object(1)\n",
      "memory usage: 606.3+ KB\n",
      "None\n"
     ]
    }
   ],
   "source": [
    "#Data Transform Methods\n",
    "dt = DataTransform(failure_data)\n",
    "\n",
    "# Applying the `categorical` data label to the relevant columns \n",
    "categorical_columns = ['Machine failure', 'TWF', 'HDF', 'PWF', 'OSF','RNF']\n",
    "for i in categorical_columns:\n",
    "    failure_data_v1= dt.convert_column_to_category(i)\n",
    "    # print(failure_data.info())\n",
    "\n",
    "print(failure_data_v1.info())"
   ]
  },
  {
   "cell_type": "code",
   "execution_count": 13,
   "metadata": {},
   "outputs": [
    {
     "name": "stdout",
     "output_type": "stream",
     "text": [
      "`Type` contains the following unique variables: ['L' 'M' 'H']\n"
     ]
    }
   ],
   "source": [
    "print(f'`Type` contains the following unique variables: {failure_data['Type'].unique()}')"
   ]
  },
  {
   "cell_type": "markdown",
   "metadata": {},
   "source": [
    "Convert `Type` to dummy variables.\n",
    "- Motivation: handling categorical data to be used in statistical models e.g. Logit Model or Machine Learning Models."
   ]
  },
  {
   "cell_type": "code",
   "execution_count": 14,
   "metadata": {},
   "outputs": [
    {
     "name": "stdout",
     "output_type": "stream",
     "text": [
      "<class 'pandas.core.frame.DataFrame'>\n",
      "RangeIndex: 10000 entries, 0 to 9999\n",
      "Data columns (total 16 columns):\n",
      " #   Column                   Non-Null Count  Dtype   \n",
      "---  ------                   --------------  -----   \n",
      " 0   UDI                      10000 non-null  int64   \n",
      " 1   Type                     10000 non-null  object  \n",
      " 2   Air temperature [K]      9162 non-null   float64 \n",
      " 3   Process temperature [K]  9119 non-null   float64 \n",
      " 4   Rotational speed [rpm]   10000 non-null  int64   \n",
      " 5   Torque [Nm]              10000 non-null  float64 \n",
      " 6   Tool wear [min]          9516 non-null   float64 \n",
      " 7   Machine failure          10000 non-null  category\n",
      " 8   TWF                      10000 non-null  category\n",
      " 9   HDF                      10000 non-null  category\n",
      " 10  PWF                      10000 non-null  category\n",
      " 11  OSF                      10000 non-null  category\n",
      " 12  RNF                      10000 non-null  category\n",
      " 13  H                        10000 non-null  int64   \n",
      " 14  L                        10000 non-null  int64   \n",
      " 15  M                        10000 non-null  int64   \n",
      "dtypes: category(6), float64(4), int64(5), object(1)\n",
      "memory usage: 840.7+ KB\n"
     ]
    }
   ],
   "source": [
    "# Convert `Type` into dummies & join them onto our original df \n",
    "dt = DataTransform(failure_data_v1)\n",
    "type_as_dummies = dt.create_dummies_from_column('Type')\n",
    "failure_data_v2 = dt.concat_dataframes(type_as_dummies)\n",
    "failure_data_v2.info()"
   ]
  },
  {
   "cell_type": "code",
   "execution_count": 15,
   "metadata": {},
   "outputs": [
    {
     "name": "stdout",
     "output_type": "stream",
     "text": [
      "<class 'pandas.core.frame.DataFrame'>\n",
      "RangeIndex: 10000 entries, 0 to 9999\n",
      "Data columns (total 16 columns):\n",
      " #   Column                   Non-Null Count  Dtype   \n",
      "---  ------                   --------------  -----   \n",
      " 0   UDI                      10000 non-null  int64   \n",
      " 1   Type                     10000 non-null  object  \n",
      " 2   Air temperature [K]      9162 non-null   float64 \n",
      " 3   Process temperature [K]  9119 non-null   float64 \n",
      " 4   Rotational speed [rpm]   10000 non-null  int64   \n",
      " 5   Torque [Nm]              10000 non-null  float64 \n",
      " 6   Tool wear [min]          9516 non-null   float64 \n",
      " 7   Machine failure          10000 non-null  category\n",
      " 8   TWF                      10000 non-null  category\n",
      " 9   HDF                      10000 non-null  category\n",
      " 10  PWF                      10000 non-null  category\n",
      " 11  OSF                      10000 non-null  category\n",
      " 12  RNF                      10000 non-null  category\n",
      " 13  H                        10000 non-null  category\n",
      " 14  L                        10000 non-null  category\n",
      " 15  M                        10000 non-null  category\n",
      "dtypes: category(9), float64(4), int64(2), object(1)\n",
      "memory usage: 636.0+ KB\n"
     ]
    }
   ],
   "source": [
    "# Apply categoric labels to the `Type` dummy variables \n",
    "dt = DataTransform(failure_data_v2)\n",
    "type_dummy_col_names = ['L', 'M', 'H']\n",
    "for i in type_dummy_col_names:\n",
    "    failure_data_v3 = dt.convert_column_to_category(i)\n",
    "\n",
    "# Check if the Dtype has changed\n",
    "failure_data_v3.info()"
   ]
  },
  {
   "cell_type": "code",
   "execution_count": 17,
   "metadata": {},
   "outputs": [],
   "source": [
    "# rename data set \n",
    "failure_data = failure_data_v3"
   ]
  },
  {
   "cell_type": "markdown",
   "metadata": {},
   "source": [
    "## 2) Remove / impute missing values \n",
    "<a id=\"missing-values\"></a>"
   ]
  },
  {
   "cell_type": "code",
   "execution_count": 18,
   "metadata": {},
   "outputs": [
    {
     "name": "stdout",
     "output_type": "stream",
     "text": [
      "filter for vars with missing data\n",
      "\n",
      "\n",
      "% Missing Data: \n"
     ]
    },
    {
     "data": {
      "text/plain": [
       "Air temperature [K]        8.38\n",
       "Process temperature [K]    8.81\n",
       "Tool wear [min]            4.84\n",
       "dtype: float64"
      ]
     },
     "execution_count": 18,
     "metadata": {},
     "output_type": "execute_result"
    }
   ],
   "source": [
    "# Khurmi\n",
    "\n",
    "info = DataFrameInfo(failure_data)\n",
    "\n",
    "percentage_of_null = info.percentage_of_null() \n",
    "bool_only_columns_with_missing_values = info.percentage_of_null() > 0 \n",
    "\n",
    "print('filter for vars with missing data')\n",
    "print('\\n')\n",
    "print('% Missing Data: ')\n",
    "\n",
    "percentage_of_null[bool_only_columns_with_missing_values]\n"
   ]
  },
  {
   "cell_type": "markdown",
   "metadata": {},
   "source": [
    "consider imputation for all 3 variables.\n",
    "\n",
    "reasoning:\n",
    "- Tool wear [min] is likely to be a critical variable for `Machine failure`, despite only 4% NULL values, consider imputation rather than dropping the data.\n",
    "- Air temperature [K] & Process temperature [K] have moderate amount of `NULL` vallues. Consider imputation to prevent minimal loss of relevant data.\n"
   ]
  },
  {
   "cell_type": "markdown",
   "metadata": {},
   "source": [
    "#### Air Temperature: imputing missing values "
   ]
  },
  {
   "cell_type": "code",
   "execution_count": 19,
   "metadata": {},
   "outputs": [
    {
     "data": {
      "image/png": "[encoded data removed]",
      "text/plain": [
       "<Figure size 640x480 with 1 Axes>"
      ]
     },
     "metadata": {},
     "output_type": "display_data"
    },
    {
     "data": {
      "image/png": "[encoded data removed]",
      "text/plain": [
       "<Figure size 640x480 with 1 Axes>"
      ]
     },
     "metadata": {},
     "output_type": "display_data"
    }
   ],
   "source": [
    "# Visualise the data\n",
    "plott = Plotter(failure_data)\n",
    "plott.histplot('Air temperature [K]', kde = True)\n",
    "plott.plot_qq('Air temperature [K]')\n",
    "\n"
   ]
  },
  {
   "cell_type": "markdown",
   "metadata": {},
   "source": [
    "- Histogram shows a slight negative skew, with a peak to the right of half of the data.\n",
    "- QQ plot shows deviations from the lower bounds of the `Air temperature [K]`.\n"
   ]
  },
  {
   "cell_type": "code",
   "execution_count": 20,
   "metadata": {},
   "outputs": [
    {
     "name": "stdout",
     "output_type": "stream",
     "text": [
      "Statistics=928.181, p=0.000\n"
     ]
    }
   ],
   "source": [
    "info = DataFrameInfo(failure_data)\n",
    "info.normal_test('Air temperature [K]')\n",
    "# print('The normality test for `Air temperature [K]') has given a p-value less than \n"
   ]
  },
  {
   "cell_type": "markdown",
   "metadata": {},
   "source": [
    "The normality test for `Air temperature [K]` \n",
    "- p-value < 0.05\n",
    "- data is symmetrical and follows a normal distribution \n",
    "\n",
    "Therefore impute NULL values using the median. The median is chosen as there is a slight visibly negative skew from the histogram. \n",
    "- If the histogram was also symmetrical then we would have chosen the mean to impute.\n"
   ]
  },
  {
   "cell_type": "code",
   "execution_count": 21,
   "metadata": {},
   "outputs": [],
   "source": [
    "# Impute NULL values of Air temperature \n",
    "failure_data['Air temperature [K]'] = failure_data['Air temperature [K]'].fillna(failure_data['Air temperature [K]'].median())"
   ]
  },
  {
   "cell_type": "markdown",
   "metadata": {},
   "source": [
    "#### Process temperature [K]    8.81: imputing missing values "
   ]
  },
  {
   "cell_type": "code",
   "execution_count": 22,
   "metadata": {},
   "outputs": [
    {
     "data": {
      "image/png": "[encoded data removed]",
      "text/plain": [
       "<Figure size 640x480 with 1 Axes>"
      ]
     },
     "metadata": {},
     "output_type": "display_data"
    },
    {
     "data": {
      "image/png": "[encoded data removed]",
      "text/plain": [
       "<Figure size 640x480 with 1 Axes>"
      ]
     },
     "metadata": {},
     "output_type": "display_data"
    }
   ],
   "source": [
    "# Visualise the spread of the data \n",
    "plott = Plotter(failure_data)\n",
    "plott.histplot('Process temperature [K]', kde = True)\n",
    "plott.plot_qq('Process temperature [K]')"
   ]
  },
  {
   "cell_type": "markdown",
   "metadata": {},
   "source": [
    "- Histogram shows a normal distibution, with a peak around 310.9 K \n",
    "- Q-Q plot shows significant deviation in the lower bound of the data\n",
    "- See if the normal test matches the behaviour observed in the Histogram\n"
   ]
  },
  {
   "cell_type": "code",
   "execution_count": 23,
   "metadata": {},
   "outputs": [
    {
     "name": "stdout",
     "output_type": "stream",
     "text": [
      "Statistics=181.218, p=0.000\n"
     ]
    }
   ],
   "source": [
    "info = DataFrameInfo(failure_data)\n",
    "info.normal_test('Process temperature [K]')"
   ]
  },
  {
   "cell_type": "markdown",
   "metadata": {},
   "source": [
    "- normal test has shown a p-value < 0.05, which means we can reject the null hypothesis. \n",
    "- `Process temperature [K]` is normally distributed, the data is symmetric\n",
    "\n",
    "conclusion:\n",
    "- impute using the mean of the data."
   ]
  },
  {
   "cell_type": "code",
   "execution_count": 24,
   "metadata": {},
   "outputs": [],
   "source": [
    "# Impute NULL values of `Process temperature [K]`\n",
    "failure_data['Process temperature [K]'] = failure_data['Process temperature [K]'].fillna(failure_data['Process temperature [K]'].mean())"
   ]
  },
  {
   "cell_type": "markdown",
   "metadata": {},
   "source": [
    "#### Tool wear [min]: imputing missing values "
   ]
  },
  {
   "cell_type": "code",
   "execution_count": 25,
   "metadata": {},
   "outputs": [
    {
     "data": {
      "image/png": "[encoded data removed]",
      "text/plain": [
       "<Figure size 640x480 with 1 Axes>"
      ]
     },
     "metadata": {},
     "output_type": "display_data"
    },
    {
     "data": {
      "image/png": "[encoded data removed]",
      "text/plain": [
       "<Figure size 640x480 with 1 Axes>"
      ]
     },
     "metadata": {},
     "output_type": "display_data"
    }
   ],
   "source": [
    "# Visualise the spread of the data \n",
    "plott = Plotter(failure_data)\n",
    "plott.histplot('Tool wear [min]', kde = True)\n",
    "plott.plot_qq('Tool wear [min]')"
   ]
  },
  {
   "cell_type": "markdown",
   "metadata": {},
   "source": [
    "Histogram:\n",
    "- Positively skewed.\n",
    "- The Histogram shows consistent spikers throughout the data , these spikes may be due to the 'High\" quality tool type lasting longer than the other types.\n",
    "\n",
    "Q-Q plot \n",
    "- significant deviations in the lower quartile. \n",
    "- The middle and upper quartile seem to show tendency towards being normally distributed, however, this is rather misleading after viewing the histogram\n",
    "\n",
    "See if the normal test supports the above "
   ]
  },
  {
   "cell_type": "code",
   "execution_count": 26,
   "metadata": {},
   "outputs": [
    {
     "name": "stdout",
     "output_type": "stream",
     "text": [
      "Statistics=6306.896, p=0.000\n"
     ]
    }
   ],
   "source": [
    "info = DataFrameInfo(failure_data)\n",
    "info.normal_test('Tool wear [min]')"
   ]
  },
  {
   "cell_type": "markdown",
   "metadata": {},
   "source": [
    "Normal Test\n",
    "- The p-value of the normal test is showing 0, however we know visually that this is not the case from the Histogram of `Tool wear [min]`"
   ]
  },
  {
   "cell_type": "markdown",
   "metadata": {},
   "source": [
    "#### Imputing method \n",
    "- impute using the median of the data. The median was chosen over the mean given the postive skew observed in the histogram. \n",
    "- The outliers present for `Tool wear [min]` > 200 are likely to skew the mean, there for median is a more robust method.\n"
   ]
  },
  {
   "cell_type": "code",
   "execution_count": 27,
   "metadata": {},
   "outputs": [],
   "source": [
    "# Impute NULL values of `Tool wear [min]` using the median \n",
    "failure_data['Tool wear [min]'] = failure_data['Tool wear [min]'].fillna(failure_data['Tool wear [min]'].median())"
   ]
  },
  {
   "cell_type": "code",
   "execution_count": 28,
   "metadata": {},
   "outputs": [
    {
     "data": {
      "text/plain": [
       "UDI                        0.0\n",
       "Type                       0.0\n",
       "Air temperature [K]        0.0\n",
       "Process temperature [K]    0.0\n",
       "Rotational speed [rpm]     0.0\n",
       "Torque [Nm]                0.0\n",
       "Tool wear [min]            0.0\n",
       "Machine failure            0.0\n",
       "TWF                        0.0\n",
       "HDF                        0.0\n",
       "PWF                        0.0\n",
       "OSF                        0.0\n",
       "RNF                        0.0\n",
       "H                          0.0\n",
       "L                          0.0\n",
       "M                          0.0\n",
       "dtype: float64"
      ]
     },
     "execution_count": 28,
     "metadata": {},
     "output_type": "execute_result"
    }
   ],
   "source": [
    "# Prove that the new transformed data contails no missing values \n",
    "info_df_without_null = DataFrameInfo(failure_data)\n",
    "info_df_without_null.percentage_of_null()"
   ]
  },
  {
   "cell_type": "code",
   "execution_count": 29,
   "metadata": {},
   "outputs": [],
   "source": [
    "# rename the data set to reflect the NULL transformations\n",
    "failure_data_without_null = failure_data\n",
    "\n",
    "# Checkpoint\n",
    "failure_data_without_null.to_csv('failure_data_post_null_treatment', index = False)"
   ]
  },
  {
   "cell_type": "code",
   "execution_count": 30,
   "metadata": {},
   "outputs": [
    {
     "data": {
      "text/html": [
       "<div>\n",
       "<style scoped>\n",
       "    .dataframe tbody tr th:only-of-type {\n",
       "        vertical-align: middle;\n",
       "    }\n",
       "\n",
       "    .dataframe tbody tr th {\n",
       "        vertical-align: top;\n",
       "    }\n",
       "\n",
       "    .dataframe thead th {\n",
       "        text-align: right;\n",
       "    }\n",
       "</style>\n",
       "<table border=\"1\" class=\"dataframe\">\n",
       "  <thead>\n",
       "    <tr style=\"text-align: right;\">\n",
       "      <th></th>\n",
       "      <th>UDI</th>\n",
       "      <th>Type</th>\n",
       "      <th>Air temperature [K]</th>\n",
       "      <th>Process temperature [K]</th>\n",
       "      <th>Rotational speed [rpm]</th>\n",
       "      <th>Torque [Nm]</th>\n",
       "      <th>Tool wear [min]</th>\n",
       "      <th>Machine failure</th>\n",
       "      <th>TWF</th>\n",
       "      <th>HDF</th>\n",
       "      <th>PWF</th>\n",
       "      <th>OSF</th>\n",
       "      <th>RNF</th>\n",
       "      <th>H</th>\n",
       "      <th>L</th>\n",
       "      <th>M</th>\n",
       "    </tr>\n",
       "  </thead>\n",
       "  <tbody>\n",
       "    <tr>\n",
       "      <th>0</th>\n",
       "      <td>3416</td>\n",
       "      <td>L</td>\n",
       "      <td>301.4</td>\n",
       "      <td>310.4</td>\n",
       "      <td>1579</td>\n",
       "      <td>36.9</td>\n",
       "      <td>133.0</td>\n",
       "      <td>0</td>\n",
       "      <td>0</td>\n",
       "      <td>0</td>\n",
       "      <td>0</td>\n",
       "      <td>0</td>\n",
       "      <td>0</td>\n",
       "      <td>0</td>\n",
       "      <td>1</td>\n",
       "      <td>0</td>\n",
       "    </tr>\n",
       "  </tbody>\n",
       "</table>\n",
       "</div>"
      ],
      "text/plain": [
       "    UDI Type  Air temperature [K]  Process temperature [K]  \\\n",
       "0  3416    L                301.4                    310.4   \n",
       "\n",
       "   Rotational speed [rpm]  Torque [Nm]  Tool wear [min] Machine failure TWF  \\\n",
       "0                    1579         36.9            133.0               0   0   \n",
       "\n",
       "  HDF PWF OSF RNF  H  L  M  \n",
       "0   0   0   0   0  0  1  0  "
      ]
     },
     "execution_count": 30,
     "metadata": {},
     "output_type": "execute_result"
    }
   ],
   "source": [
    "failure_data_without_null.head(1)"
   ]
  },
  {
   "cell_type": "markdown",
   "metadata": {},
   "source": [
    "## 3) Investigating for Skewness in the data \n",
    "<a id=\"skew\"></a>"
   ]
  },
  {
   "cell_type": "markdown",
   "metadata": {},
   "source": [
    "#### Interpreting the skew() values\n",
    "\n",
    "- -0.5 < skew_value < 0.5, the data are fairly symmetrical\n",
    "- If the skewness is between -1 and — 0.5 or between 0.5 and 1, the data are moderately skewed\n",
    "- If the skewness is less than -1 or greater than 1, the data are highly skewed\n"
   ]
  },
  {
   "cell_type": "code",
   "execution_count": 31,
   "metadata": {},
   "outputs": [
    {
     "data": {
      "image/png": "[encoded data removed]",
      "text/plain": [
       "<Figure size 1500x1000 with 5 Axes>"
      ]
     },
     "metadata": {},
     "output_type": "display_data"
    }
   ],
   "source": [
    "import matplotlib.pyplot as plt\n",
    "import math\n",
    "\n",
    "# Assuming continuous_variables are defined\n",
    "continuous_variables = ['Air temperature [K]', 'Process temperature [K]', 'Rotational speed [rpm]', 'Torque [Nm]', 'Tool wear [min]']\n",
    "# Assuming Plotter and DataFrameInfo are already defined and imported\n",
    "\n",
    "# plott = Plotter(failure_data_without_null)\n",
    "# info = DataFrameInfo(failure_data_without_null)\n",
    "\n",
    "num_vars = len(continuous_variables)\n",
    "num_cols = 3  # Define number of columns for the subplot grid\n",
    "num_rows = math.ceil(num_vars / num_cols)  # Calculate number of rows needed\n",
    "\n",
    "fig, axs = plt.subplots(num_rows, num_cols, figsize=(15, num_rows * 5))  # Adjust the figsize as needed\n",
    "axs = axs.flatten()  # Flatten the 2D array of axes to 1D for easy iteration\n",
    "\n",
    "for idx, i in enumerate(continuous_variables):\n",
    "    ax = axs[idx]\n",
    "    # Directly use seaborn or matplotlib to plot on the ax\n",
    "    sns.histplot(failure_data_without_null[i], kde=False, ax=ax)\n",
    "    skew_value = failure_data_without_null[i].skew()\n",
    "    ax.set_title(f'Skew: {skew_value:.2f}')\n",
    "\n",
    "# If there are any unused subplots, hide them\n",
    "for j in range(idx + 1, len(axs)):\n",
    "    fig.delaxes(axs[j])\n",
    "\n",
    "plt.tight_layout()\n",
    "plt.show()\n"
   ]
  },
  {
   "cell_type": "markdown",
   "metadata": {},
   "source": [
    "Histogram & Skewness Test\n",
    "- `Rotational speed [rpm]` will need treatement for skewness. The data has strong positive skew where the skew_value > 1. \n",
    "- All other continous data have fairly symmetric data. Treating for skewness will not be considered, as the loss of interpretability outways the gain of symmetry for the model."
   ]
  },
  {
   "cell_type": "code",
   "execution_count": 32,
   "metadata": {},
   "outputs": [
    {
     "data": {
      "image/png": "[encoded data removed]",
      "text/plain": [
       "<Figure size 1400x600 with 2 Axes>"
      ]
     },
     "metadata": {},
     "output_type": "display_data"
    }
   ],
   "source": [
    "# Khurmi next step: add the double graph that shows the treatment on rotational speed copy n paste from below\n",
    "\n",
    "# Rotational Speed Side by side comparison\n",
    "fig, ax = plt.subplots(1, 2, figsize=(14, 6))\n",
    "\n",
    "# Original data histogram\n",
    "sns.histplot(data=failure_data_without_null, x='Rotational speed [rpm]', ax=ax[0])\n",
    "original_skewness = failure_data_without_null['Rotational speed [rpm]'].skew()\n",
    "ax[0].set_title(f'Original Data\\nSkewness: {original_skewness:.2f}')\n",
    "ax[0].set_xlabel('Rotational speed [rpm]')\n",
    "ax[0].set_ylabel('Count')\n",
    "\n",
    "# Transformed data histogram\n",
    "yeojohnson_rotational_speed = failure_data_without_null['Rotational speed [rpm]']\n",
    "yeojohnson_rotational_speed, _ = stats.yeojohnson(yeojohnson_rotational_speed)\n",
    "yeojohnson_rotational_speed = pd.Series(yeojohnson_rotational_speed)\n",
    "yeojohnson_rotational_speed_hist = sns.histplot(yeojohnson_rotational_speed, ax=ax[1])\n",
    "\n",
    "transformed_skewness = yeojohnson_rotational_speed.skew()\n",
    "ax[1].set_title(f'Transformed Data\\nSkewness: {transformed_skewness:.2f}')\n",
    "ax[1].set_xlabel('Rotational speed [rpm]')\n",
    "ax[1].set_ylabel('Count')\n",
    "\n",
    "# Show plot\n",
    "plt.suptitle('Comparison of Original and Transformed Data Skewness', fontsize=16)\n",
    "plt.tight_layout(rect=[0, 0, 1, 0.96])\n",
    "plt.show()\n"
   ]
  },
  {
   "cell_type": "markdown",
   "metadata": {},
   "source": [
    "- yeojohnson data transform has for `Rotational speed [rpm]` has been successful. \n",
    "- The skew_value is 0, indicating the data is symmetrical after the transformation\n",
    "\n",
    "Update our DataFrame by Applying the *Yeo-Johnson Transformation* to `Rotational speed [rpm]`"
   ]
  },
  {
   "cell_type": "code",
   "execution_count": 33,
   "metadata": {},
   "outputs": [],
   "source": [
    "# Applying Yeo-Johnson Transformation to `Rotational Speed [rpm]`\n",
    "\n",
    "# create a copy of the data set \n",
    "failure_data_cleaned_unskewed = failure_data_without_null.copy(deep=True)\n",
    "\n",
    "# create a Datatransform instance \n",
    "dt = DataTransform(failure_data_cleaned_unskewed)\n",
    "\n",
    "yeojohnson_rotational_speed = dt.yeojohnson('Rotational speed [rpm]')\n",
    "failure_data_cleaned_unskewed['Rotational speed [rpm]'] = yeojohnson_rotational_speed\n",
    "\n",
    "# view the data after the transformation\n",
    "# failure_data_cleaned_unskewed.head()"
   ]
  },
  {
   "cell_type": "markdown",
   "metadata": {},
   "source": [
    "## Appendix - Skewness"
   ]
  },
  {
   "cell_type": "code",
   "execution_count": null,
   "metadata": {},
   "outputs": [],
   "source": [
    "# TODO: put this in the appendix \n",
    "# measuring skewness \n",
    "# Begin with our dependant variable \"Machine failure\". As it's binary data, we will visualise the frequency of the data \n",
    "\n",
    "failure_data_without_null['Machine failure'].hist()\n",
    "plt.title('Histogram of Machine Failures ')\n",
    "\n",
    "# Strongly biased towards `0` indicating that majority of the data gives information about machines that did NOT fail during the manufacturing process.\n"
   ]
  },
  {
   "cell_type": "code",
   "execution_count": null,
   "metadata": {},
   "outputs": [],
   "source": [
    "# TODO: put this in the appendix \n",
    "# interpreting the skew() value\n",
    "\n",
    "data = [(10, 20, 30, 40, 50, 60, 70), \n",
    "        (10, 20, 30, 40, 30, 20, 10) ]\n",
    "df = pd.DataFrame(data)\n",
    "df\n",
    "skew_value = df.skew(axis=1)\n",
    "print(skew_value)\n",
    "\n",
    "df.iloc[0].plot()\n",
    "df.iloc[1].plot()"
   ]
  },
  {
   "cell_type": "markdown",
   "metadata": {},
   "source": [
    "- In the first row of the data the values are `(10, 20, 30, 40, 50, 60, 70)`, plotted by the blue line. This is a perfectly symmetrical data set when considered with respect to the mean. Even though the values are increasing, they are evenly spaced, and the distribution around the mean is symmetric.SystemError\n",
    "\n",
    "TODO: put the underlying skew calculation (theory) in the appendix."
   ]
  },
  {
   "cell_type": "code",
   "execution_count": null,
   "metadata": {},
   "outputs": [],
   "source": [
    "#### Skew test & Histogram\n",
    "info = DataFrameInfo(failure_data_without_null)\n",
    "failure_data_without_null['Air temperature [K]'].skew()"
   ]
  },
  {
   "cell_type": "markdown",
   "metadata": {},
   "source": [
    "##### Deciding which varibales to treat for skewness based on Q-Q plot & Normality tests \n",
    "- QQ plot with normality test results "
   ]
  },
  {
   "cell_type": "code",
   "execution_count": null,
   "metadata": {},
   "outputs": [],
   "source": [
    "plott = Plotter(failure_data_without_null)\n",
    "info = DataFrameInfo(failure_data_without_null)\n",
    "\n",
    "plott.plot_qq('Air temperature [K]')\n",
    "print('Normality test Air temperature [K]')\n",
    "info.normal_test('Air temperature [K]')"
   ]
  },
  {
   "cell_type": "code",
   "execution_count": null,
   "metadata": {},
   "outputs": [],
   "source": [
    "continous_variables = ['Air temperature [K]', 'Process temperature [K]', 'Rotational speed [rpm]', 'Torque [Nm]', 'Tool wear [min]']"
   ]
  },
  {
   "cell_type": "code",
   "execution_count": null,
   "metadata": {},
   "outputs": [],
   "source": [
    "# plott = Plotter(failure_data_without_null)\n",
    "# info = DataFrameInfo(failure_data_without_null)\n",
    "\n",
    "# continous_variables = ['Air temperature [K]', 'Process temperature [K]', 'Rotational speed [rpm]', 'Torque [Nm]', 'Tool wear [min]']\n",
    "\n",
    "# for i in continous_variables:\n",
    "#     plott.plot_qq(i)\n",
    "#     print(f'Normality test for {i}')\n",
    "#     info.normal_test(i)"
   ]
  },
  {
   "cell_type": "code",
   "execution_count": null,
   "metadata": {},
   "outputs": [],
   "source": [
    "# # Subplots: Q-Q & Normal Test \n",
    "# import matplotlib.pyplot as plt\n",
    "# import seaborn as sns\n",
    "# from scipy import stats\n",
    "\n",
    "# # Define the continuous variables\n",
    "# continuous_variables = ['Air temperature [K]', 'Process temperature [K]', 'Rotational speed [rpm]', 'Torque [Nm]', 'Tool wear [min]']\n",
    "\n",
    "# # Create a grid for the plots\n",
    "# fig, axes = plt.subplots(nrows=2, ncols=3, figsize=(18, 12))\n",
    "# axes = axes.flatten()\n",
    "\n",
    "# # Loop through each continuous variable and create the Q-Q plot\n",
    "# for i, var in enumerate(continuous_variables):\n",
    "#     ax = axes[i]\n",
    "#     stats.probplot(failure_data_without_null[var], dist=\"norm\", plot=ax)\n",
    "#     stat, p = stats.normaltest(failure_data_without_null[var])\n",
    "    \n",
    "#     # Add the normality test results to the plot\n",
    "#     ax.annotate(f'Statistics={stat:.3f}, p={p:.3f}', xy=(0.05, 0.95), xycoords='axes fraction', \n",
    "#                 fontsize=12, verticalalignment='top', bbox=dict(boxstyle=\"round,pad=0.3\", edgecolor=\"black\", facecolor=\"white\"))\n",
    "#     ax.set_title(f'Q-Q plot for {var}')\n",
    "    \n",
    "# # Remove any empty subplots\n",
    "# for j in range(len(continuous_variables), len(axes)):\n",
    "#     fig.delaxes(axes[j])\n",
    "\n",
    "# plt.tight_layout()\n",
    "# plt.show()\n"
   ]
  },
  {
   "cell_type": "code",
   "execution_count": null,
   "metadata": {},
   "outputs": [],
   "source": [
    "continous_variables"
   ]
  },
  {
   "cell_type": "code",
   "execution_count": null,
   "metadata": {},
   "outputs": [],
   "source": [
    "# TODO: put in appendix\n",
    "# Khurmi TODO: Make this into a grid of subplots \n",
    "# Histogram & Normal Test \n",
    "\n",
    "# plott = Plotter(failure_data_without_null)\n",
    "# info = DataFrameInfo(failure_data_without_null)\n",
    "\n",
    "# for i in continous_variables:\n",
    "#     plott.histplot(i)\n",
    "#     plt.show()\n",
    "#     print(f'Skew Test: {failure_data_without_null[i].skew()}')\n"
   ]
  },
  {
   "cell_type": "markdown",
   "metadata": {},
   "source": [
    "`Rotational speed [rpm]` will need treatement for skewed data\n",
    "- The histogram for `Rotational speed [rpm]` shows a clearly visible positive skew of data. The skew test value is 1.99 above the greater than 1 threshold that depicts highly skewed data.\n",
    "\n",
    "All other variables:\n",
    "- skew test values suggest that they are all relatively close to 0, suggesting the data is symmetrical\n",
    "- 'Tool wear [min]': a skewness value of 0 suggests that the data is evenly distributed around the mean, with no significant skew to the left or right, which is clearly seen by the histogram, where the majority of the data is fairly uniform up to 200 minutes."
   ]
  },
  {
   "cell_type": "code",
   "execution_count": null,
   "metadata": {},
   "outputs": [],
   "source": [
    "# # TODO: put in appendix \n",
    "# info = DataFrameInfo(failure_data_without_null)\n",
    "# # info.normal_test()\n",
    "# print('Normal Test')\n",
    "# for i in continous_variables:\n",
    "#     print(i)\n",
    "#     print(info.normal_test(i))"
   ]
  },
  {
   "cell_type": "markdown",
   "metadata": {},
   "source": [
    "#### Histogram & Normal Test: \n",
    "\n",
    "- `Tool wear [min]` histogram shows a subtle positive skew\n",
    "- The p-value for `Torque [Nm]` is stongly in favour of the NULL hypthesis as p > 0.75. This is contradictory to the histogram of the data which shows a clear normal distribution\n",
    "\n",
    "Investigate all three of above variables for skewness."
   ]
  },
  {
   "cell_type": "code",
   "execution_count": null,
   "metadata": {},
   "outputs": [],
   "source": [
    "skewed_variables = ['Rotational speed [rpm]', 'Tool wear [min]', 'Torque [Nm]']"
   ]
  },
  {
   "cell_type": "code",
   "execution_count": null,
   "metadata": {},
   "outputs": [],
   "source": [
    "# TODO: Appendix\n",
    "# # Reject the null hypothesis for all continous variables apart from `Torque`. As the p-value suggests fairly strong evidence for a normal distribution for `Torque`\n",
    "# # ignore UDI, as it is a label rather than a explanatory variable for `Machine failure`\n",
    "# # visualise the skew for the variables of interest \n",
    "#     # Air temperature [K]\n",
    "#     # Process temperature [K]\n",
    "#     # Rotational speed [rpm]\n",
    "#     # Tool wear [min]\n",
    "\n",
    "# # create histograms and qq plots for each\n",
    "\n",
    "# plott = Plotter(failure_data_without_null)\n",
    "\n",
    "# skewed_variables = ['Air temperature [K]', 'Process temperature [K]', 'Rotational speed [rpm]', 'Tool wear [min]']\n",
    "# skewed_variables\n",
    "\n",
    "# for i in skewed_variables:\n",
    "#     print(i)\n",
    "#     plott.plott_hist(i)"
   ]
  },
  {
   "cell_type": "markdown",
   "metadata": {},
   "source": [
    "\n",
    "\n",
    "\n",
    "\n",
    "- Rotational speed [rpm]\n",
    "- Tool wear [min]\n",
    "\n"
   ]
  },
  {
   "cell_type": "markdown",
   "metadata": {},
   "source": [
    "#### Air temperature"
   ]
  },
  {
   "cell_type": "code",
   "execution_count": null,
   "metadata": {},
   "outputs": [],
   "source": [
    "\n",
    "# plott.histplot('Air temperature [K]')"
   ]
  },
  {
   "cell_type": "markdown",
   "metadata": {},
   "source": [
    "- `Air temperature [K]`, contains 3 spikes, this likely for each `Type`. Where the Air temperature is higher 'High' quality products and the converse for low quality products "
   ]
  },
  {
   "cell_type": "code",
   "execution_count": null,
   "metadata": {},
   "outputs": [],
   "source": [
    "# plott= Plotter(failure_data_without_null)\n",
    "# plott.plot_qq('Air temperature [K]')"
   ]
  },
  {
   "cell_type": "markdown",
   "metadata": {},
   "source": [
    "- Air Temperature Q-Q plot shows that there is deviation from in the lower and upper quartiles of the data set."
   ]
  },
  {
   "cell_type": "code",
   "execution_count": null,
   "metadata": {},
   "outputs": [],
   "source": [
    "# # treating the skewness in Air temperature \n",
    "# # Box-Cox Transformation. \n",
    "#     # Motivation - out data is positive \n",
    "\n",
    "# boxcox_air = failure_data['Air temperature [K]']\n",
    "# boxcox_air = stats.boxcox(boxcox_air) \n",
    "# boxcox_air = pd.Series(boxcox_air[0])\n",
    "# t=sns.histplot(boxcox_air,label=\"Skewness: %.2f\"%(boxcox_air.skew()) )\n",
    "# t.legend()\n",
    "# # boxcox_air = pd.Series(boxcox_air[0])"
   ]
  },
  {
   "cell_type": "code",
   "execution_count": null,
   "metadata": {},
   "outputs": [],
   "source": [
    "# # boxcox transformation, did not work as expected, this is because the variance is relatively small, the points are all concentrated. \n",
    "\n",
    "# failure_data_without_null['Air temperature [K]']"
   ]
  },
  {
   "cell_type": "code",
   "execution_count": null,
   "metadata": {},
   "outputs": [],
   "source": [
    "# # Yeo Johnson transformation\n",
    "# from scipy.stats import yeojohnson\n",
    "# yeojohnson_air = failure_data_without_null['Air temperature [K]']\n",
    "# yeojohnson_air = stats.yeojohnson(yeojohnson_air)\n",
    "# yeojohnson_air= pd.Series(yeojohnson_air[0])\n",
    "# t=sns.histplot(yeojohnson_air,label=\"Skewness: %.2f\"%(yeojohnson_air.skew()) )\n",
    "# t.legend()\n"
   ]
  },
  {
   "cell_type": "code",
   "execution_count": null,
   "metadata": {},
   "outputs": [],
   "source": [
    "# The YeoJohnson transformation has successfully transformed the data to be symmetrical. The closer the value to zero, the more symmetrical the data. "
   ]
  },
  {
   "cell_type": "code",
   "execution_count": null,
   "metadata": {},
   "outputs": [],
   "source": [
    "# # compare with original distrubution \n",
    "# plott.plot_hist('Air temperature [K]')"
   ]
  },
  {
   "cell_type": "markdown",
   "metadata": {},
   "source": [
    "#### Process Temperature [K]"
   ]
  },
  {
   "cell_type": "code",
   "execution_count": null,
   "metadata": {},
   "outputs": [],
   "source": [
    "# plott.plot_hist('Process temperature [K]')"
   ]
  },
  {
   "cell_type": "markdown",
   "metadata": {},
   "source": [
    "- Process temperature [K], contains a spike around 310K and slightly negative skew. This is expected as the increase in temperature maybe due to the variation of products involved, as the quality increases, the process temperature increases. Investigate this with a scatter plot of `Type` vs temperature variables."
   ]
  },
  {
   "cell_type": "code",
   "execution_count": null,
   "metadata": {},
   "outputs": [],
   "source": [
    "# plott.plot_qq('Process temperature [K]')"
   ]
  },
  {
   "cell_type": "markdown",
   "metadata": {},
   "source": [
    "### Rotational speed and Air temperature are the only variables with Skewness. "
   ]
  },
  {
   "cell_type": "code",
   "execution_count": null,
   "metadata": {},
   "outputs": [],
   "source": [
    "# # Rotational speed \n",
    "\n",
    "# plott.histplot('Rotational speed [rpm]')\n",
    "# print('histogram shows a positive skew and supports the skew test')"
   ]
  },
  {
   "cell_type": "code",
   "execution_count": null,
   "metadata": {},
   "outputs": [],
   "source": [
    "# plott.plot_qq('Rotational speed [rpm]')\n",
    "# print('Severe deviation in the upper bound of the data. Slight deviation in the lower bound')\n",
    "# print('proceed with transformation')"
   ]
  },
  {
   "cell_type": "code",
   "execution_count": null,
   "metadata": {},
   "outputs": [],
   "source": [
    "# As the data is positive and rightly skewed, proceed with a box cox transformation \n",
    "log_rotational_speed = failure_data_without_null['Rotational speed [rpm]'].map(lambda i: np.log(i) if i > 0 else 0)\n",
    "t = sns.histplot(log_rotational_speed, label=\"Skewness: %.2f\"%(log_rotational_speed.skew()))\n",
    "t.legend()\n",
    "print(\"skewness has been reduced, the data is still not symmetrical, proceed with Box-Cox Transformations \")"
   ]
  },
  {
   "cell_type": "code",
   "execution_count": null,
   "metadata": {},
   "outputs": [],
   "source": [
    "# # TODO: appendix \n",
    "# boxcox_rotational_speed = failure_data_without_null['Rotational speed [rpm]']\n",
    "# boxcox_rotational_speed = stats.boxcox(boxcox_rotational_speed)\n",
    "# boxcox_rotational_speed = pd.Series(boxcox_population[0])\n",
    "# t = sns.histplot(boxcox_rotational_speed, label=\"Skewness: %.2f\"%(boxcox_rotational_speed.skew()))\n",
    "# t.legend()\n",
    "\n",
    "# # boxcox_rotational_speed.head()"
   ]
  },
  {
   "cell_type": "code",
   "execution_count": null,
   "metadata": {},
   "outputs": [],
   "source": [
    "yeojohnson_rotational_speed = failure_data_without_null['Rotational speed [rpm]']\n",
    "yeojohnson_rotational_speed = stats.yeojohnson(yeojohnson_rotational_speed)\n",
    "yeojohnson_rotational_speed = pd.Series(yeojohnson_rotational_speed[0])\n",
    "yeojohnson_rotational_speed_hist = sns.histplot(yeojohnson_rotational_speed, label = \"Skewness: %.2f\"%(yeojohnson_rotational_speed.skew()))\n",
    "yeojohnson_rotational_speed_hist.legend()\n",
    "\n"
   ]
  },
  {
   "cell_type": "code",
   "execution_count": null,
   "metadata": {},
   "outputs": [],
   "source": [
    "# Rotational Speed Side by side comparison\n",
    "fig, ax = plt.subplots(1, 2, figsize=(14, 6))\n",
    "\n",
    "# Original data histogram\n",
    "sns.histplot(data=failure_data_without_null, x='Rotational speed [rpm]', ax=ax[0])\n",
    "original_skewness = failure_data_without_null['Rotational speed [rpm]'].skew()\n",
    "ax[0].set_title(f'Original Data\\nSkewness: {original_skewness:.2f}')\n",
    "ax[0].set_xlabel('Rotational speed [rpm]')\n",
    "ax[0].set_ylabel('Count')\n",
    "\n",
    "# Transformed data histogram\n",
    "yeojohnson_rotational_speed = failure_data_without_null['Rotational speed [rpm]']\n",
    "yeojohnson_rotational_speed, _ = stats.yeojohnson(yeojohnson_rotational_speed)\n",
    "yeojohnson_rotational_speed = pd.Series(yeojohnson_rotational_speed)\n",
    "yeojohnson_rotational_speed_hist = sns.histplot(yeojohnson_rotational_speed, ax=ax[1])\n",
    "\n",
    "transformed_skewness = yeojohnson_rotational_speed.skew()\n",
    "ax[1].set_title(f'Transformed Data\\nSkewness: {transformed_skewness:.2f}')\n",
    "ax[1].set_xlabel('Rotational speed [rpm]')\n",
    "ax[1].set_ylabel('Count')\n",
    "\n",
    "# Show plot\n",
    "plt.suptitle('Comparison of Original and Transformed Data Skewness', fontsize=16)\n",
    "plt.tight_layout(rect=[0, 0, 1, 0.96])\n",
    "plt.show()"
   ]
  },
  {
   "cell_type": "code",
   "execution_count": null,
   "metadata": {},
   "outputs": [],
   "source": [
    "# data transformation \n",
    "yeojohnson_rotational_speed = failure_data_without_null['Rotational speed [rpm]']\n",
    "yeojohnson_rotational_speed, _ = stats.yeojohnson(yeojohnson_rotational_speed)\n",
    "yeojohnson_rotational_speed = pd.Series(yeojohnson_rotational_speed)\n"
   ]
  },
  {
   "cell_type": "code",
   "execution_count": null,
   "metadata": {},
   "outputs": [],
   "source": [
    "# # TODO: Appendix \n",
    "# # Do the same for Air Temperature\n",
    "\n",
    "# # Side by side comparison\n",
    "# fig, ax = plt.subplots(1, 2, figsize=(14, 6))\n",
    "\n",
    "# # Original data histogram\n",
    "# sns.histplot(data=failure_data_without_null, x='Air temperature [K]', ax=ax[0])\n",
    "# original_skewness = failure_data_without_null['Air temperature [K]'].skew()\n",
    "# ax[0].set_title(f'Original Data\\nSkewness: {original_skewness:.2f}')\n",
    "# ax[0].set_xlabel('Air temperature [K]')\n",
    "# ax[0].set_ylabel('Count')\n",
    "\n",
    "# # Transformed data histogram\n",
    "# yeojohnson_air = failure_data_without_null['Air temperature [K]']\n",
    "# yeojohnson_air, _ = stats.yeojohnson(yeojohnson_air) # The '_' ignores the second parameter, in this case it is the lambda parameter \n",
    "# yeojohnson_air = pd.Series(yeojohnson_air)\n",
    "# yeojohnson_air_hist = sns.histplot(yeojohnson_air, ax=ax[1])\n",
    "# transformed_skewness = yeojohnson_air.skew()\n",
    "# ax[1].set_title(f'Transformed Data\\nSkewness: {transformed_skewness:.2f}')\n",
    "# ax[1].set_xlabel('Air temperature [K]')\n",
    "# ax[1].set_ylabel('Count')\n",
    "\n",
    "# # Show plot\n",
    "# plt.suptitle('Comparison of Original and Transformed Data Skewness', fontsize=16)\n",
    "# plt.tight_layout(rect=[0, 0, 1, 0.96])\n",
    "# plt.show()"
   ]
  },
  {
   "cell_type": "markdown",
   "metadata": {},
   "source": [
    "#### Now use the DataTransformation class to add these transformations  "
   ]
  },
  {
   "cell_type": "code",
   "execution_count": null,
   "metadata": {},
   "outputs": [],
   "source": [
    "# create a copy of the data set \n",
    "failure_data_cleaned_unskewed = failure_data_without_null.copy(deep=True)\n",
    "\n",
    "# create a Datatransform instance \n",
    "dt = DataTransform(failure_data_cleaned_unskewed)\n",
    "yeojohnson_rotational_speed = dt.yeojohnson('Rotational speed [rpm]')\n",
    "failure_data_cleaned_unskewed['Rotational speed [rpm]'] = yeojohnson_rotational_speed\n",
    "\n",
    "## Quick glance at the df after treating for skewness\n",
    "# failure_data_cleaned_unskewed.head()\n",
    "# sum(failure_data_without_null['Air temperature [K]'].isnull())"
   ]
  },
  {
   "cell_type": "code",
   "execution_count": null,
   "metadata": {},
   "outputs": [],
   "source": [
    "print('original data set ')\n",
    "print('\\n')\n",
    "print(failure_data_without_null[['Air temperature [K]', 'Rotational speed [rpm]']])"
   ]
  },
  {
   "cell_type": "code",
   "execution_count": null,
   "metadata": {},
   "outputs": [],
   "source": [
    "print('After skewness transformations')\n",
    "print('\\n')\n",
    "print(failure_data_cleaned_unskewed[['Air temperature [K]', 'Rotational speed [rpm]']])\n",
    "print('\\n')\n",
    "print('The transformation for skewness has been made. The interpretability of `Air temperature [K]` and `Rotational speed` has reduced drastically')\n",
    "\n",
    "# Ask khushboo how tp sort this out.\n",
    "# TODO: need to change the df  name for after skewness has been applied, this is so that the code is reproducible "
   ]
  },
  {
   "cell_type": "code",
   "execution_count": null,
   "metadata": {},
   "outputs": [],
   "source": [
    "info_after_skew_transformation = DataFrameInfo(failure_data_cleaned_unskewed)\n",
    "print(info_after_skew_transformation.percentage_of_null()[['Air temperature [K]', 'Rotational speed [rpm]']])\n",
    "\n",
    "print('There is now NaN values in the data set, be aware for the machine learning')"
   ]
  },
  {
   "cell_type": "markdown",
   "metadata": {},
   "source": [
    "## 4) Removing Outliers from the Data \n",
    "<a id=\"outliers\"></a>"
   ]
  },
  {
   "cell_type": "code",
   "execution_count": 35,
   "metadata": {},
   "outputs": [],
   "source": [
    "# checkpoint\n",
    "failure_data_cleaned_unskewed.to_csv('failure_data_cleaned_unskewed', encoding='utf-8', index=False)"
   ]
  },
  {
   "cell_type": "code",
   "execution_count": 36,
   "metadata": {},
   "outputs": [
    {
     "data": {
      "text/html": [
       "<div>\n",
       "<style scoped>\n",
       "    .dataframe tbody tr th:only-of-type {\n",
       "        vertical-align: middle;\n",
       "    }\n",
       "\n",
       "    .dataframe tbody tr th {\n",
       "        vertical-align: top;\n",
       "    }\n",
       "\n",
       "    .dataframe thead th {\n",
       "        text-align: right;\n",
       "    }\n",
       "</style>\n",
       "<table border=\"1\" class=\"dataframe\">\n",
       "  <thead>\n",
       "    <tr style=\"text-align: right;\">\n",
       "      <th></th>\n",
       "      <th>UDI</th>\n",
       "      <th>Type</th>\n",
       "      <th>Air temperature [K]</th>\n",
       "      <th>Process temperature [K]</th>\n",
       "      <th>Rotational speed [rpm]</th>\n",
       "      <th>Torque [Nm]</th>\n",
       "      <th>Tool wear [min]</th>\n",
       "      <th>Machine failure</th>\n",
       "      <th>TWF</th>\n",
       "      <th>HDF</th>\n",
       "      <th>PWF</th>\n",
       "      <th>OSF</th>\n",
       "      <th>RNF</th>\n",
       "      <th>H</th>\n",
       "      <th>L</th>\n",
       "      <th>M</th>\n",
       "    </tr>\n",
       "  </thead>\n",
       "  <tbody>\n",
       "    <tr>\n",
       "      <th>0</th>\n",
       "      <td>3416</td>\n",
       "      <td>L</td>\n",
       "      <td>301.4</td>\n",
       "      <td>310.4</td>\n",
       "      <td>0.315762</td>\n",
       "      <td>36.9</td>\n",
       "      <td>133.0</td>\n",
       "      <td>0</td>\n",
       "      <td>0</td>\n",
       "      <td>0</td>\n",
       "      <td>0</td>\n",
       "      <td>0</td>\n",
       "      <td>0</td>\n",
       "      <td>0</td>\n",
       "      <td>1</td>\n",
       "      <td>0</td>\n",
       "    </tr>\n",
       "    <tr>\n",
       "      <th>1</th>\n",
       "      <td>7130</td>\n",
       "      <td>L</td>\n",
       "      <td>300.6</td>\n",
       "      <td>310.0</td>\n",
       "      <td>0.315762</td>\n",
       "      <td>31.0</td>\n",
       "      <td>107.0</td>\n",
       "      <td>0</td>\n",
       "      <td>0</td>\n",
       "      <td>0</td>\n",
       "      <td>0</td>\n",
       "      <td>0</td>\n",
       "      <td>0</td>\n",
       "      <td>0</td>\n",
       "      <td>1</td>\n",
       "      <td>0</td>\n",
       "    </tr>\n",
       "  </tbody>\n",
       "</table>\n",
       "</div>"
      ],
      "text/plain": [
       "    UDI Type  Air temperature [K]  Process temperature [K]  \\\n",
       "0  3416    L                301.4                    310.4   \n",
       "1  7130    L                300.6                    310.0   \n",
       "\n",
       "   Rotational speed [rpm]  Torque [Nm]  Tool wear [min]  Machine failure  TWF  \\\n",
       "0                0.315762         36.9            133.0                0    0   \n",
       "1                0.315762         31.0            107.0                0    0   \n",
       "\n",
       "   HDF  PWF  OSF  RNF  H  L  M  \n",
       "0    0    0    0    0  0  1  0  \n",
       "1    0    0    0    0  0  1  0  "
      ]
     },
     "execution_count": 36,
     "metadata": {},
     "output_type": "execute_result"
    }
   ],
   "source": [
    "pd.read_csv('failure_data_cleaned_unskewed').head(2)"
   ]
  },
  {
   "cell_type": "code",
   "execution_count": 37,
   "metadata": {},
   "outputs": [
    {
     "data": {
      "text/html": [
       "<div>\n",
       "<style scoped>\n",
       "    .dataframe tbody tr th:only-of-type {\n",
       "        vertical-align: middle;\n",
       "    }\n",
       "\n",
       "    .dataframe tbody tr th {\n",
       "        vertical-align: top;\n",
       "    }\n",
       "\n",
       "    .dataframe thead th {\n",
       "        text-align: right;\n",
       "    }\n",
       "</style>\n",
       "<table border=\"1\" class=\"dataframe\">\n",
       "  <thead>\n",
       "    <tr style=\"text-align: right;\">\n",
       "      <th></th>\n",
       "      <th>UDI</th>\n",
       "      <th>Type</th>\n",
       "      <th>Air temperature [K]</th>\n",
       "      <th>Process temperature [K]</th>\n",
       "      <th>Rotational speed [rpm]</th>\n",
       "      <th>Torque [Nm]</th>\n",
       "      <th>Tool wear [min]</th>\n",
       "      <th>Machine failure</th>\n",
       "      <th>TWF</th>\n",
       "      <th>HDF</th>\n",
       "      <th>PWF</th>\n",
       "      <th>OSF</th>\n",
       "      <th>RNF</th>\n",
       "      <th>H</th>\n",
       "      <th>L</th>\n",
       "      <th>M</th>\n",
       "    </tr>\n",
       "  </thead>\n",
       "  <tbody>\n",
       "    <tr>\n",
       "      <th>0</th>\n",
       "      <td>3416</td>\n",
       "      <td>L</td>\n",
       "      <td>301.4</td>\n",
       "      <td>310.4</td>\n",
       "      <td>0.315762</td>\n",
       "      <td>36.9</td>\n",
       "      <td>133.0</td>\n",
       "      <td>0</td>\n",
       "      <td>0</td>\n",
       "      <td>0</td>\n",
       "      <td>0</td>\n",
       "      <td>0</td>\n",
       "      <td>0</td>\n",
       "      <td>0</td>\n",
       "      <td>1</td>\n",
       "      <td>0</td>\n",
       "    </tr>\n",
       "    <tr>\n",
       "      <th>1</th>\n",
       "      <td>7130</td>\n",
       "      <td>L</td>\n",
       "      <td>300.6</td>\n",
       "      <td>310.0</td>\n",
       "      <td>0.315762</td>\n",
       "      <td>31.0</td>\n",
       "      <td>107.0</td>\n",
       "      <td>0</td>\n",
       "      <td>0</td>\n",
       "      <td>0</td>\n",
       "      <td>0</td>\n",
       "      <td>0</td>\n",
       "      <td>0</td>\n",
       "      <td>0</td>\n",
       "      <td>1</td>\n",
       "      <td>0</td>\n",
       "    </tr>\n",
       "    <tr>\n",
       "      <th>2</th>\n",
       "      <td>2320</td>\n",
       "      <td>M</td>\n",
       "      <td>299.2</td>\n",
       "      <td>308.8</td>\n",
       "      <td>0.315762</td>\n",
       "      <td>33.5</td>\n",
       "      <td>185.0</td>\n",
       "      <td>0</td>\n",
       "      <td>0</td>\n",
       "      <td>0</td>\n",
       "      <td>0</td>\n",
       "      <td>0</td>\n",
       "      <td>0</td>\n",
       "      <td>0</td>\n",
       "      <td>0</td>\n",
       "      <td>1</td>\n",
       "    </tr>\n",
       "  </tbody>\n",
       "</table>\n",
       "</div>"
      ],
      "text/plain": [
       "    UDI Type  Air temperature [K]  Process temperature [K]  \\\n",
       "0  3416    L                301.4                    310.4   \n",
       "1  7130    L                300.6                    310.0   \n",
       "2  2320    M                299.2                    308.8   \n",
       "\n",
       "   Rotational speed [rpm]  Torque [Nm]  Tool wear [min] Machine failure TWF  \\\n",
       "0                0.315762         36.9            133.0               0   0   \n",
       "1                0.315762         31.0            107.0               0   0   \n",
       "2                0.315762         33.5            185.0               0   0   \n",
       "\n",
       "  HDF PWF OSF RNF  H  L  M  \n",
       "0   0   0   0   0  0  1  0  \n",
       "1   0   0   0   0  0  1  0  \n",
       "2   0   0   0   0  0  0  1  "
      ]
     },
     "execution_count": 37,
     "metadata": {},
     "output_type": "execute_result"
    }
   ],
   "source": [
    "failure_data_cleaned_unskewed.head(3)"
   ]
  },
  {
   "cell_type": "markdown",
   "metadata": {},
   "source": [
    "#### What to include in the forefront:\n",
    "- grid of boxplot of all continous variables\n",
    "- z-score visual of the histogram, thresholds 2 & 3 with the % of the data that is being taken out as outliers. colour the outliers on the Histogram \n",
    "    - Threshold 2 vs Threshold 3. My choice also depends on the amount of data loss.\n",
    "\n",
    "Other thoughts:\n",
    "- Z-Score > IQR\n",
    "    - Z-score filitering for all continous variables apart from `Rotational speed`, here we will use IQR.\n",
    "    - Filtering outliers via Z-score is the chosen methodology since our continous varibles are normally distributed (see section 3 skew tests for supporting evidience). we will filter via Z-Score. \n",
    "    - Depending on the data wither a Z-score Threshold of 2 or 3 is used.\n",
    "- Grid of boxplots of each continous variable"
   ]
  },
  {
   "cell_type": "code",
   "execution_count": 38,
   "metadata": {},
   "outputs": [
    {
     "data": {
      "text/plain": [
       "Index(['UDI', 'Type', 'Air temperature [K]', 'Process temperature [K]',\n",
       "       'Rotational speed [rpm]', 'Torque [Nm]', 'Tool wear [min]',\n",
       "       'Machine failure', 'TWF', 'HDF', 'PWF', 'OSF', 'RNF', 'H', 'L', 'M'],\n",
       "      dtype='object')"
      ]
     },
     "execution_count": 38,
     "metadata": {},
     "output_type": "execute_result"
    }
   ],
   "source": [
    "failure_data_cleaned_unskewed.columns"
   ]
  },
  {
   "cell_type": "code",
   "execution_count": 39,
   "metadata": {},
   "outputs": [
    {
     "data": {
      "image/png": "[encoded data removed]",
      "text/plain": [
       "<Figure size 2000x500 with 5 Axes>"
      ]
     },
     "metadata": {},
     "output_type": "display_data"
    }
   ],
   "source": [
    "import matplotlib.pyplot as plt\n",
    "import seaborn as sns\n",
    "\n",
    "# List of continuous variables of interest\n",
    "continous_variables_of_interest = ['Air temperature [K]', 'Process temperature [K]', 'Rotational speed [rpm]', 'Torque [Nm]', 'Tool wear [min]']\n",
    "\n",
    "# Number of variables\n",
    "num_vars = len(continous_variables_of_interest)\n",
    "\n",
    "# Create subplots (1 row, num_vars columns)\n",
    "fig, axs = plt.subplots(1, num_vars, figsize=(num_vars * 4, 5))  # Adjust the width and height of the figure\n",
    "\n",
    "# Plot each variable\n",
    "for idx, i in enumerate(continous_variables_of_interest):\n",
    "    sns.boxplot(data=failure_data_cleaned_unskewed, y=i, ax=axs[idx])  # y=i for vertical boxplots\n",
    "    axs[idx].set_title(f'{i}')\n",
    "    axs[idx].set_xlabel('')  # Remove x-axis label to save space\n",
    "    axs[idx].set_ylabel('')  # Remove y-axis label to save space\n",
    "\n",
    "plt.tight_layout()\n",
    "plt.show()\n"
   ]
  },
  {
   "cell_type": "markdown",
   "metadata": {},
   "source": [
    "- The Boxplots of `Process temperature [K]`, `Rotational speed [rpm]`, `Torque [Nm]` have outliers and will be investigated further. \n",
    "- The Boxplots of `Air temperatures [K]` & `Tool wear [min]` have no outliers in the lower or upper bounds of their data, shown by the absense of observations in the boxplots' whiskers. "
   ]
  },
  {
   "cell_type": "code",
   "execution_count": 40,
   "metadata": {},
   "outputs": [
    {
     "data": {
      "text/html": [
       "<div>\n",
       "<style scoped>\n",
       "    .dataframe tbody tr th:only-of-type {\n",
       "        vertical-align: middle;\n",
       "    }\n",
       "\n",
       "    .dataframe tbody tr th {\n",
       "        vertical-align: top;\n",
       "    }\n",
       "\n",
       "    .dataframe thead th {\n",
       "        text-align: right;\n",
       "    }\n",
       "</style>\n",
       "<table border=\"1\" class=\"dataframe\">\n",
       "  <thead>\n",
       "    <tr style=\"text-align: right;\">\n",
       "      <th></th>\n",
       "      <th>UDI</th>\n",
       "      <th>Type</th>\n",
       "      <th>Air temperature [K]</th>\n",
       "      <th>Process temperature [K]</th>\n",
       "      <th>Rotational speed [rpm]</th>\n",
       "      <th>Torque [Nm]</th>\n",
       "      <th>Tool wear [min]</th>\n",
       "      <th>Machine failure</th>\n",
       "      <th>TWF</th>\n",
       "      <th>HDF</th>\n",
       "      <th>PWF</th>\n",
       "      <th>OSF</th>\n",
       "      <th>RNF</th>\n",
       "      <th>H</th>\n",
       "      <th>L</th>\n",
       "      <th>M</th>\n",
       "    </tr>\n",
       "  </thead>\n",
       "  <tbody>\n",
       "    <tr>\n",
       "      <th>3975</th>\n",
       "      <td>919</td>\n",
       "      <td>M</td>\n",
       "      <td>295.3</td>\n",
       "      <td>305.7</td>\n",
       "      <td>0.315762</td>\n",
       "      <td>38.5</td>\n",
       "      <td>189.0</td>\n",
       "      <td>0</td>\n",
       "      <td>0</td>\n",
       "      <td>0</td>\n",
       "      <td>0</td>\n",
       "      <td>0</td>\n",
       "      <td>0</td>\n",
       "      <td>0</td>\n",
       "      <td>0</td>\n",
       "      <td>1</td>\n",
       "    </tr>\n",
       "    <tr>\n",
       "      <th>8425</th>\n",
       "      <td>918</td>\n",
       "      <td>L</td>\n",
       "      <td>295.3</td>\n",
       "      <td>305.7</td>\n",
       "      <td>0.315762</td>\n",
       "      <td>51.0</td>\n",
       "      <td>187.0</td>\n",
       "      <td>0</td>\n",
       "      <td>0</td>\n",
       "      <td>0</td>\n",
       "      <td>0</td>\n",
       "      <td>0</td>\n",
       "      <td>0</td>\n",
       "      <td>0</td>\n",
       "      <td>1</td>\n",
       "      <td>0</td>\n",
       "    </tr>\n",
       "  </tbody>\n",
       "</table>\n",
       "</div>"
      ],
      "text/plain": [
       "      UDI Type  Air temperature [K]  Process temperature [K]  \\\n",
       "3975  919    M                295.3                    305.7   \n",
       "8425  918    L                295.3                    305.7   \n",
       "\n",
       "      Rotational speed [rpm]  Torque [Nm]  Tool wear [min] Machine failure  \\\n",
       "3975                0.315762         38.5            189.0               0   \n",
       "8425                0.315762         51.0            187.0               0   \n",
       "\n",
       "     TWF HDF PWF OSF RNF  H  L  M  \n",
       "3975   0   0   0   0   0  0  0  1  \n",
       "8425   0   0   0   0   0  0  1  0  "
      ]
     },
     "execution_count": 40,
     "metadata": {},
     "output_type": "execute_result"
    }
   ],
   "source": [
    "# Create Histograms with Z-score bounds \n",
    "\n",
    "vars_of_interest = ['Process temperature [K]', 'Rotational speed [rpm]', 'Torque [Nm]']\n",
    "\n",
    "# info = DataFrameInfo(failure_data_cleaned_unskewed)\n",
    "# info\n",
    "\n",
    "dt = DataTransform(failure_data_cleaned_unskewed)\n",
    "# dt.outliers_via_z_score_df('Process temperature [K]')\n",
    "\n",
    "dt.outliers_via_z_score_df('Process temperature [K]', z_threshold=2) # outputs a data set, where the outliers are filtered based on the z_score threshold \n",
    "dt.outliers_via_z_score_df('Process temperature [K]', z_threshold=3) # outputs a data set, where the outliers are filtered based on the z_score threshold \n"
   ]
  },
  {
   "cell_type": "code",
   "execution_count": 41,
   "metadata": {},
   "outputs": [
    {
     "data": {
      "image/png": "[encoded data removed]",
      "text/plain": [
       "<Figure size 1800x600 with 3 Axes>"
      ]
     },
     "metadata": {},
     "output_type": "display_data"
    }
   ],
   "source": [
    "import matplotlib.pyplot as plt\n",
    "import seaborn as sns\n",
    "import numpy as np\n",
    "\n",
    "# Assuming dt is an instance of DataTransform and vars_of_interest is defined\n",
    "vars_of_interest = ['Process temperature [K]', 'Rotational speed [rpm]', 'Torque [Nm]']\n",
    "\n",
    "# Define Z-score thresholds\n",
    "z_thresholds = [2, 3]\n",
    "\n",
    "# Create a figure with subplots in a single row\n",
    "num_vars = len(vars_of_interest)\n",
    "fig, axs = plt.subplots(1, num_vars, figsize=(num_vars * 6, 6))  # Adjust the figsize as needed\n",
    "\n",
    "for idx, var in enumerate(vars_of_interest):\n",
    "    # Calculate Z-scores for the variable\n",
    "    z_scores = (dt.df[var] - dt.df[var].mean()) / dt.df[var].std()\n",
    "    \n",
    "    # Calculate the percentage of data loss due to each threshold\n",
    "    loss_z2 = (z_scores.abs() > 2).mean() * 100\n",
    "    loss_z3 = (z_scores.abs() > 3).mean() * 100\n",
    "    \n",
    "    ax = axs[idx]\n",
    "    \n",
    "    # Plot the histogram and KDE with a lighter shade of blue for non-outliers\n",
    "    sns.histplot(data=dt.df, x=var, kde=True, color='cornflowerblue', label='Data', stat=\"density\", ax=ax)\n",
    "    \n",
    "    # Plot the KDE to get the y-values for the fill_between function\n",
    "    kde = sns.kdeplot(data=dt.df[var], color='blue', ax=ax)\n",
    "    \n",
    "    # Calculate the mean and standard deviation\n",
    "    mean = dt.df[var].mean()\n",
    "    std = dt.df[var].std()\n",
    "\n",
    "    # Draw dotted lines for Z-score thresholds and fill the areas for outliers\n",
    "    for z in z_thresholds:\n",
    "        # Calculate positions of Z-score thresholds\n",
    "        lower_bound = mean - z * std\n",
    "        upper_bound = mean + z * std\n",
    "        \n",
    "        # Plot vertical dotted lines\n",
    "        ax.axvline(lower_bound, color='black', linestyle='dotted', linewidth=1.5)\n",
    "        ax.axvline(upper_bound, color='black', linestyle='dotted', linewidth=1.5)\n",
    "        \n",
    "        # Get the KDE values for filling\n",
    "        kde_y = kde.get_lines()[0].get_ydata()\n",
    "        kde_x = kde.get_lines()[0].get_xdata()\n",
    "        \n",
    "        # Fill the areas representing outliers with a darker shade\n",
    "        ax.fill_between(kde_x, kde_y, where=((kde_x <= lower_bound) | (kde_x >= upper_bound)), \n",
    "                         color='darkblue', alpha=0.7, label=f'Outliers (|Z| > {z})')\n",
    "        \n",
    "        # Further lower the Z-score labels for better readability\n",
    "        if var in ['Rotational speed [rpm]', 'Torque [Nm]']:\n",
    "            y_position = max(kde_y) * 0.40  # Lower the position more for these variables\n",
    "        else:\n",
    "            y_position = max(kde_y) * 0.85  # Keep higher position for others\n",
    "        \n",
    "        # Add bold, centered text labels for Z-scores as absolute values\n",
    "        ax.text(lower_bound, y_position, f'|Z| = {z}', horizontalalignment='center', \n",
    "                 color='black', weight='bold', fontsize=10)\n",
    "        ax.text(upper_bound, y_position, f'|Z| = {z}', horizontalalignment='center', \n",
    "                 color='black', weight='bold', fontsize=10)\n",
    "    \n",
    "    # Adding title and labels\n",
    "    ax.set_title(f'Histogram of {var}')\n",
    "    ax.set_xlabel(var)\n",
    "    ax.set_ylabel('Density')\n",
    "    \n",
    "    # Move the data loss statistics box down\n",
    "    ax.text(0.95, 0.65, f'Data Loss:\\n|Z| > 2: {loss_z2:.2f}%\\n|Z| > 3: {loss_z3:.2f}%', \n",
    "             transform=ax.transAxes, fontsize=10, verticalalignment='top', \n",
    "             horizontalalignment='right', weight='bold', bbox=dict(facecolor='white', alpha=0.8))\n",
    "    \n",
    "    # Add the legend\n",
    "    ax.legend(loc='upper right', fontsize='8', frameon=True, shadow=True, borderpad=1)\n",
    "\n",
    "plt.tight_layout()\n",
    "plt.show()\n"
   ]
  },
  {
   "cell_type": "markdown",
   "metadata": {},
   "source": [
    "#### TODO: put this in the front-end\n",
    "#### Choosing between a Z-Score Threshold of 2 and 3 \n",
    "- Given that we dealing with failure data in the manufacturing process, the conseqences of missing a potential failure can be severe. \n",
    "- Therefore, consider the more sensitive approach of a threshold of 2.\n",
    "\n",
    "Pros: more sensitive to deteching smaller anomalies which might be early indicators of potential failures\n",
    "\n",
    "Cons: Higher number of false positives, meaning more frequent alerts and possibly unnecessary inspections or interventions\n",
    "\n",
    "Suggested approach (Post implementation):\n",
    "- Begin with a z-score of 2 i.e. beginning more conservative and increasing based on future data.\n",
    "- Monitor & Adjust: monitor the alerts and evaluate the relevance of outliers."
   ]
  },
  {
   "cell_type": "markdown",
   "metadata": {},
   "source": [
    "# Next Steps:\n",
    "- Begin with the conservative approach of `|z| > 2`. \n",
    "- Make a note here to come back and change z_scores if the model is leading to a loss of productivity for being too conservative.\n",
    "- ***Strategic EDA decision***: adjust |z| scores."
   ]
  },
  {
   "cell_type": "code",
   "execution_count": 50,
   "metadata": {},
   "outputs": [
    {
     "name": "stdout",
     "output_type": "stream",
     "text": [
      "length of original df: 10000\n",
      "length of filtered df: 9601\n",
      "The length of the filtered df matches the length of the original - outliers: True\n"
     ]
    }
   ],
   "source": [
    "# Remove Outliers using z score thresholds \n",
    "# Process temperature, Rotational speed, Torque\n",
    "\n",
    "# removing the outliers of the `Process temperature [K]`\n",
    "dt = DataTransform(failure_data_cleaned_unskewed)\n",
    "process_temp__outliers_via_z_score = dt.outliers_via_z_score_df('Process temperature [K]', z_threshold=2)\n",
    "filtered_df = dt.filter_outliers(outliers_df=process_temp__outliers_via_z_score, key_ID = 'UDI')\n",
    "\n",
    "print(f'The length of the filtered df matches the length of the original - outliers: {len(failure_data_cleaned_unskewed) - len(process_temp__outliers_via_z_score ) == len(filtered_df)}')\n",
    "\n",
    "# rename df \n",
    "failure_data_treating_outliers = filtered_df o"
   ]
  },
  {
   "cell_type": "code",
   "execution_count": null,
   "metadata": {},
   "outputs": [],
   "source": []
  },
  {
   "cell_type": "code",
   "execution_count": null,
   "metadata": {},
   "outputs": [],
   "source": []
  },
  {
   "cell_type": "markdown",
   "metadata": {},
   "source": [
    "#### Removing Outliers: Thought Process "
   ]
  },
  {
   "cell_type": "code",
   "execution_count": 83,
   "metadata": {},
   "outputs": [
    {
     "data": {
      "text/plain": [
       "['Air temperature [K]',\n",
       " 'Process temperature [K]',\n",
       " 'Rotational speed [rpm]',\n",
       " 'Torque [Nm]',\n",
       " 'Tool wear [min]']"
      ]
     },
     "execution_count": 83,
     "metadata": {},
     "output_type": "execute_result"
    }
   ],
   "source": [
    "info = DataFrameInfo(failure_data_cleaned_unskewed)\n",
    "info.continous_variables()\n",
    "\n",
    "continous_variables = [\n",
    "    'Air temperature [K]',\n",
    "    'Process temperature [K]',\n",
    "    'Rotational speed [rpm]',\n",
    "    'Torque [Nm]',\n",
    "    'Tool wear [min]']\n",
    "\n",
    " # Note the following variables were not included because they are either strings or unique keys, both have no statistical significance\n",
    "    #'UDI',\n",
    "    #'Product ID',\n",
    "    #'Type'\n",
    "\n",
    "continous_variables\n"
   ]
  },
  {
   "cell_type": "code",
   "execution_count": 82,
   "metadata": {},
   "outputs": [
    {
     "ename": "NameError",
     "evalue": "name 'continous_variables' is not defined",
     "output_type": "error",
     "traceback": [
      "\u001b[0;31m---------------------------------------------------------------------------\u001b[0m",
      "\u001b[0;31mNameError\u001b[0m                                 Traceback (most recent call last)",
      "Cell \u001b[0;32mIn[82], line 7\u001b[0m\n\u001b[1;32m      1\u001b[0m \u001b[38;5;66;03m# box plots of continous variables \u001b[39;00m\n\u001b[1;32m      2\u001b[0m \u001b[38;5;66;03m# plott = Plotter(failure_data_cleaned_unskewed)\u001b[39;00m\n\u001b[1;32m      3\u001b[0m \n\u001b[1;32m      4\u001b[0m \u001b[38;5;66;03m# for i in continous_variables:\u001b[39;00m\n\u001b[1;32m      5\u001b[0m \u001b[38;5;66;03m#     print(i)\u001b[39;00m\n\u001b[0;32m----> 7\u001b[0m \u001b[38;5;28mprint\u001b[39m(\u001b[43mcontinous_variables\u001b[49m)\n\u001b[1;32m      9\u001b[0m \u001b[38;5;28;01mfor\u001b[39;00m i \u001b[38;5;129;01min\u001b[39;00m continous_variables:\n\u001b[1;32m     10\u001b[0m     plt\u001b[38;5;241m.\u001b[39mfigure()\n",
      "\u001b[0;31mNameError\u001b[0m: name 'continous_variables' is not defined"
     ]
    }
   ],
   "source": [
    "# box plots of continous variables \n",
    "# plott = Plotter(failure_data_cleaned_unskewed)\n",
    "\n",
    "# for i in continous_variables:\n",
    "#     print(i)\n",
    "\n",
    "print(continous_variables)\n",
    "\n",
    "for i in continous_variables:\n",
    "    plt.figure()\n",
    "    sns.boxplot(failure_data_cleaned_unskewed[i])\n",
    "    plt.title(f'Boxplot of {i}')\n",
    "    plt.show()\n",
    "\n",
    "# Note: Boxplot is a much better visual representation, do z score analysis for 'Process temperature [K]', 'Rotational speed [rpm]', 'Torque [Nm]'"
   ]
  },
  {
   "cell_type": "markdown",
   "metadata": {},
   "source": [
    "- Boxplots for Air Temperature & Torque variables show no significant outliers. \n",
    "- Boxplots for 'Process temperature [K]', 'Rotational speed [rpm]', 'Torque [Nm]' do show outliers, proceed with z-score analysis to segment potential outliers "
   ]
  },
  {
   "cell_type": "markdown",
   "metadata": {},
   "source": [
    "## Z - Score analysis for `Process temperature [K]`, `Rotational speed [rpm]` and `Torque [Nm]`"
   ]
  },
  {
   "cell_type": "markdown",
   "metadata": {},
   "source": [
    "## Process Temperature"
   ]
  },
  {
   "cell_type": "code",
   "execution_count": 58,
   "metadata": {},
   "outputs": [
    {
     "name": "stderr",
     "output_type": "stream",
     "text": [
      "/var/folders/5k/scs93vzn4cg5yycybmzlxrk00000gn/T/ipykernel_20384/3455729718.py:14: SettingWithCopyWarning: \n",
      "A value is trying to be set on a copy of a slice from a DataFrame.\n",
      "Try using .loc[row_indexer,col_indexer] = value instead\n",
      "\n",
      "See the caveats in the documentation: https://pandas.pydata.org/pandas-docs/stable/user_guide/indexing.html#returning-a-view-versus-a-copy\n",
      "  udi_process_temp_df_z['z_scores'] = z_scores_process_temp\n"
     ]
    },
    {
     "name": "stdout",
     "output_type": "stream",
     "text": [
      "       UDI  Process temperature [K]  z_scores\n",
      "9990  9043                    308.4 -1.140249\n",
      "9991   138                    308.6 -0.998742\n",
      "9992  6650                    310.4  0.274821\n",
      "9993  1383                    310.1  0.062560\n",
      "9994  9314                    309.4 -0.432714\n",
      "9995  9018                    308.1 -1.352510\n",
      "9996  3339                    310.9  0.628588\n",
      "9997  5771                    311.2  0.840849\n",
      "9998  3056                    309.2 -0.574221\n",
      "9999  6026                    311.0  0.699342\n",
      "Axes(0.125,0.11;0.775x0.77)\n"
     ]
    },
    {
     "data": {
      "image/png": "[encoded data removed]",
      "text/plain": [
       "<Figure size 640x480 with 1 Axes>"
      ]
     },
     "metadata": {},
     "output_type": "display_data"
    }
   ],
   "source": [
    "# Statistcal Methods for outlier detection \n",
    "udi_process_temp_df = failure_data_cleaned_unskewed[['UDI','Process temperature [K]']]\n",
    "process_temp = udi_process_temp_df['Process temperature [K]']\n",
    "\n",
    "# process_temp.head()\n",
    "mean_process_temp = np.mean(process_temp)\n",
    "std_process_temp = np.std(process_temp)\n",
    "z_scores_process_temp = (process_temp - mean_process_temp) / std_process_temp\n",
    "\n",
    "# change the name of the dataframe \n",
    "udi_process_temp_df_z = udi_process_temp_df\n",
    "\n",
    "# Add the z-scores to the dataframe as a new column:\n",
    "udi_process_temp_df_z['z_scores'] = z_scores_process_temp\n",
    "\n",
    "print(udi_process_temp_df_z.tail(10))\n",
    "print(sns.boxplot(udi_process_temp_df_z['z_scores']))"
   ]
  },
  {
   "cell_type": "markdown",
   "metadata": {},
   "source": [
    "- There are outliers below -3 for the Z scores."
   ]
  },
  {
   "cell_type": "code",
   "execution_count": 59,
   "metadata": {},
   "outputs": [
    {
     "name": "stdout",
     "output_type": "stream",
     "text": [
      "Percentage of observations with outliers based on z-score threshold ±2: 3.99\n",
      "Percentage of observations with outliers based on z-score threshold ±3: 0.02\n"
     ]
    }
   ],
   "source": [
    "# Z-score Threshold \n",
    "threshold_2 = 2 \n",
    "threshold_3 = 3 \n",
    "\n",
    "z_scores = udi_process_temp_df_z['z_scores']\n",
    "\n",
    "outliers_2 = udi_process_temp_df_z[np.abs(z_scores) > threshold_2]\n",
    "outliers_3 = udi_process_temp_df_z[np.abs(z_scores) > threshold_3]\n",
    "\n",
    "percentage_outliers_thereshold_2 = round(len(outliers_2)/len(udi_process_temp_df_z) * 100, 2)\n",
    "percentage_outliers_thereshold_3 = round(len(outliers_3)/len(udi_process_temp_df_z) * 100, 2)\n",
    "\n",
    "\n",
    "# print(f\"Percentage of observations with outliers based on z-score threshold ±2: {round(len(outliers_2)/len(process_temp_df_z) * 100, 2)}\")\n",
    "# print(f\"Percentage of observations with outliers based on z-score threshold ±3: {round(len(outliers_3)/len(process_temp_df_z) * 100, 2)}\")\n",
    "\n",
    "print(f\"Percentage of observations with outliers based on z-score threshold ±2: {percentage_outliers_thereshold_2}\")\n",
    "print(f\"Percentage of observations with outliers based on z-score threshold ±3: {percentage_outliers_thereshold_3}\")\n",
    "#khurmi\n",
    "# TODO: convert this into a function and add to the relevant classes \n",
    "    # func for z-scores of a variable \n",
    "    # func z_score_info"
   ]
  },
  {
   "cell_type": "markdown",
   "metadata": {},
   "source": [
    "#### Choosing between a Z-Score Threshold of 2 and 3 \n",
    "- Given that we dealing with failure data in the manufacturing process, the conseqences of missing a potential failure can be severe. \n",
    "- Therefore, consider the more sensitive approach of a threshold of 2.\n",
    "\n",
    "Pros: more sensitive to deteching smaller anomalies which might be early indicators of potential failures\n",
    "\n",
    "Cons: Higher number of false positives, meaning more frequent alerts and possibly unnecessary inspections or interventions\n",
    "\n",
    "Suggested approach (Post implementation):\n",
    "- Begin with a z-score of 2 i.e. beginning more conservative and increasing based on future data.\n",
    "- Monitor & Adjust: monitor the alerts and evaluate the relevance of outliers."
   ]
  },
  {
   "cell_type": "markdown",
   "metadata": {},
   "source": [
    "#### Filtering "
   ]
  },
  {
   "cell_type": "code",
   "execution_count": 60,
   "metadata": {},
   "outputs": [
    {
     "name": "stdout",
     "output_type": "stream",
     "text": [
      "Number of rows of original df:\n",
      "10000\n",
      "\n",
      "\n",
      "Number of rows after filtering the Outliers of the Process Temperature:\n",
      "9601\n"
     ]
    }
   ],
   "source": [
    "#filter out the outliers of Process Temperature from our main data set\n",
    "outliers_2\n",
    "\n",
    "#failure_data_cleaned_unskewed['UDI'].head()\n",
    "\n",
    "mask = ~failure_data_cleaned_unskewed['UDI'].isin(outliers_2['UDI'])\n",
    "\n",
    "mask.sum()\n",
    "failure_data_cleaned_unskewed_no_outliers = failure_data_cleaned_unskewed[mask]\n",
    "\n",
    "\n",
    "print('Number of rows of original df:')\n",
    "print(len(failure_data_cleaned_unskewed))\n",
    "print('\\n')\n",
    "print('Number of rows after filtering the Outliers of the Process Temperature:')\n",
    "print(len(failure_data_cleaned_unskewed_no_outliers))"
   ]
  },
  {
   "cell_type": "code",
   "execution_count": 61,
   "metadata": {},
   "outputs": [
    {
     "data": {
      "image/png": "[encoded data removed]",
      "text/plain": [
       "<Figure size 1000x400 with 2 Axes>"
      ]
     },
     "metadata": {},
     "output_type": "display_data"
    }
   ],
   "source": [
    "# Create subplots\n",
    "fig, axes = plt.subplots(nrows=1, ncols=2, figsize=(10, 4))\n",
    "\n",
    "# First plot: With outliers\n",
    "sns.boxplot(data=failure_data_cleaned_unskewed, y='Process temperature [K]', ax=axes[0])\n",
    "axes[0].set_title('With Outliers')\n",
    "\n",
    "# Second plot: Without outliers\n",
    "sns.boxplot(data=failure_data_cleaned_unskewed_no_outliers, y='Process temperature [K]', ax=axes[1])\n",
    "axes[1].set_title('Without Outliers')\n",
    "\n",
    "# Display the plots\n",
    "plt.tight_layout()\n",
    "plt.show()"
   ]
  },
  {
   "cell_type": "code",
   "execution_count": null,
   "metadata": {},
   "outputs": [],
   "source": [
    "# TODO: make the joint boxpolots have the same scale "
   ]
  },
  {
   "cell_type": "markdown",
   "metadata": {},
   "source": [
    "### Updating classes with z_score and z_score_info functions"
   ]
  },
  {
   "cell_type": "code",
   "execution_count": 62,
   "metadata": {},
   "outputs": [],
   "source": [
    "# # adding a function that gives z score information to the DataInformation Class\n",
    "\n",
    "# def z_score_info(z_scores):\n",
    "#     # Z-score Threshold \n",
    "#     threshold_2 = 2 \n",
    "#     threshold_3 = 3\n",
    "#     # z_scores = udi_process_temp_df_z['z_scores']\n",
    "\n",
    "#     outliers_2 = (np.abs(z_scores) > threshold_2).sum() \n",
    "#     outliers_3 = (np.abs(z_scores) > threshold_3).sum()\n",
    "\n",
    "\n",
    "#     percentage_outliers_thereshold_2 = round(outliers_2/len(z_scores) * 100, 2)\n",
    "#     percentage_outliers_thereshold_3 = round(outliers_3/len(z_scores) * 100, 2)\n",
    "\n",
    "#     print(f\"Number of observations with outliers based on z-score threshold ±2: {outliers_2}\")\n",
    "#     print(f\"Percentage of observations with outliers based on z-score threshold ±2: {percentage_outliers_thereshold_2}\")\n",
    "#     print(\"\\n\")\n",
    "#     print(f\"Number of observations with outliers based on z-score threshold ±2: {outliers_3}\")\n",
    "#     print(f\"Percentage of observations with outliers based on z-score threshold ±3: {percentage_outliers_thereshold_3}\")\n",
    "\n",
    "# # testing "
   ]
  },
  {
   "cell_type": "markdown",
   "metadata": {},
   "source": [
    "## Rotational speed"
   ]
  },
  {
   "cell_type": "code",
   "execution_count": 63,
   "metadata": {},
   "outputs": [
    {
     "data": {
      "image/png": "[encoded data removed]",
      "text/plain": [
       "<Figure size 640x480 with 1 Axes>"
      ]
     },
     "metadata": {},
     "output_type": "display_data"
    },
    {
     "name": "stdout",
     "output_type": "stream",
     "text": [
      "Outliers in both upper and lower bounds of the data\n"
     ]
    }
   ],
   "source": [
    "# rename data set \n",
    "failure_data_cleaned_v2 = failure_data_cleaned_unskewed_no_outliers\n",
    "plott = Plotter(failure_data_cleaned_v2)\n",
    "plott.boxplot('Rotational speed [rpm]')\n",
    "\n",
    "print('Outliers in both upper and lower bounds of the data')\n"
   ]
  },
  {
   "cell_type": "code",
   "execution_count": null,
   "metadata": {},
   "outputs": [],
   "source": [
    "# z score analysis\n",
    "\n",
    "dt = DataTransform(failure_data_cleaned_v2)\n",
    "rotational_speed_z = dt.z_score('Rotational speed [rpm]')\n",
    "\n",
    "print('Number of NULL values in Rotational Speed z-scores')\n",
    "print(rotational_speed_z.isnull().sum()) # 446 null values \n",
    "\n",
    "# drop null values for the analysis \n",
    "rotational_speed_z_cleaned = rotational_speed_z.dropna()\n",
    "\n",
    "print('\\n')\n",
    "print('Number of NULL values in Rotational Speed z-scores after dropping NULL values')\n",
    "print(rotational_speed_z_cleaned.isnull().sum())\n",
    "\n",
    "sns.boxplot(rotational_speed_z_cleaned).set_title('Rotational speed Z-Scores ')\n"
   ]
  },
  {
   "cell_type": "code",
   "execution_count": null,
   "metadata": {},
   "outputs": [],
   "source": [
    "# Next steps:\n",
    "# Note here: could we consider removing only the upper boiund\n",
    "# drop rows based on the outliers for the rotational speed \n",
    "\n",
    "rotational_speed = failure_data_cleaned_v2[['UDI', 'Rotational speed [rpm]']]\n",
    "\n",
    "dt = DataTransform(rotational_speed)\n",
    "rotational_speed['z_scores'] = dt.z_score('Rotational speed [rpm]')\n",
    "rotational_speed\n",
    "\n",
    "print('Number of NULL values in Rotational Speed z-scores POST Skew Transoformation')\n",
    "print(rotational_speed['z_scores'].isnull().sum()) # 446 null, need to drop \n",
    "print('\\n')\n",
    "# Boxplot \n",
    "print(sns.boxplot(rotational_speed['z_scores']).set_title('Rotational speed Z-Scores '))\n",
    "\n",
    "# take a look at why there are NULL values when\n",
    "# deep dive into 1 use case \n",
    "rotational_speed[rotational_speed['z_scores'].isnull()].iloc[0]\n",
    "\n",
    "rotational_speed[rotational_speed['z_scores'].isnull()].iloc[0]['UDI'] # UDI 1272\n",
    "\n",
    "rotational_speed[rotational_speed['UDI'] == 1272] # Rotational speed has NaN values after the skewness transformation. \n",
    "\n",
    "\n",
    "# check orginal data frame \n",
    "rotational_speed_value_udi_1272 = failure_data_without_null.loc[failure_data_without_null['UDI'] == 1272, 'Rotational speed [rpm]'].values[0]\n",
    "\n",
    "print('UDI case `1271` BEFORE treating for skew:')\n",
    "print(rotational_speed_value_udi_1272)\n",
    "print('\\n')\n",
    "rotational_speed_value_udi_1272_after_skew = failure_data_cleaned_unskewed.loc[failure_data_cleaned_unskewed['UDI'] == 1272, 'Rotational speed [rpm]'].values[0]\n",
    "print('UDI case `1271` AFTER treating for skew:')\n",
    "print(rotational_speed_value_udi_1272_after_skew )"
   ]
  },
  {
   "cell_type": "markdown",
   "metadata": {},
   "source": [
    "### Dopping NULL values in the Rotational speed variable"
   ]
  },
  {
   "cell_type": "code",
   "execution_count": null,
   "metadata": {},
   "outputs": [],
   "source": [
    "# The transformation to treat skewness has produced NULL values\n",
    "# For simplicity I will drop the rows for these NULL values\n",
    "\n",
    "# Drop null values \n",
    "rotational_speed_clean = rotational_speed[rotational_speed['z_scores'].notnull()]\n",
    "\n",
    "# list of UDIs to keep\n",
    "udi_to_keep = rotational_speed_clean['UDI']\n",
    "\n",
    "# create a boolean mask to identify rows to keep \n",
    "mask = failure_data_cleaned_v2['UDI'].isin(udi_to_keep)\n",
    "#mask.value_counts()\n",
    "\n",
    "# filtered data frame \n",
    "failure_data_cleaned_v3 = failure_data_cleaned_v2[mask]"
   ]
  },
  {
   "cell_type": "code",
   "execution_count": null,
   "metadata": {},
   "outputs": [],
   "source": [
    "# testing the transformation\n",
    "print(f\"length before filtering: {len(failure_data_cleaned_v2)}\")\n",
    "print(f\"length after dropping NULL values in Rotational speed: {len(failure_data_cleaned_v3)}\")\n",
    "\n",
    "print('Number of missing values in Rotational speed:')\n",
    "print(failure_data_cleaned_v3['Rotational speed [rpm]'].isnull().sum())"
   ]
  },
  {
   "cell_type": "code",
   "execution_count": null,
   "metadata": {},
   "outputs": [],
   "source": [
    "# do the z-score analysis with the cleaned data set\n",
    "rotational_speed_v3 = failure_data_cleaned_v3[['UDI', 'Rotational speed [rpm]']]\n",
    "\n",
    "dt = DataTransform(rotational_speed_v3)\n",
    "rotational_speed_v3['z_scores'] = dt.z_score('Rotational speed [rpm]')\n",
    "\n",
    "# check that there are no null values \n",
    "rotational_speed_v3.isnull().sum()\n",
    "\n",
    "# sns.boxplot(rotational_speed_v3['z_scores']) \n",
    "\n",
    "\n",
    "# TODO: remove outliers based on a threshold of 3 \n",
    "\n",
    "# boolean of outliers \n",
    "rotational_speed_outliers_mask = np.abs(rotational_speed_v3['z_scores']) > 3\n",
    "rotational_speed_outliers = rotational_speed_v3[rotational_speed_outliers_mask]\n",
    "\n",
    "rotational_speed_outliers['UDI']"
   ]
  },
  {
   "cell_type": "code",
   "execution_count": null,
   "metadata": {},
   "outputs": [],
   "source": [
    "outliers_udis = rotational_speed_outliers['UDI'].tolist()\n",
    "\n",
    "failure_data_cleaned_v3\n",
    "mask = ~rotational_speed_v3 ['UDI'].isin(outliers_udis)"
   ]
  },
  {
   "cell_type": "code",
   "execution_count": null,
   "metadata": {},
   "outputs": [],
   "source": [
    "\n",
    "# Step 1: Extract the list of UDIs from the outliers DataFrame\n",
    "outliers_udis = rotational_speed_outliers['UDI'].tolist()\n",
    "\n",
    "# Step 2: Filter the original DataFrame to exclude the rows with these UDIs\n",
    "failure_data_cleaned_v3\n",
    "mask = ~rotational_speed_v3['UDI'].isin(outliers_udis) \n",
    "\n",
    "failure_data_cleaned_v4 = failure_data_cleaned_v3[mask]"
   ]
  },
  {
   "cell_type": "code",
   "execution_count": null,
   "metadata": {},
   "outputs": [],
   "source": [
    "failure_data_cleaned_v3['Rotational speed [rpm]'].isnull().sum()\n",
    "\n",
    "print(len(failure_data_cleaned_v3))\n",
    "len(failure_data_cleaned_v4)"
   ]
  },
  {
   "cell_type": "code",
   "execution_count": null,
   "metadata": {},
   "outputs": [],
   "source": [
    "# Create subplots with a smaller figure size\n",
    "fig, axes = plt.subplots(nrows=1, ncols=2, figsize=(12, 6))\n",
    "\n",
    "# Define the y-axis limits for both plots\n",
    "y_limits = (-5, 4)\n",
    "\n",
    "# First plot: No outliers\n",
    "sns.boxplot(data=failure_data_cleaned_v4, y='Rotational speed [rpm]', ax=axes[0])\n",
    "axes[0].set_title('Rotational speed [rpm] No Outliers')\n",
    "axes[0].set_ylim(y_limits)\n",
    "axes[0].axhline(y=3, color='r', linestyle='--', linewidth=1)\n",
    "axes[0].axhline(y=-3, color='r', linestyle='--', linewidth=1)\n",
    "\n",
    "# Second plot: With outliers\n",
    "sns.boxplot(data=failure_data_cleaned_v3, y='Rotational speed [rpm]', ax=axes[1])\n",
    "axes[1].set_title('Rotational speed [rpm] with Outliers')\n",
    "axes[1].set_ylim(y_limits)\n",
    "axes[1].axhline(y=3, color='r', linestyle='--', linewidth=1)\n",
    "axes[1].axhline(y=-3, color='r', linestyle='--', linewidth=1)\n",
    "\n",
    "# Adjust layout\n",
    "plt.tight_layout()\n",
    "plt.show()\n"
   ]
  },
  {
   "cell_type": "code",
   "execution_count": null,
   "metadata": {},
   "outputs": [],
   "source": [
    "# Create subplots with a smaller figure size\n",
    "fig, axes = plt.subplots(nrows=1, ncols=2, figsize=(12, 6))\n",
    "\n",
    "# Define the y-axis limits for both plots\n",
    "y_limits = (-5, 4)\n",
    "\n",
    "# First plot: No outliers\n",
    "sns.boxplot(data=rotational_speed_no_outliers, y='z_scores', ax=axes[0])\n",
    "axes[0].set_title('Rotational speed [rpm] No Outliers')\n",
    "axes[0].set_ylim(y_limits)\n",
    "axes[0].axhline(y=3, color='r', linestyle='--', linewidth=1)\n",
    "axes[0].axhline(y=-3, color='r', linestyle='--', linewidth=1)\n",
    "\n",
    "# Second plot: With outliers\n",
    "sns.boxplot(data=rotational_speed_v3, y='z_scores', ax=axes[1])\n",
    "axes[1].set_title('Rotational speed [rpm] with Outliers')\n",
    "axes[1].set_ylim(y_limits)\n",
    "axes[1].axhline(y=3, color='r', linestyle='--', linewidth=1)\n",
    "axes[1].axhline(y=-3, color='r', linestyle='--', linewidth=1)\n",
    "\n",
    "# Adjust layout\n",
    "plt.tight_layout()\n",
    "plt.show()\n"
   ]
  },
  {
   "cell_type": "code",
   "execution_count": null,
   "metadata": {},
   "outputs": [],
   "source": [
    "# make changes to data set i.e. the filtering etc.\n",
    "# first begin with reproducing the above plot using the failure_data df's, as using a subset for the plots will create issues later on, check this for the Air temperature variable too.\n",
    "\n",
    "# TODO: failure_data_cleaned_v4 has been deleted. Rename this\n",
    "failure_data_cleaned_v4['Rotational speed [rpm]'].isnull().sum()\n",
    "print(f\"length of data frame after dropping outliers for Rotational speed [rpm]: {len(failure_data_cleaned_v4)}\") # Expect 8863\n",
    "# Idea: look at the relationship of machine failures with the upperbounds of the continous variables."
   ]
  },
  {
   "cell_type": "markdown",
   "metadata": {},
   "source": [
    "## Treating Outliers in `Torque [Nm]` \n"
   ]
  },
  {
   "cell_type": "code",
   "execution_count": null,
   "metadata": {},
   "outputs": [],
   "source": [
    "plott = Plotter(failure_data_cleaned_v4)\n",
    "plott.boxplot('Torque [Nm]')"
   ]
  },
  {
   "cell_type": "markdown",
   "metadata": {},
   "source": [
    "- Outliers in both the upper and lower bound of the data "
   ]
  },
  {
   "cell_type": "code",
   "execution_count": null,
   "metadata": {},
   "outputs": [],
   "source": [
    "# z scores \n",
    "\n",
    "dt = DataTransform(failure_data_cleaned_v4)\n",
    "dt.z_score('Torque [Nm]').isnull().sum()\n",
    "# no null values \n",
    "\n",
    "failure_data_cleaned_v4['z_score_torque'] = dt.z_score('Torque [Nm]')\n",
    "\n",
    "plott = Plotter(failure_data_cleaned_v4)\n",
    "plott.boxplot('Torque [Nm]')\n",
    "plott.boxplot('z_score_torque')"
   ]
  },
  {
   "cell_type": "code",
   "execution_count": null,
   "metadata": {},
   "outputs": [],
   "source": [
    "# rather than z-score to identify outliers, use the quartile ranges. \n",
    "\n",
    "# Upper and lower quartiles \n",
    "Q1 = failure_data_cleaned_v4['Torque [Nm]'].quantile(0.25)\n",
    "Q3 = failure_data_cleaned_v4['Torque [Nm]'].quantile(.75)\n",
    "\n",
    "# \n",
    "IQR = Q3 - Q1 \n",
    "\n",
    "print(f\"Q1 (25th percentile): {Q1}\")\n",
    "print(f\"Q1 (75th percentile): {Q3}\")\n",
    "print(f\"IQR: {IQR}\")\n",
    "\n",
    "torque = failure_data_cleaned_v4['Torque [Nm]']\n",
    "\n",
    "# Identify outliers \n",
    "torque_outliers = failure_data_cleaned_v4[(torque < (Q1 - 1.5 * IQR)) | (torque > (Q3 + 1.5 * IQR))]\n",
    "\n",
    "print(f'Number of Outliers: {len(torque_outliers)}')\n",
    "print(\"\\n\")\n",
    "print('Outliers:')\n",
    "print(torque_outliers)\n",
    "\n",
    "# Remove outliers \n",
    "\n",
    "# create a boolean series \n",
    "\n",
    "# this didn't work as it only gives FALSE values, we also need TRUE values \n",
    "# mask_torque_outliers = ~torque_outliers['UDI'].isin(torque_outliers['UDI']) # creates a list of 'FALSE' for the torque outliers \n",
    "# mask_torque_outliers\n",
    "failure_data_cleaned_v4\n",
    "mask_torque_outliers = ~failure_data_cleaned_v4['UDI'].isin(torque_outliers['UDI']) # creates a list of 'FALSE' for the torque outliers \n",
    "# len(mask_torque_outliers)\n",
    "\n",
    "# Filtering the data set \n",
    "failure_data_cleaned_v5 = failure_data_cleaned_v4[mask_torque_outliers]\n",
    "print(f\"Length of dataframe: {len(failure_data_cleaned_v4)}\")\n",
    "print(f\"Length of dataframe: {len(failure_data_cleaned_v5)}\")\n",
    "\n"
   ]
  },
  {
   "cell_type": "code",
   "execution_count": null,
   "metadata": {},
   "outputs": [],
   "source": [
    "# create a function to get outliers via IQR df \n",
    "\n",
    "def outliers_df_via_IQR(df, column):\n",
    "\n",
    "    # Upper and lower quartiles \n",
    "    Q1 = df[column].quantile(0.25)\n",
    "    Q3 = df[column].quantile(.75)\n",
    "\n",
    "    # \n",
    "    IQR = Q3 - Q1 \n",
    "\n",
    "    print(f\"Q1 (25th percentile): {Q1}\")\n",
    "    print(f\"Q1 (75th percentile): {Q3}\")\n",
    "    print(f\"IQR: {IQR}\")\n",
    "\n",
    "    var = df[column]\n",
    "\n",
    "    # Identify outliers \n",
    "    outliers = df[(var < (Q1 - 1.5 * IQR)) | (var > (Q3 + 1.5 * IQR))]\n",
    "    return outliers\n",
    "\n",
    "# testing \n",
    "torque_test  = outliers_df_via_IQR(failure_data_cleaned_v4, 'Torque [Nm]')\n",
    "\n",
    "dt = DataTransform(failure_data_cleaned_v4)\n",
    "\n",
    "test_df = dt.filter_outliers(outliers_df=torque_test, key_ID='UDI')\n",
    "test_df"
   ]
  },
  {
   "cell_type": "code",
   "execution_count": null,
   "metadata": {},
   "outputs": [],
   "source": [
    "import matplotlib.pyplot as plt\n",
    "import seaborn as sns\n",
    "\n",
    "# Create subplots with a specified figure size\n",
    "fig, axes = plt.subplots(nrows=1, ncols=2, figsize=(12, 6))\n",
    "\n",
    "# Define the y-axis limits for both plots\n",
    "y_limits = (0, 80)\n",
    "\n",
    "# First plot\n",
    "sns.boxplot(data=failure_data_cleaned_v4, y='Torque [Nm]', ax=axes[0])\n",
    "axes[0].set_title('Torque with Outliers ')\n",
    "axes[0].set_ylim(y_limits)\n",
    "\n",
    "# Calculate min and max for the first dataset\n",
    "min_v4 = failure_data_cleaned_v4['Torque [Nm]'].min()\n",
    "max_v4 = failure_data_cleaned_v4['Torque [Nm]'].max()\n",
    "\n",
    "# Add horizontal dotted red lines for min and max\n",
    "axes[0].axhline(y=min_v4, color='r', linestyle='--', linewidth=1)\n",
    "axes[0].axhline(y=max_v4, color='r', linestyle='--', linewidth=1)\n",
    "\n",
    "# Second plot\n",
    "sns.boxplot(data=failure_data_cleaned_v5, y='Torque [Nm]', ax=axes[1])\n",
    "axes[1].set_title('Torque without Outliers')\n",
    "axes[1].set_ylim(y_limits)\n",
    "\n",
    "# Calculate min and max for the second dataset\n",
    "min_v5 = failure_data_cleaned_v5['Torque [Nm]'].min()\n",
    "max_v5 = failure_data_cleaned_v5['Torque [Nm]'].max()\n",
    "\n",
    "# Add horizontal dotted red lines for min and max\n",
    "axes[1].axhline(y=min_v5, color='r', linestyle='--', linewidth=1)\n",
    "axes[1].axhline(y=max_v5, color='r', linestyle='--', linewidth=1)\n",
    "\n",
    "# Adjust layout\n",
    "plt.tight_layout()\n",
    "plt.show()\n"
   ]
  },
  {
   "cell_type": "code",
   "execution_count": null,
   "metadata": {},
   "outputs": [],
   "source": [
    "# Null value checks \n",
    "\n",
    "info = DataFrameInfo(failure_data_cleaned_v5)\n",
    "info.percentage_of_null()\n",
    "\n",
    "# After Treating for skew & outliers there are no null values "
   ]
  },
  {
   "cell_type": "code",
   "execution_count": null,
   "metadata": {},
   "outputs": [],
   "source": [
    "# create a function to get outliers via IQR \n",
    "\n",
    "def get_outliers_via_IQR(df, column):\n",
    "    '''\n",
    "    returns a DataFrame of outliers based on the IQR of the input column (variable) as well as statistical information about the output DataFrame.\n",
    "    '''\n",
    "    \n",
    "    # Upper and lower quartiles \n",
    "    Q1 = df[column].quantile(0.25)\n",
    "    Q3 = df[column].quantile(.75)\n",
    "\n",
    "    # IQR\n",
    "    IQR = Q3 - Q1 \n",
    "\n",
    "    print(f\"Q1 (25th percentile): {Q1}\")\n",
    "    print(f\"Q1 (75th percentile): {Q3}\")\n",
    "    print(f\"IQR: {IQR}\")\n",
    "\n",
    "    var = failure_data_cleaned_v4['Torque [Nm]']\n",
    "\n",
    "    # Identify outliers \n",
    "    var = failure_data_cleaned_v4[(torque < (Q1 - 1.5 * IQR)) | (torque > (Q3 + 1.5 * IQR))]\n",
    "\n",
    "    print(f'Number of Outliers: {len(var)}')\n",
    "    print(\"\\n\")\n",
    "    # print('Outliers:')\n",
    "    # print(var[column])\n",
    "    return var \n",
    "\n",
    "# testing\n",
    "test = get_outliers_via_IQR(df = failure_data_cleaned_v4, column = 'Torque [Nm]')\n",
    "# type(test)\n",
    "test"
   ]
  },
  {
   "cell_type": "code",
   "execution_count": null,
   "metadata": {},
   "outputs": [],
   "source": [
    "# scratch \n",
    "\n",
    "#filter out the outliers of Process Temperature from our main data set\n",
    "outliers_2\n",
    "\n",
    "#failure_data_cleaned_unskewed['UDI'].head()\n",
    "\n",
    "mask = ~failure_data_cleaned_unskewed['UDI'].isin(outliers_2['UDI'])\n",
    "\n",
    "mask.sum()\n",
    "failure_data_cleaned_unskewed_no_outliers = failure_data_cleaned_unskewed[mask]"
   ]
  },
  {
   "cell_type": "code",
   "execution_count": null,
   "metadata": {},
   "outputs": [],
   "source": [
    "# define a function to get z_scores \n",
    "# manish \n",
    "\n",
    "# def get_outliers_via_z_score_df(df, column, key = 'UDI', z_threshold = [[2,3]]):\n",
    "    \n",
    "def get_outliers_via_z_score_df(df, column, key, z_threshold):\n",
    "    # ''''''\n",
    "    \n",
    "    # create z-scores \n",
    "    x = df[column] \n",
    "    mean= np.mean(x)\n",
    "    standard_deviation = np.std(x)\n",
    "    z_scores = (x - mean) / standard_deviation\n",
    "\n",
    "    # Outliers Boolean\n",
    "    outliers = np.abs(z_scores) > z_threshold\n",
    "    print(outliers)\n",
    "    # print(f\"Debugging key variable: {key}\")\n",
    "    # print('df:')\n",
    "    # print(df.head())\n",
    "    # test = df[key].head()\n",
    "    # print(test)\n",
    "\n",
    "    # filter dataset based on outliers \n",
    "    mask = ~df[key].isin(outliers[key])\n",
    "    outliers_via_z = df[mask]\n",
    "\n",
    "    print('Outliers df:')\n",
    "    print(outliers_via_z) \n",
    "\n",
    "    # info on output data\n",
    "    percentage_outliers_thereshold = round(outliers/len(z_scores) * 100, 2)\n",
    "\n",
    "    print(f\"Number of observations with outliers based on z-score threshold ±2: {len(outliers)}\")\n",
    "    print(f\"Percentage of observations with outliers based on z-score threshold ±2: {percentage_outliers_thereshold}\")\n",
    "\n",
    "get_outliers_via_z_score_df(df=failure_data_cleaned_unskewed, key='UDI', column='Torque [Nm]', z_threshold = 2)\n",
    "\n",
    "# might be better to create seperate functions \n"
   ]
  },
  {
   "cell_type": "code",
   "execution_count": null,
   "metadata": {},
   "outputs": [],
   "source": [
    "# define a function to get z_scores \n",
    "# manish \n",
    "\n",
    "# def get_outliers_via_z_score_df(df, column, key = 'UDI', z_threshold = [[2,3]]):\n",
    "    \n",
    "def get_outliers_via_z_score_df(df, column, key, z_threshold):\n",
    "\n",
    "    \n",
    "    # create z-scores \n",
    "    x = df[column] \n",
    "    mean= np.mean(x)\n",
    "    standard_deviation = np.std(x)\n",
    "    z_scores = (x - mean) / standard_deviation\n",
    "\n",
    "    # Outliers Boolean\n",
    "    outliers = np.abs(z_scores) > z_threshold\n",
    "    print(outliers)\n",
    "    # print(f\"Debugging key variable: {key}\")\n",
    "    # print('df:')\n",
    "    # print(df.head())\n",
    "    # test = df[key].head()\n",
    "    # print(test)\n",
    "\n",
    "    # filter dataset based on outliers \n",
    "    mask = ~df[key].isin(outliers[key])\n",
    "    outliers_via_z = df[mask]\n",
    "\n",
    "    print('Outliers df:')\n",
    "    print(outliers_via_z) \n",
    "\n",
    "    # info on output data\n",
    "    percentage_outliers_thereshold = round(outliers/len(z_scores) * 100, 2)\n",
    "\n",
    "    print(f\"Number of observations with outliers based on z-score threshold ±2: {len(outliers)}\")\n",
    "    print(f\"Percentage of observations with outliers based on z-score threshold ±2: {percentage_outliers_thereshold}\")\n",
    "\n",
    "get_outliers_via_z_score_df(df=failure_data_cleaned_unskewed, key='UDI', column='Torque [Nm]', z_threshold = 2)\n",
    "\n",
    "\n",
    "\n",
    "\n",
    "# might be better to create seperate functions \n"
   ]
  },
  {
   "cell_type": "code",
   "execution_count": null,
   "metadata": {},
   "outputs": [],
   "source": [
    "# running the bare code \n",
    "\n",
    "# inputs \n",
    "df = failure_data_cleaned_v4\n",
    "column = 'Torque [Nm]'\n",
    "z_threshold = 3\n",
    "# key = 'UDI'\n",
    "\n",
    "# create z-scores \n",
    "x = df[column] \n",
    "mean= np.mean(x)\n",
    "standard_deviation = np.std(x)\n",
    "z_scores = (x - mean) / standard_deviation\n",
    "\n",
    "# working up to here \n",
    "# sns.boxplot(z_scores)\n",
    "\n",
    "# calculate outliers \n",
    "outliers = np.abs(z_scores) > z_threshold\n",
    "outliers.value_counts() # 24 outliers \n",
    "\n",
    "# outliers df\n",
    "outliers_via_z = df[outliers]\n",
    "outliers_via_z\n",
    "####################################################################################################\n",
    "\n",
    "def outliers_via_z_score_df(df, column, z_threshold = [[2,3]]):\n",
    "\n",
    "    # create z scores\n",
    "    x = df[column] \n",
    "    mean= np.mean(x)\n",
    "    standard_deviation = np.std(x)\n",
    "    z_scores = (x - mean) / standard_deviation\n",
    "\n",
    "    # calculate outliers \n",
    "    outliers = np.abs(z_scores) > z_threshold\n",
    "    outliers.value_counts() # 24 outliers \n",
    "\n",
    "    # outliers df\n",
    "    outliers_via_z = df[outliers]\n",
    "    return outliers_via_z\n",
    "\n",
    "\n",
    "####################################################################################################\n",
    "# # seperate function for taking out outliers \n",
    "mask = ~failure_data_cleaned_v4['UDI'].isin(outliers_via_z['UDI']) # if the UDI's in the outliers df match those in the original df, bring back FALSE\n",
    "mask\n",
    "failure_data_cleaned_v4[mask]\n",
    "\n",
    "print(len(failure_data_cleaned_v4))\n",
    "print(len(failure_data_cleaned_v4[mask]))\n",
    "\n",
    "####################################################################################################\n",
    "\n",
    "def filter_outliers(df, outliers_df, key_ID):\n",
    "    mask = ~df[key_ID].isin(outliers_df[key_ID]) # if the UDI's in the outliers df match those in the original df, bring back FALSE\n",
    "    mask\n",
    "    return df[mask]\n",
    "\n",
    "    print(f'length of {df}: {len(df)}')\n",
    "    print(f'length of filtered {df}: {len(df[mask])}')\n",
    "\n",
    "# testing \n",
    "# mask = outliers_via_z['UDI'].isin(outliers_udis) \n",
    "# failure_data_cleaned_v4 = failure_data_cleaned_v3[mask]\n",
    "# filter out from original df \n",
    "\n"
   ]
  },
  {
   "cell_type": "code",
   "execution_count": null,
   "metadata": {},
   "outputs": [],
   "source": [
    "# testing \n",
    "def outliers_via_z_score_df(df, column, z_threshold = [[2,3]]):\n",
    "\n",
    "    # create z scores\n",
    "    x = df[column] \n",
    "    mean= np.mean(x)\n",
    "    standard_deviation = np.std(x)\n",
    "    z_scores = (x - mean) / standard_deviation\n",
    "\n",
    "    # calculate outliers \n",
    "    outliers = np.abs(z_scores) > z_threshold\n",
    "    outliers.value_counts() # 24 outliers \n",
    "\n",
    "    # outliers df\n",
    "    outliers_via_z = df[outliers]\n",
    "    return outliers_via_z\n",
    "\n",
    "test_outliers = outliers_via_z_score_df(df=failure_data_cleaned_v4, column='Torque [Nm]', z_threshold=3)\n",
    "test_outliers\n",
    "# success "
   ]
  },
  {
   "cell_type": "code",
   "execution_count": null,
   "metadata": {},
   "outputs": [],
   "source": [
    "# testing \n",
    "\n",
    "def filter_outliers(df, outliers_df, key_ID):\n",
    "    mask = ~df[key_ID].isin(outliers_df[key_ID]) # if the UDI's in the outliers df match those in the original df, bring back FALSE\n",
    "    mask\n",
    "    print(f'length of original df: {len(df)}')\n",
    "    print(f'length of filtered df: {len(df[mask])}')\n",
    "    return df[mask]\n",
    "\n",
    "test_df = filter_outliers(df=failure_data_cleaned_v4, outliers_df=test_outliers, key_ID = 'UDI')\n",
    "\n",
    "test_df\n",
    "# len(test_df)\n",
    "\n",
    "# success\n"
   ]
  },
  {
   "cell_type": "code",
   "execution_count": null,
   "metadata": {},
   "outputs": [],
   "source": [
    "# add the new functions to the DataTransform class\n",
    "\n",
    "class DataTransform:\n",
    "    def __init__(self, df):\n",
    "        self.df = df \n",
    "        \n",
    "    def outliers_via_z_score_df(self, column, z_threshold = [[2,3]]):\n",
    "\n",
    "        # create z scores\n",
    "        x = self.df[column] \n",
    "        mean= np.mean(x)\n",
    "        standard_deviation = np.std(x)\n",
    "        z_scores = (x - mean) / standard_deviation\n",
    "\n",
    "        # calculate outliers \n",
    "        outliers = np.abs(z_scores) > z_threshold\n",
    "        outliers.value_counts() # 24 outliers \n",
    "\n",
    "        # outliers df\n",
    "        outliers_via_z = self.df[outliers]\n",
    "        return outliers_via_z\n",
    "\n",
    "    def filter_outliers(self, outliers_df, key_ID):\n",
    "        mask = ~self.df[key_ID].isin(outliers_df[key_ID]) # if the UDI's in the outliers df match those in the original df, bring back FALSE\n",
    "        mask\n",
    "        print(f'length of original df: {len(self.df)}')\n",
    "        print(f'length of filtered df: {len(self.df[mask])}')\n",
    "        return self.df[mask]\n",
    "\n",
    "# testing \n",
    "\n",
    "dt = DataTransform(failure_data_cleaned_v4)\n",
    "torque_z_df = dt.outliers_via_z_score_df(column='Torque [Nm]', z_threshold=3)\n",
    "# success \n",
    "\n",
    "dt.filter_outliers(outliers_df=torque_z_df, key_ID='UDI')\n",
    "# success \n",
    "\n",
    "# manish\n",
    "\n",
    "\n"
   ]
  },
  {
   "cell_type": "markdown",
   "metadata": {},
   "source": [
    "# 5) Dropping overly correlated columns "
   ]
  },
  {
   "cell_type": "code",
   "execution_count": null,
   "metadata": {},
   "outputs": [],
   "source": [
    "# Example using the dependant variable and `Air Temperature `\n",
    "\n",
    "# Calculate the point-biserial correlation and p-value\n",
    "r_pb, p_value = pointbiserialr(failure_data_without_null['Machine failure'], failure_data_without_null['Air temperature [K]'])\n",
    "\n",
    "# Print the results with an explainable statement\n",
    "print(f\"The point-biserial correlation coefficient between 'Machine failure' and 'Air temperature [K]' is {round(r_pb, 3)} with a p-value of {round(p_value, 4)}.\")\n",
    "print(\"The null hypothesis is that there is no correlation between 'Machine failure' and 'Air temperature [K]' (r_pb = 0).\")\n",
    "\n",
    "# Interpretation of the p-value\n",
    "if p_value < 0.05:\n",
    "    print(\"Since the p-value is less than 0.05, we reject the null hypothesis and conclude that there is a significant correlation.\")\n",
    "else:\n",
    "    print(\"Since the p-value is greater than 0.05, we fail to reject the null hypothesis and conclude that there is no significant correlation.\")\n",
    "\n",
    "# Interpretation of the r_pb value\n",
    "if r_pb > 0:\n",
    "    direction = \"positive\"\n",
    "else:\n",
    "    direction = \"negative\"\n",
    "\n",
    "strength = \"\"\n",
    "abs_r_pb = abs(r_pb)\n",
    "if abs_r_pb < 0.1:\n",
    "    strength = \"negligible\"\n",
    "elif abs_r_pb < 0.3:\n",
    "    strength = \"weak\"\n",
    "elif abs_r_pb < 0.5:\n",
    "    strength = \"moderate\"\n",
    "else:\n",
    "    strength = \"strong\"\n",
    "\n",
    "print(f\"The correlation is {direction} and the strength of the correlation is {strength}.\")"
   ]
  },
  {
   "cell_type": "markdown",
   "metadata": {},
   "source": [
    "- In the context of time we will continue without this and give more attention to the collinearity section"
   ]
  },
  {
   "cell_type": "code",
   "execution_count": null,
   "metadata": {},
   "outputs": [],
   "source": [
    "import pandas as pd\n",
    "import numpy as np\n",
    "from scipy.stats import pointbiserialr, pearsonr\n",
    "import seaborn as sns\n",
    "import matplotlib.pyplot as plt\n",
    "\n",
    "# Identify binary and continuous variables\n",
    "binary_vars = [col for col in failure_data_without_null.columns if failure_data_without_null[col].nunique() == 2]\n",
    "continuous_vars = [col for col in failure_data_without_null.columns if failure_data_without_null[col].dtype in ['int64', 'float64'] and failure_data_without_null[col].nunique() > 2]\n",
    "\n",
    "# Initialize the correlation matrix\n",
    "corr_matrix = pd.DataFrame(np.zeros((len(failure_data_without_null.columns), len(failure_data_without_null.columns))), index=failure_data_without_null.columns, columns=failure_data_without_null.columns)\n",
    "\n",
    "# Compute correlations\n",
    "for var1 in failure_data_without_null.columns:\n",
    "    for var2 in failure_data_without_null.columns:\n",
    "        if var1 == var2:\n",
    "            corr_matrix.loc[var1, var2] = 1.0  # Correlation with itself is 1\n",
    "        elif var1 in binary_vars and var2 in continuous_vars:\n",
    "            r_pb, _ = pointbiserialr(failure_data_without_null[var1], failure_data_without_null[var2])\n",
    "            corr_matrix.loc[var1, var2] = r_pb\n",
    "            corr_matrix.loc[var2, var1] = r_pb\n",
    "        elif var1 in continuous_vars and var2 in continuous_vars:\n",
    "            r_pearson, _ = pearsonr(failure_data_without_null[var1], failure_data_without_null[var2])\n",
    "            corr_matrix.loc[var1, var2] = r_pearson\n",
    "            corr_matrix.loc[var2, var1] = r_pearson\n",
    "\n",
    "# Plot the heatmap with annotations rounded to 2 decimal places\n",
    "plt.figure(figsize=(12, 10))\n",
    "sns.heatmap(corr_matrix, annot=True, fmt=\".2f\", cmap='coolwarm', vmin=-1, vmax=1)\n",
    "plt.title('Correlation Heatmap')\n",
    "plt.show()\n"
   ]
  },
  {
   "cell_type": "markdown",
   "metadata": {},
   "source": [
    "The above Heat map is using the failure_data before any statistical transformation, only NULL values have been taken out.\n",
    "Addionally the correlation caluclation uses Pearson for continous vs continous variables & PointBiserial for binary vs continous variables \n",
    "\n",
    "Analysis:\n",
    "- Air temperature & Process temperature have a strong positive correlation \n",
    "- Rotational speed & Torque have a strong negative correlation\n",
    "\n",
    "Proceed to look at the data after transformation: failure_data_cleaned_v6"
   ]
  },
  {
   "cell_type": "code",
   "execution_count": null,
   "metadata": {},
   "outputs": [],
   "source": [
    "# look at only continous variables \n",
    "# failure_data_cleaned_v6.drop('z_score_torque', inplace=True, axis =1)\n",
    "# Correlation \n",
    "corr = failure_data_cleaned_v5[continous_variables].corr()\n",
    "\n",
    "# Generate a mask for the upper triangle\n",
    "mask = np.zeros_like(corr, dtype=np.bool_)\n",
    "mask[np.triu_indices_from(mask)] = True\n",
    "\n",
    "# set thins up for plotting\n",
    "cmap = sns.diverging_palette(220, 10, as_cmap=True)\n",
    "\n",
    "# Draw the heatmap\n",
    "sns.heatmap(corr, square=True, linewidths=.5, annot=False, cmap=cmap)\n",
    "\n",
    "plt.yticks(rotation=0)\n",
    "plt.title('Correlation Matrix of all Numerical Variables')\n",
    "plt.show()"
   ]
  },
  {
   "cell_type": "markdown",
   "metadata": {},
   "source": [
    "- no indications of collinearity \n",
    "- binary vars have been dropped here "
   ]
  },
  {
   "cell_type": "code",
   "execution_count": null,
   "metadata": {},
   "outputs": [],
   "source": [
    "# only numeric variables for correlation map\n",
    "# # drop string variables \n",
    "failure_data_cleaned_v6 = failure_data_cleaned_v5.drop('Type', axis = 1)\n",
    "\n",
    "failure_data_cleaned_v6.columns "
   ]
  },
  {
   "cell_type": "code",
   "execution_count": null,
   "metadata": {},
   "outputs": [],
   "source": [
    "# Do a correlation map of the continous variables \n",
    "\n",
    "# continous_variables = ['Machine failure', 'Air temperature [K]', 'Process temperature [K]', 'Rotational speed [rpm]', 'Torque [Nm]', 'Tool wear [min]']\n",
    "\n",
    "# corr = failure_data_cleaned_v6[continous_variables].corr()\n",
    "\n",
    "\n",
    "corr_post_transformations = failure_data_cleaned_v6.corr()\n",
    "\n",
    "# set thins up for plotting\n",
    "cmap = sns.diverging_palette(220, 10, as_cmap=True)\n",
    "\n",
    "# cover upper triangle \n",
    "\n",
    "# Draw the heatmap\n",
    "sns.heatmap(corr_post_transformations, square=True, linewidths=.5, annot=False, cmap=cmap)\n",
    "\n",
    "plt.yticks(rotation=0)\n",
    "plt.title('Correlation Matrix of all Numerical Variables')\n",
    "plt.show()\n",
    "\n",
    "# sns.heatmap(corr)"
   ]
  },
  {
   "cell_type": "markdown",
   "metadata": {},
   "source": [
    "- The dependant variable `Machine failure` is binary, therefore the above Pearsons's correlation approach is only appropriate for two continous variables. \n",
    "- Use Point-biserial correlation coefficient (PBC) instead. This is specifically designed for the case where the dependant variable is binary."
   ]
  },
  {
   "cell_type": "code",
   "execution_count": null,
   "metadata": {},
   "outputs": [],
   "source": [
    "corr_post_transformations_v2 = corr_post_transformations.drop('UDI', axis = 1)\n",
    "corr_post_transformations_v2\n",
    "\n",
    "mask = np.abs(corr_post_transformations_v2) > 0.7\n",
    "mask = corr_post_transformations[mask].notnull()\n",
    "endo = corr_post_transformations_v2[mask]\n",
    "sns.heatmap(endo, annot=True)"
   ]
  },
  {
   "cell_type": "markdown",
   "metadata": {},
   "source": [
    "- possible collinearity between 'L' & 'M'"
   ]
  },
  {
   "cell_type": "markdown",
   "metadata": {},
   "source": [
    "#### testing for Collinerity "
   ]
  },
  {
   "cell_type": "code",
   "execution_count": null,
   "metadata": {},
   "outputs": [],
   "source": [
    "continous_variables"
   ]
  },
  {
   "cell_type": "code",
   "execution_count": null,
   "metadata": {},
   "outputs": [],
   "source": [
    "# come back to the correlation map\n",
    "\n",
    "# continue with collinearity.\n",
    "# \n",
    "\n",
    "failure_data_cleaned_v7 = failure_data_cleaned_v6.drop('UDI', axis=1 ) \n",
    "failure_data_cleaned_v7.columns"
   ]
  },
  {
   "cell_type": "code",
   "execution_count": null,
   "metadata": {},
   "outputs": [],
   "source": [
    "# Possible collinearity between 'L' & 'M'\n",
    "\n",
    "import statsmodels.api as sm\n",
    "# import statsmodels.formula.api as smf\n",
    "\n",
    "## Fit a linear regression\n",
    "\n",
    "\n",
    "Y = failure_data_cleaned_v7['Machine failure']\n",
    "# X = failure_data_cleaned_v7[['L', 'M']]\n",
    "\n",
    "X = failure_data_cleaned_v7[['Air temperature [K]', 'Process temperature [K]',\n",
    "       'Rotational speed [rpm]', 'Torque [Nm]', 'Tool wear [min]',\n",
    "       'TWF', 'HDF', 'PWF', 'OSF', 'RNF', 'H', 'L', 'M']]\n",
    "\n",
    "model = sm.OLS(Y,X).fit()\n",
    "model.summary()\n",
    "\n"
   ]
  },
  {
   "cell_type": "code",
   "execution_count": null,
   "metadata": {},
   "outputs": [],
   "source": [
    "# Variables with high p-values\n",
    "# get the summary table as a df \n",
    "summary_df = model.summary2().tables[1]\n",
    "summary_df\n",
    "\n",
    "variables_with_high_p_value = summary_df[summary_df['P>|t|'] > 0.05]\n",
    "\n",
    "print(variables_with_high_p_value['P>|t|'])\n",
    "\n",
    "\n",
    "# continue with VIFF "
   ]
  },
  {
   "cell_type": "code",
   "execution_count": null,
   "metadata": {},
   "outputs": [],
   "source": [
    "import statsmodels.formula.api as smf\n",
    "\n",
    "# Rename the column\n",
    "failure_data_cleaned_v7 = failure_data_cleaned_v7.rename(columns={'Machine failure': 'Machine_failure'})\n",
    "\n",
    "# Fit the model with the renamed column\n",
    "model1 = smf.ols(\"Machine_failure ~ L + M\", data=failure_data_cleaned_v7).fit()\n",
    "\n",
    "# Display the summary of the model\n",
    "print(model1.summary())\n",
    "\n",
    "# Optionally, rename the column back to its original name\n",
    "# failure_data_cleaned_v7 = failure_data_cleaned_v7.rename(columns={'Machine_failure': 'Machine failure'})"
   ]
  },
  {
   "cell_type": "markdown",
   "metadata": {},
   "source": [
    "### start again and use the smf package "
   ]
  },
  {
   "cell_type": "code",
   "execution_count": null,
   "metadata": {},
   "outputs": [],
   "source": [
    "failure_data_cleaned_v7.columns\n",
    "failure_data_cleaned_v7.head()"
   ]
  },
  {
   "cell_type": "code",
   "execution_count": null,
   "metadata": {},
   "outputs": [],
   "source": [
    "# rename all columns \n",
    "\n",
    "failure_data_cleaned_v7 = failure_data_cleaned_v7.rename(columns={\n",
    "    'Machine_failure': 'machine_failure',\n",
    "    'Air temperature [K]': 'air_temp_normalised', \n",
    "    'Process temperature [K]':'process_temp',\n",
    "    'Rotational speed [rpm]':'rotational_speed_normalised',\n",
    "    'Torque [Nm]': 'torque', \n",
    "    'Tool wear [min]': 'tool_wear'\n",
    "    \n",
    "    })\n",
    "failure_data_cleaned_v7.columns\n",
    "# create a regression model using all explanatory variables \n",
    "\n",
    "failure_data_cleaned_v7.drop('z_score_torque', axis=1, inplace=True)"
   ]
  },
  {
   "cell_type": "code",
   "execution_count": null,
   "metadata": {},
   "outputs": [],
   "source": [
    "import statsmodels.formula.api as smf\n",
    "\n",
    "# Fit the model with the renamed column\n",
    "model0 = smf.ols(\"machine_failure ~ air_temp_normalised + process_temp + rotational_speed_normalised + torque + tool_wear + TWF + HDF + PWF + OSF +RNF + L + M + H\", data=failure_data_cleaned_v7).fit()\n",
    "\n",
    "# Display the summary of the model\n",
    "print(model0.summary())"
   ]
  },
  {
   "cell_type": "code",
   "execution_count": null,
   "metadata": {},
   "outputs": [],
   "source": [
    "# Get summary table as a df \n",
    "summary_df = model0.summary2().tables[1]\n",
    "\n",
    "# Filter variables with p-value > 0.05\n",
    "variables_with_high_p_value = summary_df[summary_df['P>|t|'] > 0.05]\n",
    "\n",
    "print(variables_with_high_p_value['P>|t|'])"
   ]
  },
  {
   "cell_type": "code",
   "execution_count": null,
   "metadata": {},
   "outputs": [],
   "source": [
    "# create models for each variable with a high p - value \n",
    "\n",
    "exog_air_temp_normalised = smf.ols(\"air_temp_normalised ~ machine_failure + process_temp + rotational_speed_normalised + torque + tool_wear + TWF + HDF + PWF + OSF +RNF + L + M + H\", failure_data_cleaned_v7).fit()\n",
    "exog_process_temp = smf.ols(\"process_temp ~ machine_failure + air_temp_normalised + rotational_speed_normalised + torque + tool_wear + TWF + HDF + PWF + OSF +RNF + L + M + H\", failure_data_cleaned_v7).fit()\n",
    "exog_rotational_speed_normalised = smf.ols(\"rotational_speed_normalised ~ machine_failure + process_temp + air_temp_normalised + torque + tool_wear + TWF + HDF + PWF + OSF +RNF + L + M + H\", failure_data_cleaned_v7).fit()\n",
    "exog_torque = smf.ols(\"torque ~ machine_failure + process_temp + air_temp_normalised + rotational_speed_normalised + tool_wear + TWF + HDF + PWF + OSF +RNF + L + M + H\", failure_data_cleaned_v7).fit()\n",
    "exog_tool_wear = smf.ols(\"tool_wear ~ machine_failure + process_temp + air_temp_normalised + rotational_speed_normalised + torque + TWF + HDF + PWF + OSF +RNF + L + M + H\", failure_data_cleaned_v7).fit()\n",
    "exog_RNF = smf.ols(\"RNF  ~ machine_failure + process_temp + air_temp_normalised + rotational_speed_normalised + torque + TWF + HDF + PWF + OSF + tool_wear + L + M + H\", failure_data_cleaned_v7).fit()\n",
    "exog_L = smf.ols(\"L  ~ machine_failure + process_temp + air_temp_normalised + rotational_speed_normalised + torque + TWF + HDF + PWF + OSF + tool_wear + RNF + M + H\", failure_data_cleaned_v7).fit()\n",
    "exog_M = smf.ols(\"M  ~ machine_failure + process_temp + air_temp_normalised + rotational_speed_normalised + torque + TWF + HDF + PWF + OSF + tool_wear + RNF + L + H\", failure_data_cleaned_v7).fit()\n",
    "exog_H = smf.ols(\"H  ~ machine_failure + process_temp + air_temp_normalised + rotational_speed_normalised + torque + TWF + HDF + PWF + OSF + tool_wear + RNF + M + L\", failure_data_cleaned_v7).fit()\n",
    "\n",
    "all_r_squared =[exog_air_temp_normalised.rsquared, \n",
    "                exog_process_temp.rsquared, \n",
    "                exog_rotational_speed_normalised.rsquared, \n",
    "                exog_torque.rsquared, \n",
    "                exog_tool_wear.rsquared, \n",
    "                exog_RNF.rsquared, \n",
    "                exog_L.rsquared, \n",
    "                exog_M.rsquared, \n",
    "                exog_H.rsquared\n",
    "                ]\n",
    "\n",
    "all_exog_var_names = ['air_temp_normalised', \n",
    "                'process_temp', \n",
    "                'rotational_speed_normalised', \n",
    "                'torque', \n",
    "                'tool_wear', \n",
    "                'RNF', \n",
    "                'L', \n",
    "                'M', \n",
    "                'H'\n",
    "                ]\n",
    "\n",
    "exog_info = pd.DataFrame({\n",
    "    'Variable': all_exog_var_names,\n",
    "    'R_squared': all_r_squared\n",
    "})\n",
    "exog_info\n"
   ]
  },
  {
   "cell_type": "code",
   "execution_count": null,
   "metadata": {},
   "outputs": [],
   "source": [
    "def VIF(r2):\n",
    "    return 1/(1-r2)\n",
    "\n",
    "exog_info['VIF'] = exog_info['R_squared'].apply(VIF)\n",
    "exog_info"
   ]
  },
  {
   "cell_type": "code",
   "execution_count": null,
   "metadata": {},
   "outputs": [],
   "source": [
    "failure_data_cleaned_v7.head()"
   ]
  },
  {
   "cell_type": "code",
   "execution_count": null,
   "metadata": {},
   "outputs": [],
   "source": [
    "# filter for VIFS greater than 10 \n",
    "\n",
    "exog_info[exog_info['VIF'] > 10]"
   ]
  },
  {
   "cell_type": "markdown",
   "metadata": {},
   "source": [
    "Some thought after discussing with Jared:\n",
    "- encode the categorical columns and plot the correlation matrix \n",
    "- Chi-squared \n",
    "\n",
    "in our dataset we have the following types of data:\n",
    "- continous data \n",
    "- binary categorical data \n",
    "\n",
    "when looking at correlation do the following\n",
    "- Continous vs Continous: Pearson correlation\n",
    "- Binary vs Binary: Pearson correlation \n",
    "    - This becomes the `Phi coefficient` calculated via the Pearson correlation calculation \n",
    "    - Chi squared test: if there is significant association between two categoric variables\n",
    "- Continous vs Binary: Point Biserial correlation test \n",
    "\n",
    "Next steps:\n",
    "- chi-squared test of the binary vs binary varibles \n",
    "- log model & vifs"
   ]
  },
  {
   "cell_type": "code",
   "execution_count": null,
   "metadata": {},
   "outputs": [],
   "source": [
    "# VIF \n",
    "\n",
    "def VIF(r2):\n",
    "    return 1/(1-r2)\n",
    "\n",
    "# VIF scored for each model \n",
    "\n",
    "vif_air = VIF(exog_air_temp_normalised.rsquared)\n",
    "vif_process_temp = VIF(exog_process_temp.rsquared)\n",
    "vif_rotation = VIF(exog_rotational_speed_normalised.rsquared)\n",
    "vif_torque = VIF(exog_torque.rsquared) \n",
    "vif_tool_wear = VIF(exog_tool_wear.rsquared) \n",
    "vif_RNF = VIF(exog_RNF.rsquared) \n",
    "vif_L = VIF(exog_L.rsquared) \n",
    "vif_M = VIF(exog_M.rsquared)\n",
    "vif_H = VIF(exog_H.rsquared)\n",
    "\n",
    "all_exog_VIFs = []\n",
    "vif_process_temp \n",
    "vif_rotation \n",
    "vif_torque \n",
    "vif_tool_wear \n",
    "vif_RNF \n",
    "vif_L \n",
    "vif_M \n",
    "vif_H "
   ]
  },
  {
   "cell_type": "markdown",
   "metadata": {},
   "source": [
    "### Strategy:\n",
    "- encode the categorical cols and plot the correlation matrix.\n",
    "- test categorical vs categorical cols for collinearity using chi-squared test. The P-value will determine whether there is a relationship and the chi squared value will determine the degree of collinearity.\n",
    "- Logistic model for Binar vs Continous variables"
   ]
  },
  {
   "cell_type": "code",
   "execution_count": null,
   "metadata": {},
   "outputs": [],
   "source": [
    "# Correlation Heatmap filtered for only those variables with high correlation \n",
    "\n",
    "corr = failure_data_cleaned_v7.corr()\n",
    "mask = np.abs(corr) > 0.7 \n",
    "corr[mask]\n",
    "sns.heatmap(corr[mask], annot=True)"
   ]
  },
  {
   "cell_type": "markdown",
   "metadata": {},
   "source": [
    "- L & M are highly correlated.\n",
    "- Proceed with Chi-Squared tests between categoric variables"
   ]
  },
  {
   "cell_type": "code",
   "execution_count": null,
   "metadata": {},
   "outputs": [],
   "source": [
    "# List of our categoric variables\n",
    "failure_data_cleaned_v7.columns\n",
    "categoric_variables_col_names = ['machine_failure','TWF', 'HDF', 'PWF', 'OSF','RNF', 'H', 'L', 'M' ]\n",
    "categoric_variables_col_names\n",
    "\n",
    "# Filter for only categoric varibles \n",
    "categoric_vars = failure_data_cleaned_v7[categoric_variables_col_names]\n",
    "categoric_vars"
   ]
  },
  {
   "cell_type": "code",
   "execution_count": null,
   "metadata": {},
   "outputs": [],
   "source": [
    "# Idea \n",
    "    # chi squared tests for categoric vs categoric vars\n",
    "    # create contingency tables\n",
    "    # perform chi-squared tests\n",
    "    # interpret results \n",
    "\n",
    "# list of independant binary categorical variables \n",
    "from scipy.stats import chi2_contingency \n",
    "\n",
    "independant_vars = categoric_vars.drop('machine_failure', axis=1).columns\n",
    "independant_vars\n",
    "\n",
    "# perfrom chi-squared tests \n",
    "results = {}\n",
    "\n",
    "for var in independant_vars:\n",
    "    contingency_table = pd.crosstab(categoric_vars['machine_failure'], categoric_vars[var])\n",
    "    chi2, p, _, _  = chi2_contingency(contingency_table)\n",
    "    results[var] = {'chi2': chi2, 'p-value':p}\n",
    "\n",
    "# display the results \n",
    "results_df = pd.DataFrame(results).T\n",
    "round(results_df, 2)"
   ]
  },
  {
   "cell_type": "markdown",
   "metadata": {},
   "source": [
    "- `RNF` has a p-value of 1, suggesting strong evidence that this variable has no relationship with the dependant variable `machine_failure`. Consider dropping this varible.\n",
    "- `RNF` represents randon failures. This varibale may have important information that is unseen in other variables. We will not drop this variable due it's relevence in the context of machine failures.\n",
    "- `H` also has a p-value higher than 0.05 suggestion that it weakly supports the null hypothesis that `H` has no meaningful relationship with `machine_failure`. Not strong enough to completely reject `H`, on statistical evidence alone.\n",
    "- All other categorical independent variables had p-values less that 0.05, rejecting the null hypothesis.\n"
   ]
  },
  {
   "cell_type": "code",
   "execution_count": null,
   "metadata": {},
   "outputs": [],
   "source": [
    "### TODO: include the mathematical notation of the chi-squared test used, H0 & examples in the context of machine_failure."
   ]
  },
  {
   "cell_type": "code",
   "execution_count": null,
   "metadata": {},
   "outputs": [],
   "source": [
    "failure_data_cleaned_v7.head(3)"
   ]
  },
  {
   "cell_type": "code",
   "execution_count": null,
   "metadata": {},
   "outputs": [],
   "source": [
    "# check there are null values \n",
    "failure_data_cleaned_v7[['air_temp_normalised', 'process_temp', 'rotational_speed_normalised', 'torque', 'tool_wear', 'machine_failure']].isnull().sum()"
   ]
  },
  {
   "cell_type": "code",
   "execution_count": null,
   "metadata": {},
   "outputs": [],
   "source": [
    "# procced with logistic model, to look at correlation in binary vs continous vars\n",
    "# Fit a logistic model \n",
    "\n",
    "import statsmodels.api as sm \n",
    "\n",
    "# Define independant vars and add constant\n",
    "X = failure_data_cleaned_v7[['air_temp_normalised', 'process_temp', 'rotational_speed_normalised', 'torque', 'tool_wear']]\n",
    "X = sm.add_constant(X)\n",
    "\n",
    "# Define the dependant variable\n",
    "y = failure_data_cleaned_v7['machine_failure']\n",
    "\n",
    "# Fit the logistic regression model\n",
    "model = sm.Logit(y, X).fit()\n",
    "\n",
    "print(model.summary())\n"
   ]
  },
  {
   "cell_type": "code",
   "execution_count": null,
   "metadata": {},
   "outputs": [],
   "source": [
    "# Try again, dropping normalised values \n",
    "\n",
    "# procced with logistic model, to look at correlation in binary vs continous vars\n",
    "# Fit a logistic model \n",
    "\n",
    "import statsmodels.api as sm \n",
    "\n",
    "# Define independant vars and add constant\n",
    "X = failure_data_cleaned_v7[['process_temp', 'torque', 'tool_wear']]\n",
    "X = sm.add_constant(X)\n",
    "\n",
    "# Define the dependant variable\n",
    "y = failure_data_cleaned_v7['machine_failure']\n",
    "\n",
    "# Fit the logistic regression model\n",
    "model = sm.Logit(y, X).fit()\n",
    "\n",
    "print(model.summary())"
   ]
  },
  {
   "cell_type": "markdown",
   "metadata": {},
   "source": [
    "- P values of `process_temp`, `torque` and `tool_wear` are close to 0, rejecting the null hypothesis in support of the alternative hypothesis the data is statistically related to the dependant variable. Therefore changes in these variables are associated with changes with the liklihood of `machine_failure` occuring."
   ]
  },
  {
   "cell_type": "code",
   "execution_count": null,
   "metadata": {},
   "outputs": [],
   "source": [
    "# calculate VIFS of the continous variables \n",
    "    # create a log model for each of the independant vars vs other vars \n",
    "    # use the r2 from the models in the VIF calc\n",
    "\n",
    "import statsmodels.api as sm \n",
    "\n",
    "# # Define independant vars and add constant\n",
    "# X = failure_data_cleaned_v7[['process_temp', 'torque', 'tool_wear']]\n",
    "# X = sm.add_constant(X)\n",
    "\n",
    "# # Define the dependant variable\n",
    "# y = failure_data_cleaned_v7['machine_failure']\n",
    "\n",
    "# # Fit the logistic regression model\n",
    "# model = sm.Logit(y, X).fit()\n",
    "# print(model.summary())\n",
    "\n",
    "# process_temp log model \n",
    "X = failure_data_cleaned_v7[['machine_failure', 'torque', 'tool_wear']]\n",
    "X = sm.add_constant(X)\n",
    "y = failure_data_cleaned_v7['process_temp']\n",
    "log_model_process_temp = sm.Logit(y, X).fit()\n",
    "print(log_model_process_temp.summary())"
   ]
  },
  {
   "cell_type": "code",
   "execution_count": null,
   "metadata": {},
   "outputs": [],
   "source": [
    "def log_model(df, X, y):\n",
    "    # X = failure_data_cleaned_v7[['machine_failure', 'torque', 'tool_wear']]\n",
    "    X = df[X]\n",
    "    y = df[y]\n",
    "    X = sm.add_constant(X)\n",
    "    log_model = sm.Logit(y, X).fit()\n",
    "    return log_model\n",
    "    print(log_model.summary())\n",
    "\n",
    "# log_model(df= failure_data_cleaned_v7, X = ['machine_failure', 'torque', 'tool_wear'], y = 'process_temp')\n",
    "# requires the dependent variable to be binary (0,1)"
   ]
  },
  {
   "cell_type": "code",
   "execution_count": null,
   "metadata": {},
   "outputs": [],
   "source": [
    "import statsmodels.formula.api as smf\n",
    "\n",
    "# # Rename the column\n",
    "# failure_data_cleaned_v7 = failure_data_cleaned_v7.rename(columns={'Machine failure': 'Machine_failure'})\n",
    "\n",
    "# # Fit the model with the renamed column\n",
    "# model1 = smf.ols(\"Machine_failure ~ L + M\", data=failure_data_cleaned_v7).fit()\n",
    "\n",
    "# # Display the summary of the model\n",
    "# print(model1.summary())\n",
    "\n",
    "def ols_model(df,y, X, formula): \n",
    "    # ols_model = smf.ols(\"Machine_failure ~ L + M\", data=failure_data_cleaned_v7).fit()\n",
    "    # contstruct the formula string \n",
    "    # formula = f\"{y} ~ \" + \" + \".join(x)\n",
    "\n",
    "    ols_model = smf.ols(formula, data=df).fit()\n",
    "    return ols_model.summary()\n",
    "    print(ols_model.summary())\n",
    "\n",
    "# OLS model of continous vars \n",
    "ols_model(failure_data_cleaned_v7, y = 'process_temp', X = ['air_temp_normalised', \n",
    "                                                            'rotational_speed_normalised', 'torque', 'tool_wear']\n",
    "                                                            formula= \"process_temp ~ 'air_temp_normalised', \n",
    "                                                            'rotational_speed_normalised', 'torque', 'tool_wear')\n"
   ]
  },
  {
   "cell_type": "markdown",
   "metadata": {},
   "source": [
    "Dropping overly correlated columns (conclusion):\n",
    "- No columns will be dropped \n",
    "- TODO: supportive points from chi-squared analysis etc. \n",
    "- TODO: calculate VIFS of continous vars by doing OLS reg, create a ols_model func \n",
    "    - e.g. process_temp = etc etc, get r2, calculate VIFs "
   ]
  },
  {
   "cell_type": "markdown",
   "metadata": {},
   "source": [
    "# Scratch work"
   ]
  },
  {
   "cell_type": "markdown",
   "metadata": {},
   "source": []
  },
  {
   "cell_type": "markdown",
   "metadata": {},
   "source": [
    "# Analysis & Visualisation ideas "
   ]
  },
  {
   "cell_type": "code",
   "execution_count": null,
   "metadata": {},
   "outputs": [],
   "source": [
    "# EDA ideas \n",
    "\n",
    "# check the balance of the data set for `machine failure` variable.\n",
    "    # do this is with a bar chart \n",
    "# Do a correlation matrix of all numerical variables, where the dependant (y) variable is 'machine failure' \n",
    "\n",
    "# categorical plots \n",
    "# correcting the skew - do this first for the independant variables that have the highest correlation \n",
    "# count plots of our nominal category data (those with binary data)\n",
    "# summary plots - pairplot "
   ]
  },
  {
   "cell_type": "code",
   "execution_count": null,
   "metadata": {},
   "outputs": [],
   "source": [
    "failure_data_without_null['Machine failure'].value_counts()\n",
    "# Data set is heavyly in balanced, this will cause a bias in ML "
   ]
  },
  {
   "cell_type": "code",
   "execution_count": null,
   "metadata": {},
   "outputs": [],
   "source": [
    "# do this is with a bar chart \n",
    "# Do a correlation matrix of all numerical variables, where the dependant (y) variable is 'machine failure' \n",
    "\n",
    "# categorical plots \n",
    "# correcting the skew - do this first for the independant variables that have the highest correlation \n",
    "# count plots of our nominal category data (those with binary data)\n",
    "# summary plots - pairplot \n",
    "\n",
    "# create a bar plot of purpose vs amount\n",
    "sns.barplot(data=failure_data_after_transformations['Machine failure'])"
   ]
  }
 ],
 "metadata": {
  "kernelspec": {
   "display_name": "datascience_env",
   "language": "python",
   "name": "python3"
  },
  "language_info": {
   "codemirror_mode": {
    "name": "ipython",
    "version": 3
   },
   "file_extension": ".py",
   "mimetype": "text/x-python",
   "name": "python",
   "nbconvert_exporter": "python",
   "pygments_lexer": "ipython3",
   "version": "3.12.3"
  }
 },
 "nbformat": 4,
 "nbformat_minor": 2
}
