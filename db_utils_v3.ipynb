{
 "cells": [
  {
   "cell_type": "code",
   "execution_count": 1,
   "metadata": {},
   "outputs": [],
   "source": [
    "# Imports \n",
    "import yaml\n",
    "from sqlalchemy import create_engine\n",
    "import pandas as pd "
   ]
  },
  {
   "cell_type": "code",
   "execution_count": 2,
   "metadata": {},
   "outputs": [
    {
     "data": {
      "text/plain": [
       "{'RDS_HOST': 'eda-projects.cq2e8zno855e.eu-west-1.rds.amazonaws.com',\n",
       " 'RDS_PASSWORD': 'EDAprocessanalysis',\n",
       " 'RDS_USER': 'manufacturinganalyst',\n",
       " 'RDS_DATABASE': 'process_data',\n",
       " 'RDS_PORT': 5432,\n",
       " 'DATABASE_TYPE': 'postgresql',\n",
       " 'DBAPI': 'psycopg2'}"
      ]
     },
     "execution_count": 2,
     "metadata": {},
     "output_type": "execute_result"
    }
   ],
   "source": [
    "# Task 2\n",
    "# Step 3: function to parse a yaml file into a dictionary format \n",
    "yaml_file = 'credentials.yaml'\n",
    "\n",
    "def yaml_to_dict(yaml_file):\n",
    "        with open(yaml_file) as file:\n",
    "               return yaml.safe_load(file)\n",
    "\n",
    "# Test with the \"credentials.yaml\" file               \n",
    "credentials_dict = yaml_to_dict(yaml_file='credentials.yaml')\n",
    "credentials_dict       "
   ]
  },
  {
   "cell_type": "code",
   "execution_count": 3,
   "metadata": {},
   "outputs": [],
   "source": [
    "# Step 4 & 5 \n",
    "class RDSDatabaseConnector(dict):\n",
    "        '''\n",
    "        This Class is used to connect to the AWS RDS Database\n",
    "        '''\n",
    "        def __init__(self, dict):\n",
    "              self.dict = dict\n",
    "              \n",
    "      # define a function \n",
    "        def initialise_SQL_engine(self):\n",
    "              DATABASE_TYPE = self.dict['DATABASE_TYPE']\n",
    "              DBAPI = self.dict['DBAPI']\n",
    "              RDS_USER = self.dict['RDS_USER']\n",
    "              RDS_PASSWORD = self.dict['RDS_PASSWORD']\n",
    "              RDS_HOST = self.dict['RDS_HOST']\n",
    "              RDS_PORT = self.dict['RDS_PORT']\n",
    "              RDS_DATABASE = self.dict['RDS_DATABASE']\n",
    "\n",
    "              engine = create_engine(f\"{DATABASE_TYPE}+{DBAPI}://{RDS_USER}:{RDS_PASSWORD}@{RDS_HOST}:{RDS_PORT}/{RDS_DATABASE}\")\n",
    "              engine.execution_options(isolation_level='AUTOCOMMIT').connect()\n",
    "\n",
    "              return engine"
   ]
  },
  {
   "cell_type": "code",
   "execution_count": 5,
   "metadata": {},
   "outputs": [],
   "source": [
    "# Step 6 - extract data from RDS and return it as a pandas dataframe \n",
    "def extract_data_as_pandas_df(table_name, engine):\n",
    "    df = pd.read_sql_table(table_name, engine)\n",
    "    return df\n",
    "\n",
    "# Step 7 - export the data as a csv\n",
    "def export_data_as_csv(data, file_name):\n",
    "    data.to_csv(f\"{file_name}.csv\")\n",
    "#failure_data.to_csv('failure_data.csv')"
   ]
  },
  {
   "cell_type": "code",
   "execution_count": null,
   "metadata": {},
   "outputs": [],
   "source": [
    "# Testing the Class \n",
    "database_1 = RDSDatabaseConnector(credentials_dict).initialise_SQL_engine() \n",
    "database_1"
   ]
  },
  {
   "cell_type": "code",
   "execution_count": 6,
   "metadata": {},
   "outputs": [],
   "source": [
    "# Testing extract_data_as_pandas_df()\n",
    "df_1 = extract_data_as_pandas_df(table_name='failure_data', engine = database_1).head(1)"
   ]
  },
  {
   "cell_type": "code",
   "execution_count": 7,
   "metadata": {},
   "outputs": [],
   "source": [
    "# Testing export_data_as_csv()\n",
    "export_data_as_csv(df_1, 'test')"
   ]
  }
 ],
 "metadata": {
  "kernelspec": {
   "display_name": "datascience_env",
   "language": "python",
   "name": "python3"
  },
  "language_info": {
   "codemirror_mode": {
    "name": "ipython",
    "version": 3
   },
   "file_extension": ".py",
   "mimetype": "text/x-python",
   "name": "python",
   "nbconvert_exporter": "python",
   "pygments_lexer": "ipython3",
   "version": "3.12.3"
  }
 },
 "nbformat": 4,
 "nbformat_minor": 2
}
