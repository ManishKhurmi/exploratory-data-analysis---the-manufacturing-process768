{
 "cells": [
  {
   "cell_type": "code",
   "execution_count": 1,
   "metadata": {},
   "outputs": [],
   "source": [
    "# Imports \n",
    "import yaml\n",
    "from sqlalchemy import create_engine\n",
    "import pandas as pd "
   ]
  },
  {
   "cell_type": "code",
   "execution_count": 2,
   "metadata": {},
   "outputs": [
    {
     "data": {
      "text/plain": [
       "{'RDS_HOST': 'eda-projects.cq2e8zno855e.eu-west-1.rds.amazonaws.com',\n",
       " 'RDS_PASSWORD': 'EDAprocessanalysis',\n",
       " 'RDS_USER': 'manufacturinganalyst',\n",
       " 'RDS_DATABASE': 'process_data',\n",
       " 'RDS_PORT': 5432,\n",
       " 'DATABASE_TYPE': 'postgresql',\n",
       " 'DBAPI': 'psycopg2'}"
      ]
     },
     "execution_count": 2,
     "metadata": {},
     "output_type": "execute_result"
    }
   ],
   "source": [
    "# Task 2\n",
    "# Step 3: function to parse a yaml file into a dictionary format \n",
    "yaml_file = 'credentials.yaml'\n",
    "\n",
    "def yaml_to_dict(yaml_file):\n",
    "        '''\n",
    "        converts a YAML file into a python dictionary type\n",
    "        '''\n",
    "        with open(yaml_file) as file:\n",
    "               return yaml.safe_load(file)\n",
    "\n",
    "# Test with the \"credentials.yaml\" file               \n",
    "credentials_dict = yaml_to_dict(yaml_file='credentials.yaml')\n",
    "credentials_dict       "
   ]
  },
  {
   "cell_type": "code",
   "execution_count": 3,
   "metadata": {},
   "outputs": [],
   "source": [
    "# Step 4 & 5 \n",
    "class RDSDatabaseConnector(dict):\n",
    "        '''\n",
    "        This Class is used to connect to the AWS RDS Database\n",
    "        '''\n",
    "        def __init__(self, dict):\n",
    "              self.dict = dict\n",
    "              \n",
    "      # define a function \n",
    "        def initialise_SQL_engine(self):\n",
    "              '''\n",
    "              Initalises the connection using the relevant credentials\n",
    "              '''\n",
    "              DATABASE_TYPE = self.dict['DATABASE_TYPE']\n",
    "              DBAPI = self.dict['DBAPI']\n",
    "              RDS_USER = self.dict['RDS_USER']\n",
    "              RDS_PASSWORD = self.dict['RDS_PASSWORD']\n",
    "              RDS_HOST = self.dict['RDS_HOST']\n",
    "              RDS_PORT = self.dict['RDS_PORT']\n",
    "              RDS_DATABASE = self.dict['RDS_DATABASE']\n",
    "\n",
    "              engine = create_engine(f\"{DATABASE_TYPE}+{DBAPI}://{RDS_USER}:{RDS_PASSWORD}@{RDS_HOST}:{RDS_PORT}/{RDS_DATABASE}\")\n",
    "              engine.execution_options(isolation_level='AUTOCOMMIT').connect()\n",
    "\n",
    "              return engine"
   ]
  },
  {
   "cell_type": "code",
   "execution_count": 5,
   "metadata": {},
   "outputs": [],
   "source": [
    "# Step 6 - extract data from RDS and return it as a pandas dataframe \n",
    "def extract_data_as_pandas_df(table_name, engine):\n",
    "    '''\n",
    "    Extracts data as a pandas DataFrame \n",
    "    '''\n",
    "    df = pd.read_sql_table(table_name, engine)\n",
    "    return df\n",
    "\n",
    "# Step 7 - export the data as a csv\n",
    "def export_data_as_csv(data, file_name):\n",
    "    '''\n",
    "    Exports data as .csv file\n",
    "    '''\n",
    "    data.to_csv(f\"{file_name}.csv\")\n",
    "#failure_data.to_csv('failure_data.csv')"
   ]
  },
  {
   "cell_type": "code",
   "execution_count": null,
   "metadata": {},
   "outputs": [],
   "source": [
    "# Testing the Class \n",
    "database_1 = RDSDatabaseConnector(credentials_dict).initialise_SQL_engine() \n",
    "database_1"
   ]
  },
  {
   "cell_type": "code",
   "execution_count": 6,
   "metadata": {},
   "outputs": [],
   "source": [
    "# Testing extract_data_as_pandas_df()\n",
    "df_1 = extract_data_as_pandas_df(table_name='failure_data', engine = database_1).head(1)"
   ]
  },
  {
   "cell_type": "code",
   "execution_count": 7,
   "metadata": {},
   "outputs": [],
   "source": [
    "# Testing export_data_as_csv()\n",
    "export_data_as_csv(df_1, 'test')"
   ]
  },
  {
   "cell_type": "code",
   "execution_count": 8,
   "metadata": {},
   "outputs": [
    {
     "data": {
      "text/html": [
       "<div>\n",
       "<style scoped>\n",
       "    .dataframe tbody tr th:only-of-type {\n",
       "        vertical-align: middle;\n",
       "    }\n",
       "\n",
       "    .dataframe tbody tr th {\n",
       "        vertical-align: top;\n",
       "    }\n",
       "\n",
       "    .dataframe thead th {\n",
       "        text-align: right;\n",
       "    }\n",
       "</style>\n",
       "<table border=\"1\" class=\"dataframe\">\n",
       "  <thead>\n",
       "    <tr style=\"text-align: right;\">\n",
       "      <th></th>\n",
       "      <th>Unnamed: 0</th>\n",
       "      <th>UDI</th>\n",
       "      <th>Product ID</th>\n",
       "      <th>Type</th>\n",
       "      <th>Air temperature [K]</th>\n",
       "      <th>Process temperature [K]</th>\n",
       "      <th>Rotational speed [rpm]</th>\n",
       "      <th>Torque [Nm]</th>\n",
       "      <th>Tool wear [min]</th>\n",
       "      <th>Machine failure</th>\n",
       "      <th>TWF</th>\n",
       "      <th>HDF</th>\n",
       "      <th>PWF</th>\n",
       "      <th>OSF</th>\n",
       "      <th>RNF</th>\n",
       "    </tr>\n",
       "  </thead>\n",
       "  <tbody>\n",
       "    <tr>\n",
       "      <th>0</th>\n",
       "      <td>0</td>\n",
       "      <td>3416</td>\n",
       "      <td>L50595</td>\n",
       "      <td>L</td>\n",
       "      <td>301.4</td>\n",
       "      <td>310.4</td>\n",
       "      <td>1579</td>\n",
       "      <td>36.9</td>\n",
       "      <td>133.0</td>\n",
       "      <td>0</td>\n",
       "      <td>0</td>\n",
       "      <td>0</td>\n",
       "      <td>0</td>\n",
       "      <td>0</td>\n",
       "      <td>0</td>\n",
       "    </tr>\n",
       "    <tr>\n",
       "      <th>1</th>\n",
       "      <td>1</td>\n",
       "      <td>7130</td>\n",
       "      <td>L54309</td>\n",
       "      <td>L</td>\n",
       "      <td>300.6</td>\n",
       "      <td>310.0</td>\n",
       "      <td>1635</td>\n",
       "      <td>31.0</td>\n",
       "      <td>107.0</td>\n",
       "      <td>0</td>\n",
       "      <td>0</td>\n",
       "      <td>0</td>\n",
       "      <td>0</td>\n",
       "      <td>0</td>\n",
       "      <td>0</td>\n",
       "    </tr>\n",
       "    <tr>\n",
       "      <th>2</th>\n",
       "      <td>2</td>\n",
       "      <td>2320</td>\n",
       "      <td>M17179</td>\n",
       "      <td>M</td>\n",
       "      <td>299.2</td>\n",
       "      <td>308.8</td>\n",
       "      <td>1700</td>\n",
       "      <td>33.5</td>\n",
       "      <td>185.0</td>\n",
       "      <td>0</td>\n",
       "      <td>0</td>\n",
       "      <td>0</td>\n",
       "      <td>0</td>\n",
       "      <td>0</td>\n",
       "      <td>0</td>\n",
       "    </tr>\n",
       "  </tbody>\n",
       "</table>\n",
       "</div>"
      ],
      "text/plain": [
       "   Unnamed: 0   UDI Product ID Type  Air temperature [K]  \\\n",
       "0           0  3416     L50595    L                301.4   \n",
       "1           1  7130     L54309    L                300.6   \n",
       "2           2  2320     M17179    M                299.2   \n",
       "\n",
       "   Process temperature [K]  Rotational speed [rpm]  Torque [Nm]  \\\n",
       "0                    310.4                    1579         36.9   \n",
       "1                    310.0                    1635         31.0   \n",
       "2                    308.8                    1700         33.5   \n",
       "\n",
       "   Tool wear [min]  Machine failure  TWF  HDF  PWF  OSF  RNF  \n",
       "0            133.0                0    0    0    0    0    0  \n",
       "1            107.0                0    0    0    0    0    0  \n",
       "2            185.0                0    0    0    0    0    0  "
      ]
     },
     "execution_count": 8,
     "metadata": {},
     "output_type": "execute_result"
    }
   ],
   "source": [
    "# Inital glance at the data\n",
    "failure_data = pd.read_csv('failure_data.csv')\n",
    "failure_data.head(3)\n"
   ]
  },
  {
   "cell_type": "markdown",
   "metadata": {},
   "source": [
    "# Machine failure dataset data dictionary\n",
    "\n",
    "- **UID**: Unique identifier of the machining session\n",
    "- **product_ID**: Product specific serial number\n",
    "- **Type**: Quality of the product being created L, M, or H, for low, medium and high quality products\n",
    "- **air temperature [K]**: Average air temperature in the room during the process in Kelvin\n",
    "- **process temperature [K]**:  Average air temperature the machine was operating at during production in Kelvin\n",
    "- **Rotational speed [rpm]**: Average revolutions per minute the tool was operating at\n",
    "- **Torque [Nm]**: Torque generated by the tool in Newton-meters\n",
    "- **Tool wear [min]**: The current minutes of wear on the tool in minutes. H, M and L product manufacturing cause 5/3/2 minutes of tool wear. \n",
    "- **machine failure**: Label that indicates, whether the machine failed this particular run\n",
    "- **TWF (tool wear failure)**: Failure in the process due to the tool wearing out\n",
    "- **head dissipation failure (HDF)**: Lack of heat dissipation caused the process failure\n",
    "- **power failure (PWF)**: Failure in the process due to lack of power from the tool to complete the process\n",
    "- **overstrain failure (OSF)**: Failure due to the tool overstraining during the process\n",
    "- **random failures (RNF)**: Failures in the process which couldn't be categorised"
   ]
  },
  {
   "cell_type": "markdown",
   "metadata": {},
   "source": [
    "# My Thoughts from the description above\n",
    "- dependant variable is `machine failure`\n",
    "- The lower the qualiity of the product, the less the wear on the tools\n",
    "- TWF, HDF and OSF are likely to be correlated, potential endogeniety problem, "
   ]
  },
  {
   "cell_type": "markdown",
   "metadata": {},
   "source": []
  },
  {
   "cell_type": "markdown",
   "metadata": {},
   "source": []
  }
 ],
 "metadata": {
  "kernelspec": {
   "display_name": "datascience_env",
   "language": "python",
   "name": "python3"
  },
  "language_info": {
   "codemirror_mode": {
    "name": "ipython",
    "version": 3
   },
   "file_extension": ".py",
   "mimetype": "text/x-python",
   "name": "python",
   "nbconvert_exporter": "python",
   "pygments_lexer": "ipython3",
   "version": "3.12.3"
  }
 },
 "nbformat": 4,
 "nbformat_minor": 2
}
