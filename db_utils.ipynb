{
 "cells": [
  {
   "cell_type": "markdown",
   "metadata": {},
   "source": [
    "## Extracts the manufacturing failure data set from the cloud"
   ]
  },
  {
   "cell_type": "code",
   "execution_count": 18,
   "metadata": {},
   "outputs": [],
   "source": [
    "# Imports \n",
    "import yaml\n",
    "from sqlalchemy import create_engine\n",
    "import pandas as pd "
   ]
  },
  {
   "cell_type": "code",
   "execution_count": 19,
   "metadata": {},
   "outputs": [
    {
     "data": {
      "text/plain": [
       "{'RDS_HOST': 'eda-projects.cq2e8zno855e.eu-west-1.rds.amazonaws.com',\n",
       " 'RDS_PASSWORD': 'EDAprocessanalysis',\n",
       " 'RDS_USER': 'manufacturinganalyst',\n",
       " 'RDS_DATABASE': 'process_data',\n",
       " 'RDS_PORT': 5432,\n",
       " 'DATABASE_TYPE': 'postgresql',\n",
       " 'DBAPI': 'psycopg2'}"
      ]
     },
     "execution_count": 19,
     "metadata": {},
     "output_type": "execute_result"
    }
   ],
   "source": [
    "# Task 2\n",
    "# Step 3: function to parse a yaml file into a dictionary format \n",
    "yaml_file = 'credentials.yaml'\n",
    "\n",
    "def yaml_to_dict(yaml_file):\n",
    "        '''\n",
    "        converts a YAML file into a python dictionary type\n",
    "        '''\n",
    "        with open(yaml_file) as file:\n",
    "               return yaml.safe_load(file)\n",
    "\n",
    "# Test with the \"credentials.yaml\" file               \n",
    "credentials_dict = yaml_to_dict(yaml_file='credentials.yaml')\n",
    "credentials_dict       "
   ]
  },
  {
   "cell_type": "code",
   "execution_count": 20,
   "metadata": {},
   "outputs": [],
   "source": [
    "# Step 4 & 5 \n",
    "class RDSDatabaseConnector(dict):\n",
    "        '''\n",
    "        This Class is used to connect to the AWS RDS Database\n",
    "        '''\n",
    "        def __init__(self, dict):\n",
    "              self.dict = dict\n",
    "              \n",
    "      # define a function \n",
    "        def initialise_SQL_engine(self):\n",
    "              '''\n",
    "              Initalises the connection using the relevant credentials\n",
    "              '''\n",
    "              DATABASE_TYPE = self.dict['DATABASE_TYPE']\n",
    "              DBAPI = self.dict['DBAPI']\n",
    "              RDS_USER = self.dict['RDS_USER']\n",
    "              RDS_PASSWORD = self.dict['RDS_PASSWORD']\n",
    "              RDS_HOST = self.dict['RDS_HOST']\n",
    "              RDS_PORT = self.dict['RDS_PORT']\n",
    "              RDS_DATABASE = self.dict['RDS_DATABASE']\n",
    "\n",
    "              engine = create_engine(f\"{DATABASE_TYPE}+{DBAPI}://{RDS_USER}:{RDS_PASSWORD}@{RDS_HOST}:{RDS_PORT}/{RDS_DATABASE}\")\n",
    "              engine.execution_options(isolation_level='AUTOCOMMIT').connect()\n",
    "\n",
    "              return engine"
   ]
  },
  {
   "cell_type": "code",
   "execution_count": 21,
   "metadata": {},
   "outputs": [],
   "source": [
    "# Step 6 - extract data from RDS and return it as a pandas dataframe \n",
    "def extract_data_as_pandas_df(table_name, engine):\n",
    "    '''\n",
    "    Extracts data as a pandas DataFrame \n",
    "    '''\n",
    "    df = pd.read_sql_table(table_name, engine)\n",
    "    return df\n",
    "\n",
    "# Step 7 - export the data as a csv\n",
    "def export_data_as_csv(data, file_name):\n",
    "    '''\n",
    "    Exports data as .csv file\n",
    "    '''\n",
    "    data.to_csv(f\"{file_name}.csv\")\n",
    "#failure_data.to_csv('failure_data.csv')"
   ]
  },
  {
   "cell_type": "code",
   "execution_count": 22,
   "metadata": {},
   "outputs": [
    {
     "ename": "ImportError",
     "evalue": "dlopen(/Users/manishkhurmi/anaconda3/envs/manufacturing_eda/lib/python3.12/site-packages/psycopg2/_psycopg.cpython-312-darwin.so, 2): Library not loaded: @rpath/libpq.5.dylib\n  Referenced from: /Users/manishkhurmi/anaconda3/envs/manufacturing_eda/lib/python3.12/site-packages/psycopg2/_psycopg.cpython-312-darwin.so\n  Reason: image not found",
     "output_type": "error",
     "traceback": [
      "\u001b[0;31m---------------------------------------------------------------------------\u001b[0m",
      "\u001b[0;31mImportError\u001b[0m                               Traceback (most recent call last)",
      "Cell \u001b[0;32mIn[22], line 2\u001b[0m\n\u001b[1;32m      1\u001b[0m \u001b[38;5;66;03m# Testing the Class \u001b[39;00m\n\u001b[0;32m----> 2\u001b[0m database_1 \u001b[38;5;241m=\u001b[39m \u001b[43mRDSDatabaseConnector\u001b[49m\u001b[43m(\u001b[49m\u001b[43mcredentials_dict\u001b[49m\u001b[43m)\u001b[49m\u001b[38;5;241;43m.\u001b[39;49m\u001b[43minitialise_SQL_engine\u001b[49m\u001b[43m(\u001b[49m\u001b[43m)\u001b[49m \n\u001b[1;32m      3\u001b[0m database_1\n",
      "Cell \u001b[0;32mIn[20], line 22\u001b[0m, in \u001b[0;36mRDSDatabaseConnector.initialise_SQL_engine\u001b[0;34m(self)\u001b[0m\n\u001b[1;32m     19\u001b[0m RDS_PORT \u001b[38;5;241m=\u001b[39m \u001b[38;5;28mself\u001b[39m\u001b[38;5;241m.\u001b[39mdict[\u001b[38;5;124m'\u001b[39m\u001b[38;5;124mRDS_PORT\u001b[39m\u001b[38;5;124m'\u001b[39m]\n\u001b[1;32m     20\u001b[0m RDS_DATABASE \u001b[38;5;241m=\u001b[39m \u001b[38;5;28mself\u001b[39m\u001b[38;5;241m.\u001b[39mdict[\u001b[38;5;124m'\u001b[39m\u001b[38;5;124mRDS_DATABASE\u001b[39m\u001b[38;5;124m'\u001b[39m]\n\u001b[0;32m---> 22\u001b[0m engine \u001b[38;5;241m=\u001b[39m \u001b[43mcreate_engine\u001b[49m\u001b[43m(\u001b[49m\u001b[38;5;124;43mf\u001b[39;49m\u001b[38;5;124;43m\"\u001b[39;49m\u001b[38;5;132;43;01m{\u001b[39;49;00m\u001b[43mDATABASE_TYPE\u001b[49m\u001b[38;5;132;43;01m}\u001b[39;49;00m\u001b[38;5;124;43m+\u001b[39;49m\u001b[38;5;132;43;01m{\u001b[39;49;00m\u001b[43mDBAPI\u001b[49m\u001b[38;5;132;43;01m}\u001b[39;49;00m\u001b[38;5;124;43m://\u001b[39;49m\u001b[38;5;132;43;01m{\u001b[39;49;00m\u001b[43mRDS_USER\u001b[49m\u001b[38;5;132;43;01m}\u001b[39;49;00m\u001b[38;5;124;43m:\u001b[39;49m\u001b[38;5;132;43;01m{\u001b[39;49;00m\u001b[43mRDS_PASSWORD\u001b[49m\u001b[38;5;132;43;01m}\u001b[39;49;00m\u001b[38;5;124;43m@\u001b[39;49m\u001b[38;5;132;43;01m{\u001b[39;49;00m\u001b[43mRDS_HOST\u001b[49m\u001b[38;5;132;43;01m}\u001b[39;49;00m\u001b[38;5;124;43m:\u001b[39;49m\u001b[38;5;132;43;01m{\u001b[39;49;00m\u001b[43mRDS_PORT\u001b[49m\u001b[38;5;132;43;01m}\u001b[39;49;00m\u001b[38;5;124;43m/\u001b[39;49m\u001b[38;5;132;43;01m{\u001b[39;49;00m\u001b[43mRDS_DATABASE\u001b[49m\u001b[38;5;132;43;01m}\u001b[39;49;00m\u001b[38;5;124;43m\"\u001b[39;49m\u001b[43m)\u001b[49m\n\u001b[1;32m     23\u001b[0m engine\u001b[38;5;241m.\u001b[39mexecution_options(isolation_level\u001b[38;5;241m=\u001b[39m\u001b[38;5;124m'\u001b[39m\u001b[38;5;124mAUTOCOMMIT\u001b[39m\u001b[38;5;124m'\u001b[39m)\u001b[38;5;241m.\u001b[39mconnect()\n\u001b[1;32m     25\u001b[0m \u001b[38;5;28;01mreturn\u001b[39;00m engine\n",
      "File \u001b[0;32m<string>:2\u001b[0m, in \u001b[0;36mcreate_engine\u001b[0;34m(url, **kwargs)\u001b[0m\n",
      "File \u001b[0;32m~/anaconda3/envs/manufacturing_eda/lib/python3.12/site-packages/sqlalchemy/util/deprecations.py:281\u001b[0m, in \u001b[0;36mdeprecated_params.<locals>.decorate.<locals>.warned\u001b[0;34m(fn, *args, **kwargs)\u001b[0m\n\u001b[1;32m    274\u001b[0m     \u001b[38;5;28;01mif\u001b[39;00m m \u001b[38;5;129;01min\u001b[39;00m kwargs:\n\u001b[1;32m    275\u001b[0m         _warn_with_version(\n\u001b[1;32m    276\u001b[0m             messages[m],\n\u001b[1;32m    277\u001b[0m             versions[m],\n\u001b[1;32m    278\u001b[0m             version_warnings[m],\n\u001b[1;32m    279\u001b[0m             stacklevel\u001b[38;5;241m=\u001b[39m\u001b[38;5;241m3\u001b[39m,\n\u001b[1;32m    280\u001b[0m         )\n\u001b[0;32m--> 281\u001b[0m \u001b[38;5;28;01mreturn\u001b[39;00m \u001b[43mfn\u001b[49m\u001b[43m(\u001b[49m\u001b[38;5;241;43m*\u001b[39;49m\u001b[43margs\u001b[49m\u001b[43m,\u001b[49m\u001b[43m \u001b[49m\u001b[38;5;241;43m*\u001b[39;49m\u001b[38;5;241;43m*\u001b[39;49m\u001b[43mkwargs\u001b[49m\u001b[43m)\u001b[49m\n",
      "File \u001b[0;32m~/anaconda3/envs/manufacturing_eda/lib/python3.12/site-packages/sqlalchemy/engine/create.py:599\u001b[0m, in \u001b[0;36mcreate_engine\u001b[0;34m(url, **kwargs)\u001b[0m\n\u001b[1;32m    597\u001b[0m         \u001b[38;5;28;01mif\u001b[39;00m k \u001b[38;5;129;01min\u001b[39;00m kwargs:\n\u001b[1;32m    598\u001b[0m             dbapi_args[k] \u001b[38;5;241m=\u001b[39m pop_kwarg(k)\n\u001b[0;32m--> 599\u001b[0m     dbapi \u001b[38;5;241m=\u001b[39m \u001b[43mdbapi_meth\u001b[49m\u001b[43m(\u001b[49m\u001b[38;5;241;43m*\u001b[39;49m\u001b[38;5;241;43m*\u001b[39;49m\u001b[43mdbapi_args\u001b[49m\u001b[43m)\u001b[49m\n\u001b[1;32m    601\u001b[0m dialect_args[\u001b[38;5;124m\"\u001b[39m\u001b[38;5;124mdbapi\u001b[39m\u001b[38;5;124m\"\u001b[39m] \u001b[38;5;241m=\u001b[39m dbapi\n\u001b[1;32m    603\u001b[0m dialect_args\u001b[38;5;241m.\u001b[39msetdefault(\u001b[38;5;124m\"\u001b[39m\u001b[38;5;124mcompiler_linting\u001b[39m\u001b[38;5;124m\"\u001b[39m, compiler\u001b[38;5;241m.\u001b[39mNO_LINTING)\n",
      "File \u001b[0;32m~/anaconda3/envs/manufacturing_eda/lib/python3.12/site-packages/sqlalchemy/dialects/postgresql/psycopg2.py:690\u001b[0m, in \u001b[0;36mPGDialect_psycopg2.import_dbapi\u001b[0;34m(cls)\u001b[0m\n\u001b[1;32m    688\u001b[0m \u001b[38;5;129m@classmethod\u001b[39m\n\u001b[1;32m    689\u001b[0m \u001b[38;5;28;01mdef\u001b[39;00m \u001b[38;5;21mimport_dbapi\u001b[39m(\u001b[38;5;28mcls\u001b[39m):\n\u001b[0;32m--> 690\u001b[0m     \u001b[38;5;28;01mimport\u001b[39;00m \u001b[38;5;21;01mpsycopg2\u001b[39;00m\n\u001b[1;32m    692\u001b[0m     \u001b[38;5;28;01mreturn\u001b[39;00m psycopg2\n",
      "File \u001b[0;32m~/anaconda3/envs/manufacturing_eda/lib/python3.12/site-packages/psycopg2/__init__.py:51\u001b[0m\n\u001b[1;32m      1\u001b[0m \u001b[38;5;124;03m\"\"\"A Python driver for PostgreSQL\u001b[39;00m\n\u001b[1;32m      2\u001b[0m \n\u001b[1;32m      3\u001b[0m \u001b[38;5;124;03mpsycopg is a PostgreSQL_ database adapter for the Python_ programming\u001b[39;00m\n\u001b[0;32m   (...)\u001b[0m\n\u001b[1;32m     17\u001b[0m \u001b[38;5;124;03m    TimeFromTicks, Timestamp, TimestampFromTicks\u001b[39;00m\n\u001b[1;32m     18\u001b[0m \u001b[38;5;124;03m\"\"\"\u001b[39;00m\n\u001b[1;32m     19\u001b[0m \u001b[38;5;66;03m# psycopg/__init__.py - initialization of the psycopg module\u001b[39;00m\n\u001b[1;32m     20\u001b[0m \u001b[38;5;66;03m#\u001b[39;00m\n\u001b[1;32m     21\u001b[0m \u001b[38;5;66;03m# Copyright (C) 2003-2019 Federico Di Gregorio  <fog@debian.org>\u001b[39;00m\n\u001b[0;32m   (...)\u001b[0m\n\u001b[1;32m     48\u001b[0m \n\u001b[1;32m     49\u001b[0m \u001b[38;5;66;03m# Import the DBAPI-2.0 stuff into top-level module.\u001b[39;00m\n\u001b[0;32m---> 51\u001b[0m \u001b[38;5;28;01mfrom\u001b[39;00m \u001b[38;5;21;01mpsycopg2\u001b[39;00m\u001b[38;5;21;01m.\u001b[39;00m\u001b[38;5;21;01m_psycopg\u001b[39;00m \u001b[38;5;28;01mimport\u001b[39;00m (                     \u001b[38;5;66;03m# noqa\u001b[39;00m\n\u001b[1;32m     52\u001b[0m     BINARY, NUMBER, STRING, DATETIME, ROWID,\n\u001b[1;32m     53\u001b[0m \n\u001b[1;32m     54\u001b[0m     Binary, Date, Time, Timestamp,\n\u001b[1;32m     55\u001b[0m     DateFromTicks, TimeFromTicks, TimestampFromTicks,\n\u001b[1;32m     56\u001b[0m \n\u001b[1;32m     57\u001b[0m     Error, \u001b[38;5;167;01mWarning\u001b[39;00m, DataError, DatabaseError, ProgrammingError, IntegrityError,\n\u001b[1;32m     58\u001b[0m     InterfaceError, InternalError, NotSupportedError, OperationalError,\n\u001b[1;32m     59\u001b[0m \n\u001b[1;32m     60\u001b[0m     _connect, apilevel, threadsafety, paramstyle,\n\u001b[1;32m     61\u001b[0m     __version__, __libpq_version__,\n\u001b[1;32m     62\u001b[0m )\n\u001b[1;32m     65\u001b[0m \u001b[38;5;66;03m# Register default adapters.\u001b[39;00m\n\u001b[1;32m     67\u001b[0m \u001b[38;5;28;01mfrom\u001b[39;00m \u001b[38;5;21;01mpsycopg2\u001b[39;00m \u001b[38;5;28;01mimport\u001b[39;00m extensions \u001b[38;5;28;01mas\u001b[39;00m _ext\n",
      "\u001b[0;31mImportError\u001b[0m: dlopen(/Users/manishkhurmi/anaconda3/envs/manufacturing_eda/lib/python3.12/site-packages/psycopg2/_psycopg.cpython-312-darwin.so, 2): Library not loaded: @rpath/libpq.5.dylib\n  Referenced from: /Users/manishkhurmi/anaconda3/envs/manufacturing_eda/lib/python3.12/site-packages/psycopg2/_psycopg.cpython-312-darwin.so\n  Reason: image not found"
     ]
    }
   ],
   "source": [
    "# Testing the Class \n",
    "database_1 = RDSDatabaseConnector(credentials_dict).initialise_SQL_engine() \n",
    "database_1"
   ]
  },
  {
   "cell_type": "code",
   "execution_count": 6,
   "metadata": {},
   "outputs": [],
   "source": [
    "# Testing extract_data_as_pandas_df()\n",
    "df_1 = extract_data_as_pandas_df(table_name='failure_data', engine = database_1).head(1)"
   ]
  },
  {
   "cell_type": "code",
   "execution_count": 7,
   "metadata": {},
   "outputs": [],
   "source": [
    "# Testing export_data_as_csv()\n",
    "export_data_as_csv(df_1, 'test')"
   ]
  },
  {
   "cell_type": "code",
   "execution_count": null,
   "metadata": {},
   "outputs": [],
   "source": [
    "# Inital glance at the data\n",
    "failure_data = pd.read_csv('failure_data.csv')\n",
    "failure_data.head(3)\n"
   ]
  },
  {
   "cell_type": "code",
   "execution_count": null,
   "metadata": {},
   "outputs": [],
   "source": [
    "failure_data.describe()"
   ]
  },
  {
   "cell_type": "code",
   "execution_count": null,
   "metadata": {},
   "outputs": [],
   "source": [
    "failure_data\n",
    "percentage_of_null = failure_data.isnull().sum() / len(failure_data) * 100  \n",
    "percentage_of_null[percentage_of_null > 0]"
   ]
  },
  {
   "cell_type": "markdown",
   "metadata": {},
   "source": [
    "#### Machine failure dataset data dictionary\n",
    "\n",
    "- **UID**: Unique identifier of the machining session\n",
    "- **product_ID**: Product specific serial number\n",
    "- **Type**: Quality of the product being created L, M, or H, for low, medium and high quality products\n",
    "- **air temperature [K]**: Average air temperature in the room during the process in Kelvin\n",
    "- **process temperature [K]**:  Average air temperature the machine was operating at during production in Kelvin\n",
    "- **Rotational speed [rpm]**: Average revolutions per minute the tool was operating at\n",
    "- **Torque [Nm]**: Torque generated by the tool in Newton-meters\n",
    "- **Tool wear [min]**: The current minutes of wear on the tool in minutes. H, M and L product manufacturing cause 5/3/2 minutes of tool wear. \n",
    "- **machine failure**: Label that indicates, whether the machine failed this particular run\n",
    "- **TWF (tool wear failure)**: Failure in the process due to the tool wearing out\n",
    "- **head dissipation failure (HDF)**: Lack of heat dissipation caused the process failure\n",
    "- **power failure (PWF)**: Failure in the process due to lack of power from the tool to complete the process\n",
    "- **overstrain failure (OSF)**: Failure due to the tool overstraining during the process\n",
    "- **random failures (RNF)**: Failures in the process which couldn't be categorised"
   ]
  },
  {
   "cell_type": "markdown",
   "metadata": {},
   "source": [
    "#### Initial thoughts on the data \n",
    "- The dependant variable is `machine failure`\n",
    "- The lower the qualiity of the product, the less the wear on the tools\n",
    "- TWF, HDF and OSF are likely to be correlated, potential endogeniety problem."
   ]
  },
  {
   "cell_type": "markdown",
   "metadata": {},
   "source": []
  }
 ],
 "metadata": {
  "kernelspec": {
   "display_name": "datascience_env",
   "language": "python",
   "name": "python3"
  },
  "language_info": {
   "codemirror_mode": {
    "name": "ipython",
    "version": 3
   },
   "file_extension": ".py",
   "mimetype": "text/x-python",
   "name": "python",
   "nbconvert_exporter": "python",
   "pygments_lexer": "ipython3",
   "version": "3.12.3"
  }
 },
 "nbformat": 4,
 "nbformat_minor": 2
}
